{
  "cells": [
    {
      "cell_type": "markdown",
      "metadata": {
        "id": "7SFaF1Hnw3OX"
      },
      "source": [
        "# COGS 108 - Final Project Proposal"
      ]
    },
    {
      "cell_type": "markdown",
      "metadata": {
        "id": "kAjpqdL4w3OZ"
      },
      "source": [
        "# Names\n",
        "\n",
        "- Albert Henderson\n",
        "- Antonio (Jose) Gomez\n",
        "- Yixuan Jiao\n",
        "- Dat Ta"
      ]
    },
    {
      "cell_type": "markdown",
      "metadata": {
        "id": "SqLXB-5hw3Oa"
      },
      "source": [
        "# Research Question"
      ]
    },
    {
      "cell_type": "markdown",
      "metadata": {
        "id": "GagPVTJow3Oa"
      },
      "source": [
        "Does different mask policies correlate to the number of covid cases across different colleges."
      ]
    },
    {
      "cell_type": "markdown",
      "metadata": {
        "id": "fZQ1OlgKw3Ob"
      },
      "source": [
        "## Background and Prior Work"
      ]
    },
    {
      "cell_type": "markdown",
      "metadata": {
        "id": "UopkfoHtw3Ob"
      },
      "source": [
        "COVID-19 started in the beginning of 2020. After 2 years of mandatory mask policies, social distancing and vaccinations to help fight the virus we still see the affect of COVID-19 across the country. As college students our social and learning life has been very different. We are looking forward to see how difference policies and regulations across campuses in the United States affects students.<br>\n",
        "\n",
        "The dataset we get inspired from:\n",
        "The New York Times. (2020, November 20). U.S. coronavirus data: Frequently asked questions. The New York Times. Retrieved April 22, 2022, from https://www.nytimes.com/interactive/2020/us/about-coronavirus-data-maps.html <br>\n",
        "\n",
        "There are also some other studies could help us to get our hypothesis:\n",
        "U.S. Department of Health and Human Services. (2022, March 10). Mandatory masking in schools reduced COVID-19 cases during Delta Surge. National Institutes of Health. Retrieved April 22, 2022, from https://www.nih.gov/news-events/news-releases/mandatory-masking-schools-reduced-covid-19-cases-during-delta-surge \n"
      ]
    },
    {
      "cell_type": "markdown",
      "metadata": {
        "id": "TOERJpapw3Oc"
      },
      "source": [
        "# Hypothesis\n"
      ]
    },
    {
      "cell_type": "markdown",
      "metadata": {
        "id": "c5Pa0TD8w3Od"
      },
      "source": [
        "Hypothesis: The madatory mask policies in certain states possitively interfere the spreading of Covid.\n",
        "<br>Prediction: The states having mask policies and higher mask wearing rate would have slower increasing rate of Covid cases. "
      ]
    },
    {
      "cell_type": "markdown",
      "metadata": {
        "id": "QpQsfzKyw3Od"
      },
      "source": [
        "# Data"
      ]
    },
    {
      "cell_type": "markdown",
      "metadata": {
        "id": "GeUjtkQTw3Od"
      },
      "source": [
        "The dataset we found from New York Times fits the purpose of our research. It contains csv files recording the states/counties new case and death number from 2020 to 2022. Each observation contians date, unique id by states/counties, new case number and new death number. Also, there is a csv file rating the mask wearing condition among 3000 counties. We might combine that file with our own research result of the mandatory mask policy."
      ]
    },
    {
      "cell_type": "markdown",
      "metadata": {
        "id": "UpuSYHk0w3Oe"
      },
      "source": [
        "# Ethics & Privacy"
      ]
    },
    {
      "cell_type": "markdown",
      "metadata": {
        "id": "jEufzS-9w3Oe"
      },
      "source": [
        "Possible ethicss & Privcy concern so far:\n",
        "<br>Informed consent: were people awared to share their health condition information to the medical organization?\n",
        "<br> Are indiviuals personal information removed?"
      ]
    },
    {
      "cell_type": "markdown",
      "metadata": {
        "id": "lQ4kdgSVw3Of"
      },
      "source": [
        "# Team Expectations "
      ]
    },
    {
      "cell_type": "markdown",
      "metadata": {
        "id": "ghH2BAhBw3Of"
      },
      "source": [
        "* Everyone put equal effort into their parts of the project\n",
        "* Be respectful of others ideas and contributions\n",
        "* Each persons task is completed by the agreed upon deadline\n",
        "* Come to all group meetings and communicate if you are not able to make it\n"
      ]
    },
    {
      "cell_type": "markdown",
      "metadata": {
        "id": "QFoJbqTqw3Of"
      },
      "source": [
        "# Project Timeline Proposal"
      ]
    },
    {
      "cell_type": "markdown",
      "metadata": {
        "id": "WNGSyqjkw3Og"
      },
      "source": [
        "| Meeting Date  | Meeting Time| Completed Before Meeting  | Discuss at Meeting |\n",
        "|---|---|---|---|\n",
        "| 4/20  |  1 PM | Finding some interesting real world dataset | Determine some candidate topics and assess their feasibility | \n",
        "| 4/21  |  1 PM | Reading the expectation of project proposal | Finalize the topic and find prior works. Discuss about the project proposal. | \n",
        "|  4/27 |  12 PM  |  | Making sure we are having all the necessary data for projects | \n",
        "|  5/04 |  12 PM  |  | Data cleanup and begin analysis | \n",
        "|  5/11 |  12 PM  |  | TBD | \n",
        "|  5/18 |  12 PM  | Completed Data Analysis and visual reports | Problems, hurdles encountered during data analysis | \n",
        "|  5/25 |  12 PM  |  | Begin writing final report | \n",
        "|  6/01 |  12 PM  |  | Finalizing details, record video presentation | "
      ]
    },
    {
      "cell_type": "code",
      "source": [
        ""
      ],
      "metadata": {
        "id": "ulVOtJlunX54"
      },
      "execution_count": null,
      "outputs": []
    }
  ],
  "metadata": {
    "kernelspec": {
      "display_name": "Python 3",
      "language": "python",
      "name": "python3"
    },
    "language_info": {
      "codemirror_mode": {
        "name": "ipython",
        "version": 3
      },
      "file_extension": ".py",
      "mimetype": "text/x-python",
      "name": "python",
      "nbconvert_exporter": "python",
      "pygments_lexer": "ipython3",
      "version": "3.7.9"
    },
    "colab": {
      "name": "ProjectProposalGroup054Sp22.ipynb",
      "provenance": [],
      "collapsed_sections": []
    }
  },
  "nbformat": 4,
  "nbformat_minor": 0
}

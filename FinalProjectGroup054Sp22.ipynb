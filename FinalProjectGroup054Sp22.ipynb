{
  "cells": [
    {
      "cell_type": "markdown",
      "metadata": {
        "id": "-7LqwNNnbMJM"
      },
      "source": [
        "# COGS 108 - Final Project: Household income and Covid rates; connected?\n",
        "\n",
        "https://youtu.be/FjOWwZ_HUvE"
      ]
    },
    {
      "cell_type": "markdown",
      "metadata": {
        "id": "xzjNf84ubMJP"
      },
      "source": [
        "## Permissions\n",
        "\n",
        "Place an `X` in the appropriate bracket below to specify if you would like your group's project to be made available to the public. (Note that student names will be included (but PIDs will be scraped from any groups who include their PIDs).\n",
        "\n",
        "* [  ] YES - make available\n",
        "* [ X ] NO - keep private"
      ]
    },
    {
      "cell_type": "markdown",
      "metadata": {
        "id": "iy0boTflbMJP"
      },
      "source": [
        "# Overview"
      ]
    },
    {
      "cell_type": "markdown",
      "metadata": {
        "id": "jZu5-kBUbMJP"
      },
      "source": [
        "In this project our group did an analysis to see if household income has any connection to an individuals COVID-19 contract rate. From this project we found their to be a connection between the two. We saw that the lower someone's income is, the higher their chance of contracting covid is."
      ]
    },
    {
      "cell_type": "markdown",
      "metadata": {
        "id": "AzbMEaWzbMJQ"
      },
      "source": [
        "# Names\n",
        "\n",
        "- Albert Henderson\n",
        "- Yixuan Jiao\n",
        "- Antonio (Jose) Gomez\n",
        "- Dat Ta"
      ]
    },
    {
      "cell_type": "markdown",
      "metadata": {
        "id": "_1mXJb6_bMJQ"
      },
      "source": [
        "<a id='research_question'></a>\n",
        "# Research Question"
      ]
    },
    {
      "cell_type": "markdown",
      "metadata": {
        "id": "C9fcbBirbMJQ"
      },
      "source": [
        "Do Americans living in poor households (income below U.S. Federal Poverty threshold) get/contract Covid at a higher rate?"
      ]
    },
    {
      "cell_type": "markdown",
      "metadata": {
        "id": "7ga0whDnbMJR"
      },
      "source": [
        "<a id='background'></a>\n",
        "\n",
        "## Background & Prior Work"
      ]
    },
    {
      "cell_type": "markdown",
      "metadata": {
        "id": "nHgaRXN0bMJR"
      },
      "source": [
        "\n",
        "COVID-19 started in the beginning of 2020. After 2 years of mandatory mask policies, social distancing and vaccinations to help fight the virus we still see the affect of COVID-19 across the country. As college students our social and learning life has been very different. We are looking forward to investing if different household incomes effect COVID-19 infection rates across the United States.\n",
        "\n",
        "\n",
        "References (include links):\n",
        "- 1) https://www.who.int/health-topics/coronavirus#tab=tab_1\n",
        "- 2) https://covid.cdc.gov/covid-data-tracker/#datatracker-home"
      ]
    },
    {
      "cell_type": "markdown",
      "metadata": {
        "id": "osw5-OwsbMJR"
      },
      "source": [
        "# Hypothesis\n"
      ]
    },
    {
      "cell_type": "markdown",
      "metadata": {
        "id": "pbq2n8AQbMJS"
      },
      "source": [
        "Hypothesis: If a region is low income then they are impacted more by COVID-19\n",
        "\n",
        "Prediction: The poorer the region is, the more negatively effected they are by COVID-19 (higher infection rate and death rate)"
      ]
    },
    {
      "cell_type": "markdown",
      "metadata": {
        "id": "Y4qAMam5bMJS"
      },
      "source": [
        "# Dataset(s)"
      ]
    },
    {
      "cell_type": "markdown",
      "source": [
        "We will be using the poverty counts and percentages of each county and compare that with the number of covid cases across different counties throughout the country in order to determine if poverty affect covid cases. To do this we chose to analyze 3 large datasets, 1 from the New York Times and 2 from the U.S. Census Bureau with over a total of 100,000 observations-before cleaning it up."
      ],
      "metadata": {
        "id": "RKqum7sP6qAm"
      }
    },
    {
      "cell_type": "markdown",
      "metadata": {
        "id": "n_yz3OSDbMJS"
      },
      "source": [
        "- Dataset Name: NYT Covid 19 states data (us-states.csv)\n",
        "- Link to the dataset: https://github.com/nytimes/covid-19-data/blob/master/us-states.csv\n",
        "- Number of observations: 43910 (each state will have accumulated observation by date)\n",
        "- This dataset gives the number of cases and deaths in each states from 2020-2022\n",
        "\n",
        "\n",
        "- Dataset Name: 2020-2021 estimate population by counties\n",
        "- Link to the dataset: https://www2.census.gov/programs-surveys/popest/datasets/2020-2021/counties/totals/co-est2021-alldata.csv\n",
        "- Number of observations: 3194\n",
        "- This dataset gives the 2020-2021 population of each county in the US\n",
        "\n",
        "\n",
        "- Dataset Name: 2020 Small Area Income and Poverty Estimates (SAIPE)\n",
        "- Link to the dataset: https://www.census.gov/data-tools/demo/saipe/#/?map_geoSelector=aa_c\n",
        "- Number of observations: 3195\n",
        "- This dataset has the small area income and estimates of poverty in those areas\n",
        "\n",
        "\n"
      ]
    },
    {
      "cell_type": "markdown",
      "metadata": {
        "id": "NaPDxcnEbMJS"
      },
      "source": [
        "# Setup"
      ]
    },
    {
      "cell_type": "code",
      "execution_count": 1,
      "metadata": {
        "colab": {
          "base_uri": "https://localhost:8080/"
        },
        "id": "paR1ffPHbMJT",
        "outputId": "19ee944e-dc2f-470f-c17d-62818eb33542"
      },
      "outputs": [
        {
          "output_type": "stream",
          "name": "stderr",
          "text": [
            "/usr/local/lib/python3.7/dist-packages/statsmodels/tools/_testing.py:19: FutureWarning: pandas.util.testing is deprecated. Use the functions in the public API at pandas.testing instead.\n",
            "  import pandas.util.testing as tm\n"
          ]
        }
      ],
      "source": [
        "import pandas as pd\n",
        "import seaborn as sns\n",
        "import numpy as np\n",
        "import matplotlib.pyplot as plt\n",
        "import patsy\n",
        "import statsmodels.api as sm"
      ]
    },
    {
      "cell_type": "markdown",
      "metadata": {
        "id": "669c5ZB4bMJT"
      },
      "source": [
        "# Data Cleaning"
      ]
    },
    {
      "cell_type": "markdown",
      "metadata": {
        "id": "meYrQGF0bMJT"
      },
      "source": [
        "To clean the population and poverty data sets from the U.S. Census Bureau, we eliminated any rows with missing observations, removed a significant amount of columns we didnt need for our analysis and made sure each one was of the appropriate data type. Then renamed the columns.\n",
        "\n",
        "For the New York Times data set the table was already very clean. With only five columns, each of which describing variables necessary for our analysis, such as; location, date, cases and deaths.\n",
        "\n",
        "Then we merged our data sets to create a new DataFrame. After, we noticed that cases and deaths are highly related to the population size and needed to be normalized by state population."
      ]
    },
    {
      "cell_type": "code",
      "source": [
        "# Loading states covid data\n",
        "# A county covid dataset are also available under the same resporitory, we could retrieve it as we need following the same procedure like retrieving this one.\n",
        "covid_states = pd.read_csv('https://raw.githubusercontent.com/nytimes/covid-19-data/master/us-states.csv')\n",
        "covid_states.head()"
      ],
      "metadata": {
        "colab": {
          "base_uri": "https://localhost:8080/",
          "height": 204
        },
        "id": "7OTNvYEmfr6t",
        "outputId": "9a287c23-c7d8-4768-e39a-3805f6d58825"
      },
      "execution_count": 2,
      "outputs": [
        {
          "output_type": "execute_result",
          "data": {
            "text/plain": [
              "         date       state  fips  cases  deaths\n",
              "0  2020-01-21  Washington    53      1       0\n",
              "1  2020-01-22  Washington    53      1       0\n",
              "2  2020-01-23  Washington    53      1       0\n",
              "3  2020-01-24    Illinois    17      1       0\n",
              "4  2020-01-24  Washington    53      1       0"
            ],
            "text/html": [
              "\n",
              "  <div id=\"df-1db388ac-f629-4004-8c29-8770f0082dd0\">\n",
              "    <div class=\"colab-df-container\">\n",
              "      <div>\n",
              "<style scoped>\n",
              "    .dataframe tbody tr th:only-of-type {\n",
              "        vertical-align: middle;\n",
              "    }\n",
              "\n",
              "    .dataframe tbody tr th {\n",
              "        vertical-align: top;\n",
              "    }\n",
              "\n",
              "    .dataframe thead th {\n",
              "        text-align: right;\n",
              "    }\n",
              "</style>\n",
              "<table border=\"1\" class=\"dataframe\">\n",
              "  <thead>\n",
              "    <tr style=\"text-align: right;\">\n",
              "      <th></th>\n",
              "      <th>date</th>\n",
              "      <th>state</th>\n",
              "      <th>fips</th>\n",
              "      <th>cases</th>\n",
              "      <th>deaths</th>\n",
              "    </tr>\n",
              "  </thead>\n",
              "  <tbody>\n",
              "    <tr>\n",
              "      <th>0</th>\n",
              "      <td>2020-01-21</td>\n",
              "      <td>Washington</td>\n",
              "      <td>53</td>\n",
              "      <td>1</td>\n",
              "      <td>0</td>\n",
              "    </tr>\n",
              "    <tr>\n",
              "      <th>1</th>\n",
              "      <td>2020-01-22</td>\n",
              "      <td>Washington</td>\n",
              "      <td>53</td>\n",
              "      <td>1</td>\n",
              "      <td>0</td>\n",
              "    </tr>\n",
              "    <tr>\n",
              "      <th>2</th>\n",
              "      <td>2020-01-23</td>\n",
              "      <td>Washington</td>\n",
              "      <td>53</td>\n",
              "      <td>1</td>\n",
              "      <td>0</td>\n",
              "    </tr>\n",
              "    <tr>\n",
              "      <th>3</th>\n",
              "      <td>2020-01-24</td>\n",
              "      <td>Illinois</td>\n",
              "      <td>17</td>\n",
              "      <td>1</td>\n",
              "      <td>0</td>\n",
              "    </tr>\n",
              "    <tr>\n",
              "      <th>4</th>\n",
              "      <td>2020-01-24</td>\n",
              "      <td>Washington</td>\n",
              "      <td>53</td>\n",
              "      <td>1</td>\n",
              "      <td>0</td>\n",
              "    </tr>\n",
              "  </tbody>\n",
              "</table>\n",
              "</div>\n",
              "      <button class=\"colab-df-convert\" onclick=\"convertToInteractive('df-1db388ac-f629-4004-8c29-8770f0082dd0')\"\n",
              "              title=\"Convert this dataframe to an interactive table.\"\n",
              "              style=\"display:none;\">\n",
              "        \n",
              "  <svg xmlns=\"http://www.w3.org/2000/svg\" height=\"24px\"viewBox=\"0 0 24 24\"\n",
              "       width=\"24px\">\n",
              "    <path d=\"M0 0h24v24H0V0z\" fill=\"none\"/>\n",
              "    <path d=\"M18.56 5.44l.94 2.06.94-2.06 2.06-.94-2.06-.94-.94-2.06-.94 2.06-2.06.94zm-11 1L8.5 8.5l.94-2.06 2.06-.94-2.06-.94L8.5 2.5l-.94 2.06-2.06.94zm10 10l.94 2.06.94-2.06 2.06-.94-2.06-.94-.94-2.06-.94 2.06-2.06.94z\"/><path d=\"M17.41 7.96l-1.37-1.37c-.4-.4-.92-.59-1.43-.59-.52 0-1.04.2-1.43.59L10.3 9.45l-7.72 7.72c-.78.78-.78 2.05 0 2.83L4 21.41c.39.39.9.59 1.41.59.51 0 1.02-.2 1.41-.59l7.78-7.78 2.81-2.81c.8-.78.8-2.07 0-2.86zM5.41 20L4 18.59l7.72-7.72 1.47 1.35L5.41 20z\"/>\n",
              "  </svg>\n",
              "      </button>\n",
              "      \n",
              "  <style>\n",
              "    .colab-df-container {\n",
              "      display:flex;\n",
              "      flex-wrap:wrap;\n",
              "      gap: 12px;\n",
              "    }\n",
              "\n",
              "    .colab-df-convert {\n",
              "      background-color: #E8F0FE;\n",
              "      border: none;\n",
              "      border-radius: 50%;\n",
              "      cursor: pointer;\n",
              "      display: none;\n",
              "      fill: #1967D2;\n",
              "      height: 32px;\n",
              "      padding: 0 0 0 0;\n",
              "      width: 32px;\n",
              "    }\n",
              "\n",
              "    .colab-df-convert:hover {\n",
              "      background-color: #E2EBFA;\n",
              "      box-shadow: 0px 1px 2px rgba(60, 64, 67, 0.3), 0px 1px 3px 1px rgba(60, 64, 67, 0.15);\n",
              "      fill: #174EA6;\n",
              "    }\n",
              "\n",
              "    [theme=dark] .colab-df-convert {\n",
              "      background-color: #3B4455;\n",
              "      fill: #D2E3FC;\n",
              "    }\n",
              "\n",
              "    [theme=dark] .colab-df-convert:hover {\n",
              "      background-color: #434B5C;\n",
              "      box-shadow: 0px 1px 3px 1px rgba(0, 0, 0, 0.15);\n",
              "      filter: drop-shadow(0px 1px 2px rgba(0, 0, 0, 0.3));\n",
              "      fill: #FFFFFF;\n",
              "    }\n",
              "  </style>\n",
              "\n",
              "      <script>\n",
              "        const buttonEl =\n",
              "          document.querySelector('#df-1db388ac-f629-4004-8c29-8770f0082dd0 button.colab-df-convert');\n",
              "        buttonEl.style.display =\n",
              "          google.colab.kernel.accessAllowed ? 'block' : 'none';\n",
              "\n",
              "        async function convertToInteractive(key) {\n",
              "          const element = document.querySelector('#df-1db388ac-f629-4004-8c29-8770f0082dd0');\n",
              "          const dataTable =\n",
              "            await google.colab.kernel.invokeFunction('convertToInteractive',\n",
              "                                                     [key], {});\n",
              "          if (!dataTable) return;\n",
              "\n",
              "          const docLinkHtml = 'Like what you see? Visit the ' +\n",
              "            '<a target=\"_blank\" href=https://colab.research.google.com/notebooks/data_table.ipynb>data table notebook</a>'\n",
              "            + ' to learn more about interactive tables.';\n",
              "          element.innerHTML = '';\n",
              "          dataTable['output_type'] = 'display_data';\n",
              "          await google.colab.output.renderOutput(dataTable, element);\n",
              "          const docLink = document.createElement('div');\n",
              "          docLink.innerHTML = docLinkHtml;\n",
              "          element.appendChild(docLink);\n",
              "        }\n",
              "      </script>\n",
              "    </div>\n",
              "  </div>\n",
              "  "
            ]
          },
          "metadata": {},
          "execution_count": 2
        }
      ]
    },
    {
      "cell_type": "code",
      "source": [
        "covid_states.shape"
      ],
      "metadata": {
        "colab": {
          "base_uri": "https://localhost:8080/"
        },
        "id": "M6t-l000fsHU",
        "outputId": "c955244a-9996-4c48-9dbe-f9f1c8be6e1f"
      },
      "execution_count": 3,
      "outputs": [
        {
          "output_type": "execute_result",
          "data": {
            "text/plain": [
              "(45646, 5)"
            ]
          },
          "metadata": {},
          "execution_count": 3
        }
      ]
    },
    {
      "cell_type": "code",
      "source": [
        "#it is already very clean table\n",
        "covid_states.isnull().values.any()"
      ],
      "metadata": {
        "colab": {
          "base_uri": "https://localhost:8080/"
        },
        "id": "lEK1CH-QgpIo",
        "outputId": "46fea7ac-b884-4207-e0a8-e8b558a529c4"
      },
      "execution_count": 4,
      "outputs": [
        {
          "output_type": "execute_result",
          "data": {
            "text/plain": [
              "False"
            ]
          },
          "metadata": {},
          "execution_count": 4
        }
      ]
    },
    {
      "cell_type": "code",
      "source": [
        "#plotting some states' cases over data further more validate the dataset since this trend make sense and that reminds us to get some population dataset to normalize the count.\n",
        "covid_states_sub = covid_states[covid_states['state'].isin(['California','Florida','Alabama'])]\n",
        "states_lineplot = sns.lineplot(x = covid_states_sub['date'], y = covid_states_sub['cases'], hue = covid_states_sub['state'])"
      ],
      "metadata": {
        "colab": {
          "base_uri": "https://localhost:8080/",
          "height": 290
        },
        "id": "GWg-qa6jgpWS",
        "outputId": "aa58de51-f046-48cf-b80f-396de5bc5648"
      },
      "execution_count": 5,
      "outputs": [
        {
          "output_type": "display_data",
          "data": {
            "text/plain": [
              "<Figure size 432x288 with 1 Axes>"
            ],
            "image/png": "[encoded data removed]"
          },
          "metadata": {
            "needs_background": "light"
          }
        }
      ]
    },
    {
      "cell_type": "code",
      "source": [
        "#choose the current cases for each state\n",
        "covid_states = covid_states.drop('fips',axis = 1)\n",
        "covid_states = covid_states.groupby('state').agg('max').reset_index()\n",
        "covid_states.head()"
      ],
      "metadata": {
        "colab": {
          "base_uri": "https://localhost:8080/",
          "height": 204
        },
        "id": "uV_wJSLdFlRn",
        "outputId": "99fc7538-b413-4504-b459-35f0ac1d4ec4"
      },
      "execution_count": 6,
      "outputs": [
        {
          "output_type": "execute_result",
          "data": {
            "text/plain": [
              "            state        date    cases  deaths\n",
              "0         Alabama  2022-06-05  1317029   19664\n",
              "1          Alaska  2022-06-05   261117    1246\n",
              "2  American Samoa  2022-06-05     6053      31\n",
              "3         Arizona  2022-06-05  2062669   30332\n",
              "4        Arkansas  2022-06-05   845946   11498"
            ],
            "text/html": [
              "\n",
              "  <div id=\"df-ab09c9ba-80d8-487a-bf4e-b00adb8461ca\">\n",
              "    <div class=\"colab-df-container\">\n",
              "      <div>\n",
              "<style scoped>\n",
              "    .dataframe tbody tr th:only-of-type {\n",
              "        vertical-align: middle;\n",
              "    }\n",
              "\n",
              "    .dataframe tbody tr th {\n",
              "        vertical-align: top;\n",
              "    }\n",
              "\n",
              "    .dataframe thead th {\n",
              "        text-align: right;\n",
              "    }\n",
              "</style>\n",
              "<table border=\"1\" class=\"dataframe\">\n",
              "  <thead>\n",
              "    <tr style=\"text-align: right;\">\n",
              "      <th></th>\n",
              "      <th>state</th>\n",
              "      <th>date</th>\n",
              "      <th>cases</th>\n",
              "      <th>deaths</th>\n",
              "    </tr>\n",
              "  </thead>\n",
              "  <tbody>\n",
              "    <tr>\n",
              "      <th>0</th>\n",
              "      <td>Alabama</td>\n",
              "      <td>2022-06-05</td>\n",
              "      <td>1317029</td>\n",
              "      <td>19664</td>\n",
              "    </tr>\n",
              "    <tr>\n",
              "      <th>1</th>\n",
              "      <td>Alaska</td>\n",
              "      <td>2022-06-05</td>\n",
              "      <td>261117</td>\n",
              "      <td>1246</td>\n",
              "    </tr>\n",
              "    <tr>\n",
              "      <th>2</th>\n",
              "      <td>American Samoa</td>\n",
              "      <td>2022-06-05</td>\n",
              "      <td>6053</td>\n",
              "      <td>31</td>\n",
              "    </tr>\n",
              "    <tr>\n",
              "      <th>3</th>\n",
              "      <td>Arizona</td>\n",
              "      <td>2022-06-05</td>\n",
              "      <td>2062669</td>\n",
              "      <td>30332</td>\n",
              "    </tr>\n",
              "    <tr>\n",
              "      <th>4</th>\n",
              "      <td>Arkansas</td>\n",
              "      <td>2022-06-05</td>\n",
              "      <td>845946</td>\n",
              "      <td>11498</td>\n",
              "    </tr>\n",
              "  </tbody>\n",
              "</table>\n",
              "</div>\n",
              "      <button class=\"colab-df-convert\" onclick=\"convertToInteractive('df-ab09c9ba-80d8-487a-bf4e-b00adb8461ca')\"\n",
              "              title=\"Convert this dataframe to an interactive table.\"\n",
              "              style=\"display:none;\">\n",
              "        \n",
              "  <svg xmlns=\"http://www.w3.org/2000/svg\" height=\"24px\"viewBox=\"0 0 24 24\"\n",
              "       width=\"24px\">\n",
              "    <path d=\"M0 0h24v24H0V0z\" fill=\"none\"/>\n",
              "    <path d=\"M18.56 5.44l.94 2.06.94-2.06 2.06-.94-2.06-.94-.94-2.06-.94 2.06-2.06.94zm-11 1L8.5 8.5l.94-2.06 2.06-.94-2.06-.94L8.5 2.5l-.94 2.06-2.06.94zm10 10l.94 2.06.94-2.06 2.06-.94-2.06-.94-.94-2.06-.94 2.06-2.06.94z\"/><path d=\"M17.41 7.96l-1.37-1.37c-.4-.4-.92-.59-1.43-.59-.52 0-1.04.2-1.43.59L10.3 9.45l-7.72 7.72c-.78.78-.78 2.05 0 2.83L4 21.41c.39.39.9.59 1.41.59.51 0 1.02-.2 1.41-.59l7.78-7.78 2.81-2.81c.8-.78.8-2.07 0-2.86zM5.41 20L4 18.59l7.72-7.72 1.47 1.35L5.41 20z\"/>\n",
              "  </svg>\n",
              "      </button>\n",
              "      \n",
              "  <style>\n",
              "    .colab-df-container {\n",
              "      display:flex;\n",
              "      flex-wrap:wrap;\n",
              "      gap: 12px;\n",
              "    }\n",
              "\n",
              "    .colab-df-convert {\n",
              "      background-color: #E8F0FE;\n",
              "      border: none;\n",
              "      border-radius: 50%;\n",
              "      cursor: pointer;\n",
              "      display: none;\n",
              "      fill: #1967D2;\n",
              "      height: 32px;\n",
              "      padding: 0 0 0 0;\n",
              "      width: 32px;\n",
              "    }\n",
              "\n",
              "    .colab-df-convert:hover {\n",
              "      background-color: #E2EBFA;\n",
              "      box-shadow: 0px 1px 2px rgba(60, 64, 67, 0.3), 0px 1px 3px 1px rgba(60, 64, 67, 0.15);\n",
              "      fill: #174EA6;\n",
              "    }\n",
              "\n",
              "    [theme=dark] .colab-df-convert {\n",
              "      background-color: #3B4455;\n",
              "      fill: #D2E3FC;\n",
              "    }\n",
              "\n",
              "    [theme=dark] .colab-df-convert:hover {\n",
              "      background-color: #434B5C;\n",
              "      box-shadow: 0px 1px 3px 1px rgba(0, 0, 0, 0.15);\n",
              "      filter: drop-shadow(0px 1px 2px rgba(0, 0, 0, 0.3));\n",
              "      fill: #FFFFFF;\n",
              "    }\n",
              "  </style>\n",
              "\n",
              "      <script>\n",
              "        const buttonEl =\n",
              "          document.querySelector('#df-ab09c9ba-80d8-487a-bf4e-b00adb8461ca button.colab-df-convert');\n",
              "        buttonEl.style.display =\n",
              "          google.colab.kernel.accessAllowed ? 'block' : 'none';\n",
              "\n",
              "        async function convertToInteractive(key) {\n",
              "          const element = document.querySelector('#df-ab09c9ba-80d8-487a-bf4e-b00adb8461ca');\n",
              "          const dataTable =\n",
              "            await google.colab.kernel.invokeFunction('convertToInteractive',\n",
              "                                                     [key], {});\n",
              "          if (!dataTable) return;\n",
              "\n",
              "          const docLinkHtml = 'Like what you see? Visit the ' +\n",
              "            '<a target=\"_blank\" href=https://colab.research.google.com/notebooks/data_table.ipynb>data table notebook</a>'\n",
              "            + ' to learn more about interactive tables.';\n",
              "          element.innerHTML = '';\n",
              "          dataTable['output_type'] = 'display_data';\n",
              "          await google.colab.output.renderOutput(dataTable, element);\n",
              "          const docLink = document.createElement('div');\n",
              "          docLink.innerHTML = docLinkHtml;\n",
              "          element.appendChild(docLink);\n",
              "        }\n",
              "      </script>\n",
              "    </div>\n",
              "  </div>\n",
              "  "
            ]
          },
          "metadata": {},
          "execution_count": 6
        }
      ]
    },
    {
      "cell_type": "code",
      "source": [
        "#Loading population dataset\n",
        "county_population = pd.read_csv('https://www2.census.gov/programs-surveys/popest/datasets/2020-2021/counties/totals/co-est2021-alldata.csv',encoding='latin-1')"
      ],
      "metadata": {
        "id": "oTBvftbogpeq"
      },
      "execution_count": 7,
      "outputs": []
    },
    {
      "cell_type": "code",
      "source": [
        "county_population.head()"
      ],
      "metadata": {
        "colab": {
          "base_uri": "https://localhost:8080/",
          "height": 365
        },
        "id": "-LCBzSzRgp-p",
        "outputId": "8eb0989b-70c3-4d40-fa53-074d2ad2b365"
      },
      "execution_count": 8,
      "outputs": [
        {
          "output_type": "execute_result",
          "data": {
            "text/plain": [
              "   SUMLEV  REGION  DIVISION  STATE  COUNTY   STNAME         CTYNAME  \\\n",
              "0      40       3         6      1       0  Alabama         Alabama   \n",
              "1      50       3         6      1       1  Alabama  Autauga County   \n",
              "2      50       3         6      1       3  Alabama  Baldwin County   \n",
              "3      50       3         6      1       5  Alabama  Barbour County   \n",
              "4      50       3         6      1       7  Alabama     Bibb County   \n",
              "\n",
              "   ESTIMATESBASE2020  POPESTIMATE2020  POPESTIMATE2021  ...  RESIDUAL2021  \\\n",
              "0            5024279          5024803          5039877  ...           242   \n",
              "1              58805            58877            59095  ...             8   \n",
              "2             231767           233140           239294  ...           -82   \n",
              "3              25223            25180            24964  ...             1   \n",
              "4              22293            22223            22477  ...            -1   \n",
              "\n",
              "   GQESTIMATESBASE2020  GQESTIMATES2020  GQESTIMATES2021  RBIRTH2021  \\\n",
              "0               114572           114572           114572   11.191613   \n",
              "1                  442              442              442   11.002611   \n",
              "2                 2177             2177             2177    9.567474   \n",
              "3                 2789             2789             2789   10.928526   \n",
              "4                 2062             2062             2062   10.111857   \n",
              "\n",
              "   RDEATH2021  RNATURALCHG2021  RINTERNATIONALMIG2021  RDOMESTICMIG2021  \\\n",
              "0   12.890226        -1.698613               0.247201          4.398749   \n",
              "1   11.545112        -0.542502               0.084766          4.017903   \n",
              "2   12.137145        -2.569671               0.266704         28.702422   \n",
              "3   15.714742        -4.786216               0.039885         -3.908743   \n",
              "4   12.617450        -2.505593               0.089485         13.825503   \n",
              "\n",
              "   RNETMIG2021  \n",
              "0     4.645950  \n",
              "1     4.102668  \n",
              "2    28.969126  \n",
              "3    -3.868858  \n",
              "4    13.914989  \n",
              "\n",
              "[5 rows x 35 columns]"
            ],
            "text/html": [
              "\n",
              "  <div id=\"df-2f58d830-f013-4a95-9112-7464d33aba23\">\n",
              "    <div class=\"colab-df-container\">\n",
              "      <div>\n",
              "<style scoped>\n",
              "    .dataframe tbody tr th:only-of-type {\n",
              "        vertical-align: middle;\n",
              "    }\n",
              "\n",
              "    .dataframe tbody tr th {\n",
              "        vertical-align: top;\n",
              "    }\n",
              "\n",
              "    .dataframe thead th {\n",
              "        text-align: right;\n",
              "    }\n",
              "</style>\n",
              "<table border=\"1\" class=\"dataframe\">\n",
              "  <thead>\n",
              "    <tr style=\"text-align: right;\">\n",
              "      <th></th>\n",
              "      <th>SUMLEV</th>\n",
              "      <th>REGION</th>\n",
              "      <th>DIVISION</th>\n",
              "      <th>STATE</th>\n",
              "      <th>COUNTY</th>\n",
              "      <th>STNAME</th>\n",
              "      <th>CTYNAME</th>\n",
              "      <th>ESTIMATESBASE2020</th>\n",
              "      <th>POPESTIMATE2020</th>\n",
              "      <th>POPESTIMATE2021</th>\n",
              "      <th>...</th>\n",
              "      <th>RESIDUAL2021</th>\n",
              "      <th>GQESTIMATESBASE2020</th>\n",
              "      <th>GQESTIMATES2020</th>\n",
              "      <th>GQESTIMATES2021</th>\n",
              "      <th>RBIRTH2021</th>\n",
              "      <th>RDEATH2021</th>\n",
              "      <th>RNATURALCHG2021</th>\n",
              "      <th>RINTERNATIONALMIG2021</th>\n",
              "      <th>RDOMESTICMIG2021</th>\n",
              "      <th>RNETMIG2021</th>\n",
              "    </tr>\n",
              "  </thead>\n",
              "  <tbody>\n",
              "    <tr>\n",
              "      <th>0</th>\n",
              "      <td>40</td>\n",
              "      <td>3</td>\n",
              "      <td>6</td>\n",
              "      <td>1</td>\n",
              "      <td>0</td>\n",
              "      <td>Alabama</td>\n",
              "      <td>Alabama</td>\n",
              "      <td>5024279</td>\n",
              "      <td>5024803</td>\n",
              "      <td>5039877</td>\n",
              "      <td>...</td>\n",
              "      <td>242</td>\n",
              "      <td>114572</td>\n",
              "      <td>114572</td>\n",
              "      <td>114572</td>\n",
              "      <td>11.191613</td>\n",
              "      <td>12.890226</td>\n",
              "      <td>-1.698613</td>\n",
              "      <td>0.247201</td>\n",
              "      <td>4.398749</td>\n",
              "      <td>4.645950</td>\n",
              "    </tr>\n",
              "    <tr>\n",
              "      <th>1</th>\n",
              "      <td>50</td>\n",
              "      <td>3</td>\n",
              "      <td>6</td>\n",
              "      <td>1</td>\n",
              "      <td>1</td>\n",
              "      <td>Alabama</td>\n",
              "      <td>Autauga County</td>\n",
              "      <td>58805</td>\n",
              "      <td>58877</td>\n",
              "      <td>59095</td>\n",
              "      <td>...</td>\n",
              "      <td>8</td>\n",
              "      <td>442</td>\n",
              "      <td>442</td>\n",
              "      <td>442</td>\n",
              "      <td>11.002611</td>\n",
              "      <td>11.545112</td>\n",
              "      <td>-0.542502</td>\n",
              "      <td>0.084766</td>\n",
              "      <td>4.017903</td>\n",
              "      <td>4.102668</td>\n",
              "    </tr>\n",
              "    <tr>\n",
              "      <th>2</th>\n",
              "      <td>50</td>\n",
              "      <td>3</td>\n",
              "      <td>6</td>\n",
              "      <td>1</td>\n",
              "      <td>3</td>\n",
              "      <td>Alabama</td>\n",
              "      <td>Baldwin County</td>\n",
              "      <td>231767</td>\n",
              "      <td>233140</td>\n",
              "      <td>239294</td>\n",
              "      <td>...</td>\n",
              "      <td>-82</td>\n",
              "      <td>2177</td>\n",
              "      <td>2177</td>\n",
              "      <td>2177</td>\n",
              "      <td>9.567474</td>\n",
              "      <td>12.137145</td>\n",
              "      <td>-2.569671</td>\n",
              "      <td>0.266704</td>\n",
              "      <td>28.702422</td>\n",
              "      <td>28.969126</td>\n",
              "    </tr>\n",
              "    <tr>\n",
              "      <th>3</th>\n",
              "      <td>50</td>\n",
              "      <td>3</td>\n",
              "      <td>6</td>\n",
              "      <td>1</td>\n",
              "      <td>5</td>\n",
              "      <td>Alabama</td>\n",
              "      <td>Barbour County</td>\n",
              "      <td>25223</td>\n",
              "      <td>25180</td>\n",
              "      <td>24964</td>\n",
              "      <td>...</td>\n",
              "      <td>1</td>\n",
              "      <td>2789</td>\n",
              "      <td>2789</td>\n",
              "      <td>2789</td>\n",
              "      <td>10.928526</td>\n",
              "      <td>15.714742</td>\n",
              "      <td>-4.786216</td>\n",
              "      <td>0.039885</td>\n",
              "      <td>-3.908743</td>\n",
              "      <td>-3.868858</td>\n",
              "    </tr>\n",
              "    <tr>\n",
              "      <th>4</th>\n",
              "      <td>50</td>\n",
              "      <td>3</td>\n",
              "      <td>6</td>\n",
              "      <td>1</td>\n",
              "      <td>7</td>\n",
              "      <td>Alabama</td>\n",
              "      <td>Bibb County</td>\n",
              "      <td>22293</td>\n",
              "      <td>22223</td>\n",
              "      <td>22477</td>\n",
              "      <td>...</td>\n",
              "      <td>-1</td>\n",
              "      <td>2062</td>\n",
              "      <td>2062</td>\n",
              "      <td>2062</td>\n",
              "      <td>10.111857</td>\n",
              "      <td>12.617450</td>\n",
              "      <td>-2.505593</td>\n",
              "      <td>0.089485</td>\n",
              "      <td>13.825503</td>\n",
              "      <td>13.914989</td>\n",
              "    </tr>\n",
              "  </tbody>\n",
              "</table>\n",
              "<p>5 rows × 35 columns</p>\n",
              "</div>\n",
              "      <button class=\"colab-df-convert\" onclick=\"convertToInteractive('df-2f58d830-f013-4a95-9112-7464d33aba23')\"\n",
              "              title=\"Convert this dataframe to an interactive table.\"\n",
              "              style=\"display:none;\">\n",
              "        \n",
              "  <svg xmlns=\"http://www.w3.org/2000/svg\" height=\"24px\"viewBox=\"0 0 24 24\"\n",
              "       width=\"24px\">\n",
              "    <path d=\"M0 0h24v24H0V0z\" fill=\"none\"/>\n",
              "    <path d=\"M18.56 5.44l.94 2.06.94-2.06 2.06-.94-2.06-.94-.94-2.06-.94 2.06-2.06.94zm-11 1L8.5 8.5l.94-2.06 2.06-.94-2.06-.94L8.5 2.5l-.94 2.06-2.06.94zm10 10l.94 2.06.94-2.06 2.06-.94-2.06-.94-.94-2.06-.94 2.06-2.06.94z\"/><path d=\"M17.41 7.96l-1.37-1.37c-.4-.4-.92-.59-1.43-.59-.52 0-1.04.2-1.43.59L10.3 9.45l-7.72 7.72c-.78.78-.78 2.05 0 2.83L4 21.41c.39.39.9.59 1.41.59.51 0 1.02-.2 1.41-.59l7.78-7.78 2.81-2.81c.8-.78.8-2.07 0-2.86zM5.41 20L4 18.59l7.72-7.72 1.47 1.35L5.41 20z\"/>\n",
              "  </svg>\n",
              "      </button>\n",
              "      \n",
              "  <style>\n",
              "    .colab-df-container {\n",
              "      display:flex;\n",
              "      flex-wrap:wrap;\n",
              "      gap: 12px;\n",
              "    }\n",
              "\n",
              "    .colab-df-convert {\n",
              "      background-color: #E8F0FE;\n",
              "      border: none;\n",
              "      border-radius: 50%;\n",
              "      cursor: pointer;\n",
              "      display: none;\n",
              "      fill: #1967D2;\n",
              "      height: 32px;\n",
              "      padding: 0 0 0 0;\n",
              "      width: 32px;\n",
              "    }\n",
              "\n",
              "    .colab-df-convert:hover {\n",
              "      background-color: #E2EBFA;\n",
              "      box-shadow: 0px 1px 2px rgba(60, 64, 67, 0.3), 0px 1px 3px 1px rgba(60, 64, 67, 0.15);\n",
              "      fill: #174EA6;\n",
              "    }\n",
              "\n",
              "    [theme=dark] .colab-df-convert {\n",
              "      background-color: #3B4455;\n",
              "      fill: #D2E3FC;\n",
              "    }\n",
              "\n",
              "    [theme=dark] .colab-df-convert:hover {\n",
              "      background-color: #434B5C;\n",
              "      box-shadow: 0px 1px 3px 1px rgba(0, 0, 0, 0.15);\n",
              "      filter: drop-shadow(0px 1px 2px rgba(0, 0, 0, 0.3));\n",
              "      fill: #FFFFFF;\n",
              "    }\n",
              "  </style>\n",
              "\n",
              "      <script>\n",
              "        const buttonEl =\n",
              "          document.querySelector('#df-2f58d830-f013-4a95-9112-7464d33aba23 button.colab-df-convert');\n",
              "        buttonEl.style.display =\n",
              "          google.colab.kernel.accessAllowed ? 'block' : 'none';\n",
              "\n",
              "        async function convertToInteractive(key) {\n",
              "          const element = document.querySelector('#df-2f58d830-f013-4a95-9112-7464d33aba23');\n",
              "          const dataTable =\n",
              "            await google.colab.kernel.invokeFunction('convertToInteractive',\n",
              "                                                     [key], {});\n",
              "          if (!dataTable) return;\n",
              "\n",
              "          const docLinkHtml = 'Like what you see? Visit the ' +\n",
              "            '<a target=\"_blank\" href=https://colab.research.google.com/notebooks/data_table.ipynb>data table notebook</a>'\n",
              "            + ' to learn more about interactive tables.';\n",
              "          element.innerHTML = '';\n",
              "          dataTable['output_type'] = 'display_data';\n",
              "          await google.colab.output.renderOutput(dataTable, element);\n",
              "          const docLink = document.createElement('div');\n",
              "          docLink.innerHTML = docLinkHtml;\n",
              "          element.appendChild(docLink);\n",
              "        }\n",
              "      </script>\n",
              "    </div>\n",
              "  </div>\n",
              "  "
            ]
          },
          "metadata": {},
          "execution_count": 8
        }
      ]
    },
    {
      "cell_type": "code",
      "source": [
        "county_population.columns"
      ],
      "metadata": {
        "colab": {
          "base_uri": "https://localhost:8080/"
        },
        "id": "TcI0XqdggqDe",
        "outputId": "4dd5bd80-b5e6-464a-c5ee-fcfef0cfc16e"
      },
      "execution_count": 9,
      "outputs": [
        {
          "output_type": "execute_result",
          "data": {
            "text/plain": [
              "Index(['SUMLEV', 'REGION', 'DIVISION', 'STATE', 'COUNTY', 'STNAME', 'CTYNAME',\n",
              "       'ESTIMATESBASE2020', 'POPESTIMATE2020', 'POPESTIMATE2021',\n",
              "       'NPOPCHG2020', 'NPOPCHG2021', 'BIRTHS2020', 'BIRTHS2021', 'DEATHS2020',\n",
              "       'DEATHS2021', 'NATURALCHG2020', 'NATURALCHG2021',\n",
              "       'INTERNATIONALMIG2020', 'INTERNATIONALMIG2021', 'DOMESTICMIG2020',\n",
              "       'DOMESTICMIG2021', 'NETMIG2020', 'NETMIG2021', 'RESIDUAL2020',\n",
              "       'RESIDUAL2021', 'GQESTIMATESBASE2020', 'GQESTIMATES2020',\n",
              "       'GQESTIMATES2021', 'RBIRTH2021', 'RDEATH2021', 'RNATURALCHG2021',\n",
              "       'RINTERNATIONALMIG2021', 'RDOMESTICMIG2021', 'RNETMIG2021'],\n",
              "      dtype='object')"
            ]
          },
          "metadata": {},
          "execution_count": 9
        }
      ]
    },
    {
      "cell_type": "code",
      "source": [
        "county_population.shape"
      ],
      "metadata": {
        "colab": {
          "base_uri": "https://localhost:8080/"
        },
        "id": "UrcaTswjgqIC",
        "outputId": "87b13a36-f5bb-4971-b940-b0efc2e718b0"
      },
      "execution_count": 10,
      "outputs": [
        {
          "output_type": "execute_result",
          "data": {
            "text/plain": [
              "(3194, 35)"
            ]
          },
          "metadata": {},
          "execution_count": 10
        }
      ]
    },
    {
      "cell_type": "code",
      "source": [
        "#Selecting columns we desire\n",
        "county_population = county_population.iloc[:,[5,6,8,9]]\n",
        "county_population.columns = ['state','county','pop_estimate_2020','pop_estimate_2021']\n",
        "county_population.head()"
      ],
      "metadata": {
        "colab": {
          "base_uri": "https://localhost:8080/",
          "height": 204
        },
        "id": "lyUb0oZdgqMG",
        "outputId": "7d4a7be2-7d27-4237-f737-492b570d304e"
      },
      "execution_count": 11,
      "outputs": [
        {
          "output_type": "execute_result",
          "data": {
            "text/plain": [
              "     state          county  pop_estimate_2020  pop_estimate_2021\n",
              "0  Alabama         Alabama            5024803            5039877\n",
              "1  Alabama  Autauga County              58877              59095\n",
              "2  Alabama  Baldwin County             233140             239294\n",
              "3  Alabama  Barbour County              25180              24964\n",
              "4  Alabama     Bibb County              22223              22477"
            ],
            "text/html": [
              "\n",
              "  <div id=\"df-398f06ab-31c6-4025-8fb8-899de65231c2\">\n",
              "    <div class=\"colab-df-container\">\n",
              "      <div>\n",
              "<style scoped>\n",
              "    .dataframe tbody tr th:only-of-type {\n",
              "        vertical-align: middle;\n",
              "    }\n",
              "\n",
              "    .dataframe tbody tr th {\n",
              "        vertical-align: top;\n",
              "    }\n",
              "\n",
              "    .dataframe thead th {\n",
              "        text-align: right;\n",
              "    }\n",
              "</style>\n",
              "<table border=\"1\" class=\"dataframe\">\n",
              "  <thead>\n",
              "    <tr style=\"text-align: right;\">\n",
              "      <th></th>\n",
              "      <th>state</th>\n",
              "      <th>county</th>\n",
              "      <th>pop_estimate_2020</th>\n",
              "      <th>pop_estimate_2021</th>\n",
              "    </tr>\n",
              "  </thead>\n",
              "  <tbody>\n",
              "    <tr>\n",
              "      <th>0</th>\n",
              "      <td>Alabama</td>\n",
              "      <td>Alabama</td>\n",
              "      <td>5024803</td>\n",
              "      <td>5039877</td>\n",
              "    </tr>\n",
              "    <tr>\n",
              "      <th>1</th>\n",
              "      <td>Alabama</td>\n",
              "      <td>Autauga County</td>\n",
              "      <td>58877</td>\n",
              "      <td>59095</td>\n",
              "    </tr>\n",
              "    <tr>\n",
              "      <th>2</th>\n",
              "      <td>Alabama</td>\n",
              "      <td>Baldwin County</td>\n",
              "      <td>233140</td>\n",
              "      <td>239294</td>\n",
              "    </tr>\n",
              "    <tr>\n",
              "      <th>3</th>\n",
              "      <td>Alabama</td>\n",
              "      <td>Barbour County</td>\n",
              "      <td>25180</td>\n",
              "      <td>24964</td>\n",
              "    </tr>\n",
              "    <tr>\n",
              "      <th>4</th>\n",
              "      <td>Alabama</td>\n",
              "      <td>Bibb County</td>\n",
              "      <td>22223</td>\n",
              "      <td>22477</td>\n",
              "    </tr>\n",
              "  </tbody>\n",
              "</table>\n",
              "</div>\n",
              "      <button class=\"colab-df-convert\" onclick=\"convertToInteractive('df-398f06ab-31c6-4025-8fb8-899de65231c2')\"\n",
              "              title=\"Convert this dataframe to an interactive table.\"\n",
              "              style=\"display:none;\">\n",
              "        \n",
              "  <svg xmlns=\"http://www.w3.org/2000/svg\" height=\"24px\"viewBox=\"0 0 24 24\"\n",
              "       width=\"24px\">\n",
              "    <path d=\"M0 0h24v24H0V0z\" fill=\"none\"/>\n",
              "    <path d=\"M18.56 5.44l.94 2.06.94-2.06 2.06-.94-2.06-.94-.94-2.06-.94 2.06-2.06.94zm-11 1L8.5 8.5l.94-2.06 2.06-.94-2.06-.94L8.5 2.5l-.94 2.06-2.06.94zm10 10l.94 2.06.94-2.06 2.06-.94-2.06-.94-.94-2.06-.94 2.06-2.06.94z\"/><path d=\"M17.41 7.96l-1.37-1.37c-.4-.4-.92-.59-1.43-.59-.52 0-1.04.2-1.43.59L10.3 9.45l-7.72 7.72c-.78.78-.78 2.05 0 2.83L4 21.41c.39.39.9.59 1.41.59.51 0 1.02-.2 1.41-.59l7.78-7.78 2.81-2.81c.8-.78.8-2.07 0-2.86zM5.41 20L4 18.59l7.72-7.72 1.47 1.35L5.41 20z\"/>\n",
              "  </svg>\n",
              "      </button>\n",
              "      \n",
              "  <style>\n",
              "    .colab-df-container {\n",
              "      display:flex;\n",
              "      flex-wrap:wrap;\n",
              "      gap: 12px;\n",
              "    }\n",
              "\n",
              "    .colab-df-convert {\n",
              "      background-color: #E8F0FE;\n",
              "      border: none;\n",
              "      border-radius: 50%;\n",
              "      cursor: pointer;\n",
              "      display: none;\n",
              "      fill: #1967D2;\n",
              "      height: 32px;\n",
              "      padding: 0 0 0 0;\n",
              "      width: 32px;\n",
              "    }\n",
              "\n",
              "    .colab-df-convert:hover {\n",
              "      background-color: #E2EBFA;\n",
              "      box-shadow: 0px 1px 2px rgba(60, 64, 67, 0.3), 0px 1px 3px 1px rgba(60, 64, 67, 0.15);\n",
              "      fill: #174EA6;\n",
              "    }\n",
              "\n",
              "    [theme=dark] .colab-df-convert {\n",
              "      background-color: #3B4455;\n",
              "      fill: #D2E3FC;\n",
              "    }\n",
              "\n",
              "    [theme=dark] .colab-df-convert:hover {\n",
              "      background-color: #434B5C;\n",
              "      box-shadow: 0px 1px 3px 1px rgba(0, 0, 0, 0.15);\n",
              "      filter: drop-shadow(0px 1px 2px rgba(0, 0, 0, 0.3));\n",
              "      fill: #FFFFFF;\n",
              "    }\n",
              "  </style>\n",
              "\n",
              "      <script>\n",
              "        const buttonEl =\n",
              "          document.querySelector('#df-398f06ab-31c6-4025-8fb8-899de65231c2 button.colab-df-convert');\n",
              "        buttonEl.style.display =\n",
              "          google.colab.kernel.accessAllowed ? 'block' : 'none';\n",
              "\n",
              "        async function convertToInteractive(key) {\n",
              "          const element = document.querySelector('#df-398f06ab-31c6-4025-8fb8-899de65231c2');\n",
              "          const dataTable =\n",
              "            await google.colab.kernel.invokeFunction('convertToInteractive',\n",
              "                                                     [key], {});\n",
              "          if (!dataTable) return;\n",
              "\n",
              "          const docLinkHtml = 'Like what you see? Visit the ' +\n",
              "            '<a target=\"_blank\" href=https://colab.research.google.com/notebooks/data_table.ipynb>data table notebook</a>'\n",
              "            + ' to learn more about interactive tables.';\n",
              "          element.innerHTML = '';\n",
              "          dataTable['output_type'] = 'display_data';\n",
              "          await google.colab.output.renderOutput(dataTable, element);\n",
              "          const docLink = document.createElement('div');\n",
              "          docLink.innerHTML = docLinkHtml;\n",
              "          element.appendChild(docLink);\n",
              "        }\n",
              "      </script>\n",
              "    </div>\n",
              "  </div>\n",
              "  "
            ]
          },
          "metadata": {},
          "execution_count": 11
        }
      ]
    },
    {
      "cell_type": "code",
      "source": [
        "county_population.isnull().values.any()"
      ],
      "metadata": {
        "colab": {
          "base_uri": "https://localhost:8080/"
        },
        "id": "m-AKkwRqgqQY",
        "outputId": "2c4e7277-8e37-4498-e179-6bfe76897c65"
      },
      "execution_count": 12,
      "outputs": [
        {
          "output_type": "execute_result",
          "data": {
            "text/plain": [
              "False"
            ]
          },
          "metadata": {},
          "execution_count": 12
        }
      ]
    },
    {
      "cell_type": "code",
      "source": [
        "#found some states' population stats in that we potentially need that\n",
        "state_population = county_population[county_population['county'] == county_population['state']]\n",
        "state_population.head()"
      ],
      "metadata": {
        "colab": {
          "base_uri": "https://localhost:8080/",
          "height": 204
        },
        "id": "-akxntq6hf20",
        "outputId": "99706813-343a-4741-99e2-c74670d2826d"
      },
      "execution_count": 13,
      "outputs": [
        {
          "output_type": "execute_result",
          "data": {
            "text/plain": [
              "          state      county  pop_estimate_2020  pop_estimate_2021\n",
              "0       Alabama     Alabama            5024803            5039877\n",
              "68       Alaska      Alaska             732441             732673\n",
              "99      Arizona     Arizona            7177986            7276316\n",
              "115    Arkansas    Arkansas            3012232            3025891\n",
              "191  California  California           39499738           39237836"
            ],
            "text/html": [
              "\n",
              "  <div id=\"df-8307994f-846a-45ff-9725-a2039f2ee779\">\n",
              "    <div class=\"colab-df-container\">\n",
              "      <div>\n",
              "<style scoped>\n",
              "    .dataframe tbody tr th:only-of-type {\n",
              "        vertical-align: middle;\n",
              "    }\n",
              "\n",
              "    .dataframe tbody tr th {\n",
              "        vertical-align: top;\n",
              "    }\n",
              "\n",
              "    .dataframe thead th {\n",
              "        text-align: right;\n",
              "    }\n",
              "</style>\n",
              "<table border=\"1\" class=\"dataframe\">\n",
              "  <thead>\n",
              "    <tr style=\"text-align: right;\">\n",
              "      <th></th>\n",
              "      <th>state</th>\n",
              "      <th>county</th>\n",
              "      <th>pop_estimate_2020</th>\n",
              "      <th>pop_estimate_2021</th>\n",
              "    </tr>\n",
              "  </thead>\n",
              "  <tbody>\n",
              "    <tr>\n",
              "      <th>0</th>\n",
              "      <td>Alabama</td>\n",
              "      <td>Alabama</td>\n",
              "      <td>5024803</td>\n",
              "      <td>5039877</td>\n",
              "    </tr>\n",
              "    <tr>\n",
              "      <th>68</th>\n",
              "      <td>Alaska</td>\n",
              "      <td>Alaska</td>\n",
              "      <td>732441</td>\n",
              "      <td>732673</td>\n",
              "    </tr>\n",
              "    <tr>\n",
              "      <th>99</th>\n",
              "      <td>Arizona</td>\n",
              "      <td>Arizona</td>\n",
              "      <td>7177986</td>\n",
              "      <td>7276316</td>\n",
              "    </tr>\n",
              "    <tr>\n",
              "      <th>115</th>\n",
              "      <td>Arkansas</td>\n",
              "      <td>Arkansas</td>\n",
              "      <td>3012232</td>\n",
              "      <td>3025891</td>\n",
              "    </tr>\n",
              "    <tr>\n",
              "      <th>191</th>\n",
              "      <td>California</td>\n",
              "      <td>California</td>\n",
              "      <td>39499738</td>\n",
              "      <td>39237836</td>\n",
              "    </tr>\n",
              "  </tbody>\n",
              "</table>\n",
              "</div>\n",
              "      <button class=\"colab-df-convert\" onclick=\"convertToInteractive('df-8307994f-846a-45ff-9725-a2039f2ee779')\"\n",
              "              title=\"Convert this dataframe to an interactive table.\"\n",
              "              style=\"display:none;\">\n",
              "        \n",
              "  <svg xmlns=\"http://www.w3.org/2000/svg\" height=\"24px\"viewBox=\"0 0 24 24\"\n",
              "       width=\"24px\">\n",
              "    <path d=\"M0 0h24v24H0V0z\" fill=\"none\"/>\n",
              "    <path d=\"M18.56 5.44l.94 2.06.94-2.06 2.06-.94-2.06-.94-.94-2.06-.94 2.06-2.06.94zm-11 1L8.5 8.5l.94-2.06 2.06-.94-2.06-.94L8.5 2.5l-.94 2.06-2.06.94zm10 10l.94 2.06.94-2.06 2.06-.94-2.06-.94-.94-2.06-.94 2.06-2.06.94z\"/><path d=\"M17.41 7.96l-1.37-1.37c-.4-.4-.92-.59-1.43-.59-.52 0-1.04.2-1.43.59L10.3 9.45l-7.72 7.72c-.78.78-.78 2.05 0 2.83L4 21.41c.39.39.9.59 1.41.59.51 0 1.02-.2 1.41-.59l7.78-7.78 2.81-2.81c.8-.78.8-2.07 0-2.86zM5.41 20L4 18.59l7.72-7.72 1.47 1.35L5.41 20z\"/>\n",
              "  </svg>\n",
              "      </button>\n",
              "      \n",
              "  <style>\n",
              "    .colab-df-container {\n",
              "      display:flex;\n",
              "      flex-wrap:wrap;\n",
              "      gap: 12px;\n",
              "    }\n",
              "\n",
              "    .colab-df-convert {\n",
              "      background-color: #E8F0FE;\n",
              "      border: none;\n",
              "      border-radius: 50%;\n",
              "      cursor: pointer;\n",
              "      display: none;\n",
              "      fill: #1967D2;\n",
              "      height: 32px;\n",
              "      padding: 0 0 0 0;\n",
              "      width: 32px;\n",
              "    }\n",
              "\n",
              "    .colab-df-convert:hover {\n",
              "      background-color: #E2EBFA;\n",
              "      box-shadow: 0px 1px 2px rgba(60, 64, 67, 0.3), 0px 1px 3px 1px rgba(60, 64, 67, 0.15);\n",
              "      fill: #174EA6;\n",
              "    }\n",
              "\n",
              "    [theme=dark] .colab-df-convert {\n",
              "      background-color: #3B4455;\n",
              "      fill: #D2E3FC;\n",
              "    }\n",
              "\n",
              "    [theme=dark] .colab-df-convert:hover {\n",
              "      background-color: #434B5C;\n",
              "      box-shadow: 0px 1px 3px 1px rgba(0, 0, 0, 0.15);\n",
              "      filter: drop-shadow(0px 1px 2px rgba(0, 0, 0, 0.3));\n",
              "      fill: #FFFFFF;\n",
              "    }\n",
              "  </style>\n",
              "\n",
              "      <script>\n",
              "        const buttonEl =\n",
              "          document.querySelector('#df-8307994f-846a-45ff-9725-a2039f2ee779 button.colab-df-convert');\n",
              "        buttonEl.style.display =\n",
              "          google.colab.kernel.accessAllowed ? 'block' : 'none';\n",
              "\n",
              "        async function convertToInteractive(key) {\n",
              "          const element = document.querySelector('#df-8307994f-846a-45ff-9725-a2039f2ee779');\n",
              "          const dataTable =\n",
              "            await google.colab.kernel.invokeFunction('convertToInteractive',\n",
              "                                                     [key], {});\n",
              "          if (!dataTable) return;\n",
              "\n",
              "          const docLinkHtml = 'Like what you see? Visit the ' +\n",
              "            '<a target=\"_blank\" href=https://colab.research.google.com/notebooks/data_table.ipynb>data table notebook</a>'\n",
              "            + ' to learn more about interactive tables.';\n",
              "          element.innerHTML = '';\n",
              "          dataTable['output_type'] = 'display_data';\n",
              "          await google.colab.output.renderOutput(dataTable, element);\n",
              "          const docLink = document.createElement('div');\n",
              "          docLink.innerHTML = docLinkHtml;\n",
              "          element.appendChild(docLink);\n",
              "        }\n",
              "      </script>\n",
              "    </div>\n",
              "  </div>\n",
              "  "
            ]
          },
          "metadata": {},
          "execution_count": 13
        }
      ]
    },
    {
      "cell_type": "code",
      "source": [
        "# loading in poverty dataset\n",
        "# Here using the absolute directory from github folder, so make sure having the following csv file in the same directory with the notebook.\n",
        "poverty_df = pd.read_csv('./SAIPESNC_18MAY22_16_38_35_19.csv')\n",
        "poverty_df.head()"
      ],
      "metadata": {
        "colab": {
          "base_uri": "https://localhost:8080/",
          "height": 392
        },
        "id": "ulXs1PIZhgAb",
        "outputId": "3f15a221-b6b7-41ad-c53d-5f7f023671bd"
      },
      "execution_count": 14,
      "outputs": [
        {
          "output_type": "error",
          "ename": "FileNotFoundError",
          "evalue": "ignored",
          "traceback": [
            "\u001b[0;31m---------------------------------------------------------------------------\u001b[0m",
            "\u001b[0;31mFileNotFoundError\u001b[0m                         Traceback (most recent call last)",
            "\u001b[0;32m<ipython-input-14-c574b0e20853>\u001b[0m in \u001b[0;36m<module>\u001b[0;34m()\u001b[0m\n\u001b[1;32m      1\u001b[0m \u001b[0;31m# loading in poverty dataset\u001b[0m\u001b[0;34m\u001b[0m\u001b[0;34m\u001b[0m\u001b[0;34m\u001b[0m\u001b[0m\n\u001b[1;32m      2\u001b[0m \u001b[0;31m# Here using the absolute directory from github folder, so make sure having the following csv file in the same directory with the notebook.\u001b[0m\u001b[0;34m\u001b[0m\u001b[0;34m\u001b[0m\u001b[0;34m\u001b[0m\u001b[0m\n\u001b[0;32m----> 3\u001b[0;31m \u001b[0mpoverty_df\u001b[0m \u001b[0;34m=\u001b[0m \u001b[0mpd\u001b[0m\u001b[0;34m.\u001b[0m\u001b[0mread_csv\u001b[0m\u001b[0;34m(\u001b[0m\u001b[0;34m'./SAIPESNC_18MAY22_16_38_35_19.csv'\u001b[0m\u001b[0;34m)\u001b[0m\u001b[0;34m\u001b[0m\u001b[0;34m\u001b[0m\u001b[0m\n\u001b[0m\u001b[1;32m      4\u001b[0m \u001b[0mpoverty_df\u001b[0m\u001b[0;34m.\u001b[0m\u001b[0mhead\u001b[0m\u001b[0;34m(\u001b[0m\u001b[0;34m)\u001b[0m\u001b[0;34m\u001b[0m\u001b[0;34m\u001b[0m\u001b[0m\n",
            "\u001b[0;32m/usr/local/lib/python3.7/dist-packages/pandas/util/_decorators.py\u001b[0m in \u001b[0;36mwrapper\u001b[0;34m(*args, **kwargs)\u001b[0m\n\u001b[1;32m    309\u001b[0m                     \u001b[0mstacklevel\u001b[0m\u001b[0;34m=\u001b[0m\u001b[0mstacklevel\u001b[0m\u001b[0;34m,\u001b[0m\u001b[0;34m\u001b[0m\u001b[0;34m\u001b[0m\u001b[0m\n\u001b[1;32m    310\u001b[0m                 )\n\u001b[0;32m--> 311\u001b[0;31m             \u001b[0;32mreturn\u001b[0m \u001b[0mfunc\u001b[0m\u001b[0;34m(\u001b[0m\u001b[0;34m*\u001b[0m\u001b[0margs\u001b[0m\u001b[0;34m,\u001b[0m \u001b[0;34m**\u001b[0m\u001b[0mkwargs\u001b[0m\u001b[0;34m)\u001b[0m\u001b[0;34m\u001b[0m\u001b[0;34m\u001b[0m\u001b[0m\n\u001b[0m\u001b[1;32m    312\u001b[0m \u001b[0;34m\u001b[0m\u001b[0m\n\u001b[1;32m    313\u001b[0m         \u001b[0;32mreturn\u001b[0m \u001b[0mwrapper\u001b[0m\u001b[0;34m\u001b[0m\u001b[0;34m\u001b[0m\u001b[0m\n",
            "\u001b[0;32m/usr/local/lib/python3.7/dist-packages/pandas/io/parsers/readers.py\u001b[0m in \u001b[0;36mread_csv\u001b[0;34m(filepath_or_buffer, sep, delimiter, header, names, index_col, usecols, squeeze, prefix, mangle_dupe_cols, dtype, engine, converters, true_values, false_values, skipinitialspace, skiprows, skipfooter, nrows, na_values, keep_default_na, na_filter, verbose, skip_blank_lines, parse_dates, infer_datetime_format, keep_date_col, date_parser, dayfirst, cache_dates, iterator, chunksize, compression, thousands, decimal, lineterminator, quotechar, quoting, doublequote, escapechar, comment, encoding, encoding_errors, dialect, error_bad_lines, warn_bad_lines, on_bad_lines, delim_whitespace, low_memory, memory_map, float_precision, storage_options)\u001b[0m\n\u001b[1;32m    584\u001b[0m     \u001b[0mkwds\u001b[0m\u001b[0;34m.\u001b[0m\u001b[0mupdate\u001b[0m\u001b[0;34m(\u001b[0m\u001b[0mkwds_defaults\u001b[0m\u001b[0;34m)\u001b[0m\u001b[0;34m\u001b[0m\u001b[0;34m\u001b[0m\u001b[0m\n\u001b[1;32m    585\u001b[0m \u001b[0;34m\u001b[0m\u001b[0m\n\u001b[0;32m--> 586\u001b[0;31m     \u001b[0;32mreturn\u001b[0m \u001b[0m_read\u001b[0m\u001b[0;34m(\u001b[0m\u001b[0mfilepath_or_buffer\u001b[0m\u001b[0;34m,\u001b[0m \u001b[0mkwds\u001b[0m\u001b[0;34m)\u001b[0m\u001b[0;34m\u001b[0m\u001b[0;34m\u001b[0m\u001b[0m\n\u001b[0m\u001b[1;32m    587\u001b[0m \u001b[0;34m\u001b[0m\u001b[0m\n\u001b[1;32m    588\u001b[0m \u001b[0;34m\u001b[0m\u001b[0m\n",
            "\u001b[0;32m/usr/local/lib/python3.7/dist-packages/pandas/io/parsers/readers.py\u001b[0m in \u001b[0;36m_read\u001b[0;34m(filepath_or_buffer, kwds)\u001b[0m\n\u001b[1;32m    480\u001b[0m \u001b[0;34m\u001b[0m\u001b[0m\n\u001b[1;32m    481\u001b[0m     \u001b[0;31m# Create the parser.\u001b[0m\u001b[0;34m\u001b[0m\u001b[0;34m\u001b[0m\u001b[0;34m\u001b[0m\u001b[0m\n\u001b[0;32m--> 482\u001b[0;31m     \u001b[0mparser\u001b[0m \u001b[0;34m=\u001b[0m \u001b[0mTextFileReader\u001b[0m\u001b[0;34m(\u001b[0m\u001b[0mfilepath_or_buffer\u001b[0m\u001b[0;34m,\u001b[0m \u001b[0;34m**\u001b[0m\u001b[0mkwds\u001b[0m\u001b[0;34m)\u001b[0m\u001b[0;34m\u001b[0m\u001b[0;34m\u001b[0m\u001b[0m\n\u001b[0m\u001b[1;32m    483\u001b[0m \u001b[0;34m\u001b[0m\u001b[0m\n\u001b[1;32m    484\u001b[0m     \u001b[0;32mif\u001b[0m \u001b[0mchunksize\u001b[0m \u001b[0;32mor\u001b[0m \u001b[0miterator\u001b[0m\u001b[0;34m:\u001b[0m\u001b[0;34m\u001b[0m\u001b[0;34m\u001b[0m\u001b[0m\n",
            "\u001b[0;32m/usr/local/lib/python3.7/dist-packages/pandas/io/parsers/readers.py\u001b[0m in \u001b[0;36m__init__\u001b[0;34m(self, f, engine, **kwds)\u001b[0m\n\u001b[1;32m    809\u001b[0m             \u001b[0mself\u001b[0m\u001b[0;34m.\u001b[0m\u001b[0moptions\u001b[0m\u001b[0;34m[\u001b[0m\u001b[0;34m\"has_index_names\"\u001b[0m\u001b[0;34m]\u001b[0m \u001b[0;34m=\u001b[0m \u001b[0mkwds\u001b[0m\u001b[0;34m[\u001b[0m\u001b[0;34m\"has_index_names\"\u001b[0m\u001b[0;34m]\u001b[0m\u001b[0;34m\u001b[0m\u001b[0;34m\u001b[0m\u001b[0m\n\u001b[1;32m    810\u001b[0m \u001b[0;34m\u001b[0m\u001b[0m\n\u001b[0;32m--> 811\u001b[0;31m         \u001b[0mself\u001b[0m\u001b[0;34m.\u001b[0m\u001b[0m_engine\u001b[0m \u001b[0;34m=\u001b[0m \u001b[0mself\u001b[0m\u001b[0;34m.\u001b[0m\u001b[0m_make_engine\u001b[0m\u001b[0;34m(\u001b[0m\u001b[0mself\u001b[0m\u001b[0;34m.\u001b[0m\u001b[0mengine\u001b[0m\u001b[0;34m)\u001b[0m\u001b[0;34m\u001b[0m\u001b[0;34m\u001b[0m\u001b[0m\n\u001b[0m\u001b[1;32m    812\u001b[0m \u001b[0;34m\u001b[0m\u001b[0m\n\u001b[1;32m    813\u001b[0m     \u001b[0;32mdef\u001b[0m \u001b[0mclose\u001b[0m\u001b[0;34m(\u001b[0m\u001b[0mself\u001b[0m\u001b[0;34m)\u001b[0m\u001b[0;34m:\u001b[0m\u001b[0;34m\u001b[0m\u001b[0;34m\u001b[0m\u001b[0m\n",
            "\u001b[0;32m/usr/local/lib/python3.7/dist-packages/pandas/io/parsers/readers.py\u001b[0m in \u001b[0;36m_make_engine\u001b[0;34m(self, engine)\u001b[0m\n\u001b[1;32m   1038\u001b[0m             )\n\u001b[1;32m   1039\u001b[0m         \u001b[0;31m# error: Too many arguments for \"ParserBase\"\u001b[0m\u001b[0;34m\u001b[0m\u001b[0;34m\u001b[0m\u001b[0;34m\u001b[0m\u001b[0m\n\u001b[0;32m-> 1040\u001b[0;31m         \u001b[0;32mreturn\u001b[0m \u001b[0mmapping\u001b[0m\u001b[0;34m[\u001b[0m\u001b[0mengine\u001b[0m\u001b[0;34m]\u001b[0m\u001b[0;34m(\u001b[0m\u001b[0mself\u001b[0m\u001b[0;34m.\u001b[0m\u001b[0mf\u001b[0m\u001b[0;34m,\u001b[0m \u001b[0;34m**\u001b[0m\u001b[0mself\u001b[0m\u001b[0;34m.\u001b[0m\u001b[0moptions\u001b[0m\u001b[0;34m)\u001b[0m  \u001b[0;31m# type: ignore[call-arg]\u001b[0m\u001b[0;34m\u001b[0m\u001b[0;34m\u001b[0m\u001b[0m\n\u001b[0m\u001b[1;32m   1041\u001b[0m \u001b[0;34m\u001b[0m\u001b[0m\n\u001b[1;32m   1042\u001b[0m     \u001b[0;32mdef\u001b[0m \u001b[0m_failover_to_python\u001b[0m\u001b[0;34m(\u001b[0m\u001b[0mself\u001b[0m\u001b[0;34m)\u001b[0m\u001b[0;34m:\u001b[0m\u001b[0;34m\u001b[0m\u001b[0;34m\u001b[0m\u001b[0m\n",
            "\u001b[0;32m/usr/local/lib/python3.7/dist-packages/pandas/io/parsers/c_parser_wrapper.py\u001b[0m in \u001b[0;36m__init__\u001b[0;34m(self, src, **kwds)\u001b[0m\n\u001b[1;32m     49\u001b[0m \u001b[0;34m\u001b[0m\u001b[0m\n\u001b[1;32m     50\u001b[0m         \u001b[0;31m# open handles\u001b[0m\u001b[0;34m\u001b[0m\u001b[0;34m\u001b[0m\u001b[0;34m\u001b[0m\u001b[0m\n\u001b[0;32m---> 51\u001b[0;31m         \u001b[0mself\u001b[0m\u001b[0;34m.\u001b[0m\u001b[0m_open_handles\u001b[0m\u001b[0;34m(\u001b[0m\u001b[0msrc\u001b[0m\u001b[0;34m,\u001b[0m \u001b[0mkwds\u001b[0m\u001b[0;34m)\u001b[0m\u001b[0;34m\u001b[0m\u001b[0;34m\u001b[0m\u001b[0m\n\u001b[0m\u001b[1;32m     52\u001b[0m         \u001b[0;32massert\u001b[0m \u001b[0mself\u001b[0m\u001b[0;34m.\u001b[0m\u001b[0mhandles\u001b[0m \u001b[0;32mis\u001b[0m \u001b[0;32mnot\u001b[0m \u001b[0;32mNone\u001b[0m\u001b[0;34m\u001b[0m\u001b[0;34m\u001b[0m\u001b[0m\n\u001b[1;32m     53\u001b[0m \u001b[0;34m\u001b[0m\u001b[0m\n",
            "\u001b[0;32m/usr/local/lib/python3.7/dist-packages/pandas/io/parsers/base_parser.py\u001b[0m in \u001b[0;36m_open_handles\u001b[0;34m(self, src, kwds)\u001b[0m\n\u001b[1;32m    227\u001b[0m             \u001b[0mmemory_map\u001b[0m\u001b[0;34m=\u001b[0m\u001b[0mkwds\u001b[0m\u001b[0;34m.\u001b[0m\u001b[0mget\u001b[0m\u001b[0;34m(\u001b[0m\u001b[0;34m\"memory_map\"\u001b[0m\u001b[0;34m,\u001b[0m \u001b[0;32mFalse\u001b[0m\u001b[0;34m)\u001b[0m\u001b[0;34m,\u001b[0m\u001b[0;34m\u001b[0m\u001b[0;34m\u001b[0m\u001b[0m\n\u001b[1;32m    228\u001b[0m             \u001b[0mstorage_options\u001b[0m\u001b[0;34m=\u001b[0m\u001b[0mkwds\u001b[0m\u001b[0;34m.\u001b[0m\u001b[0mget\u001b[0m\u001b[0;34m(\u001b[0m\u001b[0;34m\"storage_options\"\u001b[0m\u001b[0;34m,\u001b[0m \u001b[0;32mNone\u001b[0m\u001b[0;34m)\u001b[0m\u001b[0;34m,\u001b[0m\u001b[0;34m\u001b[0m\u001b[0;34m\u001b[0m\u001b[0m\n\u001b[0;32m--> 229\u001b[0;31m             \u001b[0merrors\u001b[0m\u001b[0;34m=\u001b[0m\u001b[0mkwds\u001b[0m\u001b[0;34m.\u001b[0m\u001b[0mget\u001b[0m\u001b[0;34m(\u001b[0m\u001b[0;34m\"encoding_errors\"\u001b[0m\u001b[0;34m,\u001b[0m \u001b[0;34m\"strict\"\u001b[0m\u001b[0;34m)\u001b[0m\u001b[0;34m,\u001b[0m\u001b[0;34m\u001b[0m\u001b[0;34m\u001b[0m\u001b[0m\n\u001b[0m\u001b[1;32m    230\u001b[0m         )\n\u001b[1;32m    231\u001b[0m \u001b[0;34m\u001b[0m\u001b[0m\n",
            "\u001b[0;32m/usr/local/lib/python3.7/dist-packages/pandas/io/common.py\u001b[0m in \u001b[0;36mget_handle\u001b[0;34m(path_or_buf, mode, encoding, compression, memory_map, is_text, errors, storage_options)\u001b[0m\n\u001b[1;32m    705\u001b[0m                 \u001b[0mencoding\u001b[0m\u001b[0;34m=\u001b[0m\u001b[0mioargs\u001b[0m\u001b[0;34m.\u001b[0m\u001b[0mencoding\u001b[0m\u001b[0;34m,\u001b[0m\u001b[0;34m\u001b[0m\u001b[0;34m\u001b[0m\u001b[0m\n\u001b[1;32m    706\u001b[0m                 \u001b[0merrors\u001b[0m\u001b[0;34m=\u001b[0m\u001b[0merrors\u001b[0m\u001b[0;34m,\u001b[0m\u001b[0;34m\u001b[0m\u001b[0;34m\u001b[0m\u001b[0m\n\u001b[0;32m--> 707\u001b[0;31m                 \u001b[0mnewline\u001b[0m\u001b[0;34m=\u001b[0m\u001b[0;34m\"\"\u001b[0m\u001b[0;34m,\u001b[0m\u001b[0;34m\u001b[0m\u001b[0;34m\u001b[0m\u001b[0m\n\u001b[0m\u001b[1;32m    708\u001b[0m             )\n\u001b[1;32m    709\u001b[0m         \u001b[0;32melse\u001b[0m\u001b[0;34m:\u001b[0m\u001b[0;34m\u001b[0m\u001b[0;34m\u001b[0m\u001b[0m\n",
            "\u001b[0;31mFileNotFoundError\u001b[0m: [Errno 2] No such file or directory: './SAIPESNC_18MAY22_16_38_35_19.csv'"
          ]
        }
      ]
    },
    {
      "cell_type": "code",
      "source": [
        "poverty_df.shape, poverty_df.columns"
      ],
      "metadata": {
        "id": "QdGPUkyIhgFA"
      },
      "execution_count": null,
      "outputs": []
    },
    {
      "cell_type": "code",
      "source": [
        "# removing unecessary columns\n",
        "poverty_df = poverty_df.drop(columns=['Year','All Ages SAIPE Poverty Universe',\\\n",
        "                 'All Ages in Poverty Count LB 90%', 'All Ages in Poverty Count UB 90%',\\\n",
        "                 '90% Confidence Interval (All Ages in Poverty Count)',\n",
        "                 'All Ages in Poverty Percent LB 90%',\n",
        "                 'All Ages in Poverty Percent UB 90%',\n",
        "                 '90% Confidence Interval (All Ages in Poverty Percent)',\n",
        "                 'Under Age 18 SAIPE Poverty Universe',\n",
        "                 'Under Age 18 in Poverty Count LB 90%',\n",
        "                 'Under Age 18 in Poverty Count UB 90%',\n",
        "                 '90% Confidence Interval (Under Age 18 in Poverty Count)',\n",
        "                 'Under Age 18 in Poverty Percent LB 90%',\n",
        "                 'Under Age 18 in Poverty Percent UB 90%',\n",
        "                 '90% Confidence Interval (Under Age 18 in Poverty Percent)',\n",
        "                 'Ages 5 to 17 in Families SAIPE Poverty Universe',\n",
        "                 'Ages 5 to 17 in Families in Poverty Count',\n",
        "                 'Ages 5 to 17 in Families in Poverty Count LB 90%',\n",
        "                 'Ages 5 to 17 in Families in Poverty Count UB 90%',\n",
        "                 '90% Confidence Interval (Ages 5 to 17 in Families in Poverty Count)',\n",
        "                 'Ages 5 to 17 in Families in Poverty Percent',\n",
        "                 'Ages 5 to 17 in Families in Poverty Percent LB 90%',\n",
        "                 'Ages 5 to 17 in Families in Poverty Percent UB 90%',\n",
        "                 '90% Confidence Interval (Ages 5 to 17 in Families in Poverty Percent)',\n",
        "                 'Under Age 5 SAIPE Poverty Universe', 'Under Age 5 in Poverty Count',\n",
        "                 'Under Age 5 in Poverty Count LB 90%',\n",
        "                 'Under Age 5 in Poverty Count UB 90%',\n",
        "                 '90% Confidence Interval (Under Age 5 in Poverty Count)',\n",
        "                 'Under Age 5 in Poverty Percent',\n",
        "                 'Under Age 5 in Poverty Percent LB 90%',\n",
        "                 'Under Age 5 in Poverty Percent UB 90%',\n",
        "                 '90% Confidence Interval (Under Age 5 in Poverty Percent)',\n",
        "                 'Median Household Income in Dollars LB 90%',\n",
        "                 'Median Household Income in Dollars UB 90%',\n",
        "                 '90% Confidence Interval (Median Household Income in Dollars)'])\n",
        "\n",
        "poverty_df.head()"
      ],
      "metadata": {
        "id": "pGvDZRy0hgI2"
      },
      "execution_count": null,
      "outputs": []
    },
    {
      "cell_type": "code",
      "source": [
        "# filtering to only select state information\n",
        "state_id = []\n",
        "for x in range(57):\n",
        "    state_id.append(x * 1000)\n",
        "poverty_df = poverty_df[poverty_df.loc[:,'County ID'] % 1000 == 0]"
      ],
      "metadata": {
        "id": "wMFlz8VPhgNH"
      },
      "execution_count": null,
      "outputs": []
    },
    {
      "cell_type": "code",
      "source": [
        "#rename the columns\n",
        "poverty_df = poverty_df.reset_index().drop(['index','State','County ID'],axis = 1)\n",
        "poverty_df = poverty_df.drop(0)\n",
        "poverty_df.columns = ['state','all_ages_poverty_count','all_ages_poverty_pct','under_18_poverty_count','under_18_poverty_pct','median_household_income']"
      ],
      "metadata": {
        "id": "yRQiq6KDhgRc"
      },
      "execution_count": null,
      "outputs": []
    },
    {
      "cell_type": "code",
      "source": [
        "#changing non-numeric types into int\n",
        "poverty_df['median_household_income'] = poverty_df['median_household_income'].str.replace('$','')\n",
        "poverty_df['median_household_income'] = poverty_df['median_household_income'].str.replace(',','')\n",
        "poverty_df['median_household_income'] = pd.to_numeric(poverty_df['median_household_income'])\n",
        "poverty_df['all_ages_poverty_count'] = poverty_df['all_ages_poverty_count'].str.replace(',','')\n",
        "poverty_df['all_ages_poverty_count'] = pd.to_numeric(poverty_df['all_ages_poverty_count'])\n",
        "poverty_df['under_18_poverty_count'] = poverty_df['under_18_poverty_count'].str.replace(',','')\n",
        "poverty_df['under_18_poverty_count'] = pd.to_numeric(poverty_df['under_18_poverty_count'])"
      ],
      "metadata": {
        "id": "AWefxH5wimnn"
      },
      "execution_count": null,
      "outputs": []
    },
    {
      "cell_type": "code",
      "source": [
        "poverty_df.head()"
      ],
      "metadata": {
        "id": "z1w1O58nimw-"
      },
      "execution_count": null,
      "outputs": []
    },
    {
      "cell_type": "markdown",
      "metadata": {
        "id": "cpvLQsFDbMJU"
      },
      "source": [
        "# Data Analysis & Results"
      ]
    },
    {
      "cell_type": "markdown",
      "metadata": {
        "id": "oj9S-T8YbMJU"
      },
      "source": [
        "Here we use OLS to see if there's significant relationship between varaibles and which variables may have a significant influence.\n",
        "\n",
        "Looking at poverty_percentage VS infection_rate and death rate. From this we can see that there's positive correlation between covid infection and poverty. So for states that have a higher poverty percentage there is also a higher number of infections.\n",
        "\n",
        "Next we look across our data from all 50 states in terms of infection rate against median household income. This time there is a negative correlation in the data. Meaning household with higher income are less likely to contract Covid.\n",
        "\n",
        "The graphs below support our hypothesis that Covid have a higher impact on households that are in poverty but not a very strong one."
      ]
    },
    {
      "cell_type": "markdown",
      "source": [
        "Firstly, a whole dataframe is created by merging all 3 dataframe we got so far. Each state is an observation and their related data is listed as variable in columns shown below."
      ],
      "metadata": {
        "id": "9Wx8dFsoDEZR"
      }
    },
    {
      "cell_type": "code",
      "execution_count": 15,
      "metadata": {
        "id": "1UOuTqQVbMJU",
        "colab": {
          "base_uri": "https://localhost:8080/",
          "height": 215
        },
        "outputId": "c67a6ce0-0701-46b9-e2f4-e30a892a507f"
      },
      "outputs": [
        {
          "output_type": "error",
          "ename": "NameError",
          "evalue": "ignored",
          "traceback": [
            "\u001b[0;31m---------------------------------------------------------------------------\u001b[0m",
            "\u001b[0;31mNameError\u001b[0m                                 Traceback (most recent call last)",
            "\u001b[0;32m<ipython-input-15-d2020ababb43>\u001b[0m in \u001b[0;36m<module>\u001b[0;34m()\u001b[0m\n\u001b[1;32m      1\u001b[0m \u001b[0;31m#Creating DataFrame for EDA\u001b[0m\u001b[0;34m\u001b[0m\u001b[0;34m\u001b[0m\u001b[0;34m\u001b[0m\u001b[0m\n\u001b[1;32m      2\u001b[0m \u001b[0meda_df\u001b[0m \u001b[0;34m=\u001b[0m \u001b[0mcovid_states\u001b[0m\u001b[0;34m.\u001b[0m\u001b[0mmerge\u001b[0m\u001b[0;34m(\u001b[0m\u001b[0mstate_population\u001b[0m\u001b[0;34m,\u001b[0m\u001b[0mhow\u001b[0m \u001b[0;34m=\u001b[0m \u001b[0;34m'inner'\u001b[0m\u001b[0;34m,\u001b[0m\u001b[0mon\u001b[0m \u001b[0;34m=\u001b[0m \u001b[0;34m'state'\u001b[0m\u001b[0;34m)\u001b[0m\u001b[0;34m\u001b[0m\u001b[0;34m\u001b[0m\u001b[0m\n\u001b[0;32m----> 3\u001b[0;31m \u001b[0meda_df\u001b[0m \u001b[0;34m=\u001b[0m \u001b[0meda_df\u001b[0m\u001b[0;34m.\u001b[0m\u001b[0mmerge\u001b[0m\u001b[0;34m(\u001b[0m\u001b[0mpoverty_df\u001b[0m\u001b[0;34m,\u001b[0m\u001b[0mhow\u001b[0m \u001b[0;34m=\u001b[0m \u001b[0;34m'inner'\u001b[0m\u001b[0;34m,\u001b[0m\u001b[0mon\u001b[0m \u001b[0;34m=\u001b[0m \u001b[0;34m'state'\u001b[0m\u001b[0;34m)\u001b[0m\u001b[0;34m\u001b[0m\u001b[0;34m\u001b[0m\u001b[0m\n\u001b[0m\u001b[1;32m      4\u001b[0m \u001b[0meda_df\u001b[0m\u001b[0;34m.\u001b[0m\u001b[0mhead\u001b[0m\u001b[0;34m(\u001b[0m\u001b[0;34m)\u001b[0m\u001b[0;34m\u001b[0m\u001b[0;34m\u001b[0m\u001b[0m\n",
            "\u001b[0;31mNameError\u001b[0m: name 'poverty_df' is not defined"
          ]
        }
      ],
      "source": [
        "#Creating DataFrame for EDA\n",
        "eda_df = covid_states.merge(state_population,how = 'inner',on = 'state')\n",
        "eda_df = eda_df.merge(poverty_df,how = 'inner',on = 'state')\n",
        "eda_df.head()"
      ]
    },
    {
      "cell_type": "markdown",
      "source": [
        "The distribution of number of cases and deaths are plotted. We realize it is variable that is highly related to the population and need to be normalized if we want to use it for the further analysis."
      ],
      "metadata": {
        "id": "r1bZYVxGDCMK"
      }
    },
    {
      "cell_type": "code",
      "source": [
        "#the cases and deaths are highly related to the population size so are needed to be normalized\n",
        "fig, axes = plt.subplots(1, 2, figsize=(10, 5))\n",
        "\n",
        "sns.histplot(ax=axes[0], data = eda_df, x = 'cases')\n",
        "\n",
        "sns.histplot(ax=axes[1], data = eda_df, x = 'deaths', color = 'mediumseagreen')"
      ],
      "metadata": {
        "id": "iZ8CIUYljuzt",
        "colab": {
          "base_uri": "https://localhost:8080/",
          "height": 353
        },
        "outputId": "74c474be-34dd-4804-ddaf-09ce1a76aa4e"
      },
      "execution_count": null,
      "outputs": [
        {
          "output_type": "execute_result",
          "data": {
            "text/plain": [
              "<matplotlib.axes._subplots.AxesSubplot at 0x7faf9a61d250>"
            ]
          },
          "metadata": {},
          "execution_count": 23
        },
        {
          "output_type": "display_data",
          "data": {
            "text/plain": [
              "<Figure size 720x360 with 2 Axes>"
            ],
            "image/png": "[encoded data removed]"
          },
          "metadata": {
            "needs_background": "light"
          }
        }
      ]
    },
    {
      "cell_type": "markdown",
      "source": [
        "We normalize the cases and deaths count by states population to get a infection/death rate. Furthermore, we calculating over 18 poverty percent from the total poverty count and the under 18 poverty count. Now we have all variables to conduct the regression analysis."
      ],
      "metadata": {
        "id": "bXHtTwOiDsYJ"
      }
    },
    {
      "cell_type": "code",
      "source": [
        "#First, normalize the number of cases and deaths by states population\n",
        "eda_df['avg_pop_estimate'] = (eda_df['pop_estimate_2020'] + eda_df['pop_estimate_2021'])/2\n",
        "eda_df['cases_rate'] = 100*eda_df['cases']/eda_df['avg_pop_estimate']\n",
        "eda_df['deaths_rate'] = 100*eda_df['deaths']/eda_df['avg_pop_estimate']\n",
        "#Add a subgroup called over_18_poverty_pct from all_ages_poverty_count and avg_pop_estimate columns\n",
        "eda_df['over_18_poverty_pct'] = 100*(eda_df['all_ages_poverty_count'] - eda_df['under_18_poverty_count'])/eda_df['avg_pop_estimate']\n",
        "#drop the count column we don't need now (using percentage for the rest of the analyssis)\n",
        "eda_df = eda_df.drop(columns=['pop_estimate_2020','pop_estimate_2021', 'under_18_poverty_count','all_ages_poverty_count'])\n",
        "eda_df.head()"
      ],
      "metadata": {
        "id": "-6Kt-gcoju4R",
        "colab": {
          "base_uri": "https://localhost:8080/",
          "height": 353
        },
        "outputId": "2bef745a-764d-4621-dcea-ab115380741c"
      },
      "execution_count": null,
      "outputs": [
        {
          "output_type": "execute_result",
          "data": {
            "text/plain": [
              "        state        date    cases  deaths      county  all_ages_poverty_pct  \\\n",
              "0     Alabama  2022-06-04  1317029   19664     Alabama                  14.9   \n",
              "1      Alaska  2022-06-04   261117    1246      Alaska                   9.6   \n",
              "2     Arizona  2022-06-04  2062669   30332     Arizona                  12.8   \n",
              "3    Arkansas  2022-06-04   845647   11498    Arkansas                  15.2   \n",
              "4  California  2022-06-04  9661160   91660  California                  11.5   \n",
              "\n",
              "   under_18_poverty_pct  median_household_income  avg_pop_estimate  \\\n",
              "0                  20.9                    53958         5032340.0   \n",
              "1                  12.3                    79961          732557.0   \n",
              "2                  17.6                    64652         7227151.0   \n",
              "3                  20.8                    51146         3019061.5   \n",
              "4                  14.6                    83001        39368787.0   \n",
              "\n",
              "   cases_rate  deaths_rate  over_18_poverty_pct  \n",
              "0   26.171304     0.390753             9.769491  \n",
              "1   35.644598     0.170089             6.450693  \n",
              "2   28.540555     0.419695             8.978476  \n",
              "3   28.010261     0.380847            10.129307  \n",
              "4   24.540152     0.232824             8.024179  "
            ],
            "text/html": [
              "\n",
              "  <div id=\"df-d519a599-66bc-45da-b933-a0f73c49fd9f\">\n",
              "    <div class=\"colab-df-container\">\n",
              "      <div>\n",
              "<style scoped>\n",
              "    .dataframe tbody tr th:only-of-type {\n",
              "        vertical-align: middle;\n",
              "    }\n",
              "\n",
              "    .dataframe tbody tr th {\n",
              "        vertical-align: top;\n",
              "    }\n",
              "\n",
              "    .dataframe thead th {\n",
              "        text-align: right;\n",
              "    }\n",
              "</style>\n",
              "<table border=\"1\" class=\"dataframe\">\n",
              "  <thead>\n",
              "    <tr style=\"text-align: right;\">\n",
              "      <th></th>\n",
              "      <th>state</th>\n",
              "      <th>date</th>\n",
              "      <th>cases</th>\n",
              "      <th>deaths</th>\n",
              "      <th>county</th>\n",
              "      <th>all_ages_poverty_pct</th>\n",
              "      <th>under_18_poverty_pct</th>\n",
              "      <th>median_household_income</th>\n",
              "      <th>avg_pop_estimate</th>\n",
              "      <th>cases_rate</th>\n",
              "      <th>deaths_rate</th>\n",
              "      <th>over_18_poverty_pct</th>\n",
              "    </tr>\n",
              "  </thead>\n",
              "  <tbody>\n",
              "    <tr>\n",
              "      <th>0</th>\n",
              "      <td>Alabama</td>\n",
              "      <td>2022-06-04</td>\n",
              "      <td>1317029</td>\n",
              "      <td>19664</td>\n",
              "      <td>Alabama</td>\n",
              "      <td>14.9</td>\n",
              "      <td>20.9</td>\n",
              "      <td>53958</td>\n",
              "      <td>5032340.0</td>\n",
              "      <td>26.171304</td>\n",
              "      <td>0.390753</td>\n",
              "      <td>9.769491</td>\n",
              "    </tr>\n",
              "    <tr>\n",
              "      <th>1</th>\n",
              "      <td>Alaska</td>\n",
              "      <td>2022-06-04</td>\n",
              "      <td>261117</td>\n",
              "      <td>1246</td>\n",
              "      <td>Alaska</td>\n",
              "      <td>9.6</td>\n",
              "      <td>12.3</td>\n",
              "      <td>79961</td>\n",
              "      <td>732557.0</td>\n",
              "      <td>35.644598</td>\n",
              "      <td>0.170089</td>\n",
              "      <td>6.450693</td>\n",
              "    </tr>\n",
              "    <tr>\n",
              "      <th>2</th>\n",
              "      <td>Arizona</td>\n",
              "      <td>2022-06-04</td>\n",
              "      <td>2062669</td>\n",
              "      <td>30332</td>\n",
              "      <td>Arizona</td>\n",
              "      <td>12.8</td>\n",
              "      <td>17.6</td>\n",
              "      <td>64652</td>\n",
              "      <td>7227151.0</td>\n",
              "      <td>28.540555</td>\n",
              "      <td>0.419695</td>\n",
              "      <td>8.978476</td>\n",
              "    </tr>\n",
              "    <tr>\n",
              "      <th>3</th>\n",
              "      <td>Arkansas</td>\n",
              "      <td>2022-06-04</td>\n",
              "      <td>845647</td>\n",
              "      <td>11498</td>\n",
              "      <td>Arkansas</td>\n",
              "      <td>15.2</td>\n",
              "      <td>20.8</td>\n",
              "      <td>51146</td>\n",
              "      <td>3019061.5</td>\n",
              "      <td>28.010261</td>\n",
              "      <td>0.380847</td>\n",
              "      <td>10.129307</td>\n",
              "    </tr>\n",
              "    <tr>\n",
              "      <th>4</th>\n",
              "      <td>California</td>\n",
              "      <td>2022-06-04</td>\n",
              "      <td>9661160</td>\n",
              "      <td>91660</td>\n",
              "      <td>California</td>\n",
              "      <td>11.5</td>\n",
              "      <td>14.6</td>\n",
              "      <td>83001</td>\n",
              "      <td>39368787.0</td>\n",
              "      <td>24.540152</td>\n",
              "      <td>0.232824</td>\n",
              "      <td>8.024179</td>\n",
              "    </tr>\n",
              "  </tbody>\n",
              "</table>\n",
              "</div>\n",
              "      <button class=\"colab-df-convert\" onclick=\"convertToInteractive('df-d519a599-66bc-45da-b933-a0f73c49fd9f')\"\n",
              "              title=\"Convert this dataframe to an interactive table.\"\n",
              "              style=\"display:none;\">\n",
              "        \n",
              "  <svg xmlns=\"http://www.w3.org/2000/svg\" height=\"24px\"viewBox=\"0 0 24 24\"\n",
              "       width=\"24px\">\n",
              "    <path d=\"M0 0h24v24H0V0z\" fill=\"none\"/>\n",
              "    <path d=\"M18.56 5.44l.94 2.06.94-2.06 2.06-.94-2.06-.94-.94-2.06-.94 2.06-2.06.94zm-11 1L8.5 8.5l.94-2.06 2.06-.94-2.06-.94L8.5 2.5l-.94 2.06-2.06.94zm10 10l.94 2.06.94-2.06 2.06-.94-2.06-.94-.94-2.06-.94 2.06-2.06.94z\"/><path d=\"M17.41 7.96l-1.37-1.37c-.4-.4-.92-.59-1.43-.59-.52 0-1.04.2-1.43.59L10.3 9.45l-7.72 7.72c-.78.78-.78 2.05 0 2.83L4 21.41c.39.39.9.59 1.41.59.51 0 1.02-.2 1.41-.59l7.78-7.78 2.81-2.81c.8-.78.8-2.07 0-2.86zM5.41 20L4 18.59l7.72-7.72 1.47 1.35L5.41 20z\"/>\n",
              "  </svg>\n",
              "      </button>\n",
              "      \n",
              "  <style>\n",
              "    .colab-df-container {\n",
              "      display:flex;\n",
              "      flex-wrap:wrap;\n",
              "      gap: 12px;\n",
              "    }\n",
              "\n",
              "    .colab-df-convert {\n",
              "      background-color: #E8F0FE;\n",
              "      border: none;\n",
              "      border-radius: 50%;\n",
              "      cursor: pointer;\n",
              "      display: none;\n",
              "      fill: #1967D2;\n",
              "      height: 32px;\n",
              "      padding: 0 0 0 0;\n",
              "      width: 32px;\n",
              "    }\n",
              "\n",
              "    .colab-df-convert:hover {\n",
              "      background-color: #E2EBFA;\n",
              "      box-shadow: 0px 1px 2px rgba(60, 64, 67, 0.3), 0px 1px 3px 1px rgba(60, 64, 67, 0.15);\n",
              "      fill: #174EA6;\n",
              "    }\n",
              "\n",
              "    [theme=dark] .colab-df-convert {\n",
              "      background-color: #3B4455;\n",
              "      fill: #D2E3FC;\n",
              "    }\n",
              "\n",
              "    [theme=dark] .colab-df-convert:hover {\n",
              "      background-color: #434B5C;\n",
              "      box-shadow: 0px 1px 3px 1px rgba(0, 0, 0, 0.15);\n",
              "      filter: drop-shadow(0px 1px 2px rgba(0, 0, 0, 0.3));\n",
              "      fill: #FFFFFF;\n",
              "    }\n",
              "  </style>\n",
              "\n",
              "      <script>\n",
              "        const buttonEl =\n",
              "          document.querySelector('#df-d519a599-66bc-45da-b933-a0f73c49fd9f button.colab-df-convert');\n",
              "        buttonEl.style.display =\n",
              "          google.colab.kernel.accessAllowed ? 'block' : 'none';\n",
              "\n",
              "        async function convertToInteractive(key) {\n",
              "          const element = document.querySelector('#df-d519a599-66bc-45da-b933-a0f73c49fd9f');\n",
              "          const dataTable =\n",
              "            await google.colab.kernel.invokeFunction('convertToInteractive',\n",
              "                                                     [key], {});\n",
              "          if (!dataTable) return;\n",
              "\n",
              "          const docLinkHtml = 'Like what you see? Visit the ' +\n",
              "            '<a target=\"_blank\" href=https://colab.research.google.com/notebooks/data_table.ipynb>data table notebook</a>'\n",
              "            + ' to learn more about interactive tables.';\n",
              "          element.innerHTML = '';\n",
              "          dataTable['output_type'] = 'display_data';\n",
              "          await google.colab.output.renderOutput(dataTable, element);\n",
              "          const docLink = document.createElement('div');\n",
              "          docLink.innerHTML = docLinkHtml;\n",
              "          element.appendChild(docLink);\n",
              "        }\n",
              "      </script>\n",
              "    </div>\n",
              "  </div>\n",
              "  "
            ]
          },
          "metadata": {},
          "execution_count": 24
        }
      ]
    },
    {
      "cell_type": "markdown",
      "source": [
        "The cases and deaths after normalization is normal enough for now and other variables all look normal too. So the assumption of conducting linear regression is satisfied."
      ],
      "metadata": {
        "id": "prgFlxXKENrk"
      }
    },
    {
      "cell_type": "code",
      "source": [
        "#Normalized rate looks normal now from histogram\n",
        "fig, axes = plt.subplots(1, 2, figsize=(10, 5))\n",
        "\n",
        "sns.histplot(ax=axes[0], data = eda_df, x = 'cases_rate')\n",
        "\n",
        "sns.histplot(ax=axes[1], data = eda_df, x = 'deaths_rate', color = 'mediumseagreen')"
      ],
      "metadata": {
        "id": "wOl-esNGju8C",
        "colab": {
          "base_uri": "https://localhost:8080/",
          "height": 356
        },
        "outputId": "10931db6-a934-4eb1-add9-9f8d6dc3e4e0"
      },
      "execution_count": null,
      "outputs": [
        {
          "output_type": "execute_result",
          "data": {
            "text/plain": [
              "<matplotlib.axes._subplots.AxesSubplot at 0x7faf97f84510>"
            ]
          },
          "metadata": {},
          "execution_count": 35
        },
        {
          "output_type": "display_data",
          "data": {
            "text/plain": [
              "<Figure size 720x360 with 2 Axes>"
            ],
            "image/png": "[encoded data removed]"
          },
          "metadata": {}
        }
      ]
    },
    {
      "cell_type": "code",
      "source": [
        "#rest of the variables looks normal\n",
        "fig, axes = plt.subplots(1, 3, figsize=(15, 5))\n",
        "\n",
        "sns.histplot(ax=axes[0], data = eda_df, x = 'all_ages_poverty_pct')\n",
        "\n",
        "sns.histplot(ax=axes[1], data = eda_df, x = 'under_18_poverty_pct',color = 'mediumseagreen')\n",
        "\n",
        "sns.histplot(ax=axes[2], data = eda_df, x = 'median_household_income',color = 'wheat')"
      ],
      "metadata": {
        "id": "-H1IhsGOj0SJ",
        "colab": {
          "base_uri": "https://localhost:8080/",
          "height": 356
        },
        "outputId": "917efd48-c3b0-4a92-ae74-db0ed58ae898"
      },
      "execution_count": null,
      "outputs": [
        {
          "output_type": "execute_result",
          "data": {
            "text/plain": [
              "<matplotlib.axes._subplots.AxesSubplot at 0x7faf97e900d0>"
            ]
          },
          "metadata": {},
          "execution_count": 36
        },
        {
          "output_type": "display_data",
          "data": {
            "text/plain": [
              "<Figure size 1080x360 with 3 Axes>"
            ],
            "image/png": "[encoded data removed]"
          },
          "metadata": {}
        }
      ]
    },
    {
      "cell_type": "markdown",
      "source": [
        "Before starting the regression analysis, we use scatter matrix first to see scatter plot between each 2 possible variables we got so far to see if there are some relationship that we need to specificly focus on."
      ],
      "metadata": {
        "id": "MzadB7AzEm0a"
      }
    },
    {
      "cell_type": "code",
      "source": [
        "#Searching some possible relationship using scatter matrix\n",
        "sns.set(rc={'figure.figsize':(8,8)})\n",
        "fig = pd.plotting.scatter_matrix(eda_df[['cases_rate','deaths_rate','all_ages_poverty_pct','under_18_poverty_pct','over_18_poverty_pct','median_household_income']])\n",
        "for ax in fig.flatten():\n",
        "    ax.xaxis.label.set_rotation(90)\n",
        "    ax.yaxis.label.set_rotation(0)\n",
        "    ax.yaxis.label.set_ha('right')\n",
        "#decribe the plot here: some variables are just natrually correlated like all_ages_poverty_pct and under_18_poverty_pct and median"
      ],
      "metadata": {
        "id": "ThpTixG7j0XW",
        "colab": {
          "base_uri": "https://localhost:8080/",
          "height": 668
        },
        "outputId": "661c0dc3-f917-4e00-d6b8-a8eaf2f72453"
      },
      "execution_count": null,
      "outputs": [
        {
          "output_type": "display_data",
          "data": {
            "text/plain": [
              "<Figure size 576x576 with 36 Axes>"
            ],
            "image/png": "[encoded data removed]"
          },
          "metadata": {}
        }
      ]
    },
    {
      "cell_type": "markdown",
      "source": [
        "There are some relatinoships that are natrually related like those variables related to poverty rate. But there are also some relationships we care about seems showing a linear relationship. Our nex step is to display them and simulate the regression line."
      ],
      "metadata": {
        "id": "Sv8ArVj9E4H3"
      }
    },
    {
      "cell_type": "code",
      "source": [
        "#some relationships we are interseted in\n",
        "fig, axes = plt.subplots(2, 4, figsize=(20, 8))\n",
        "\n",
        "sns.regplot(ax = axes[0,0], data = eda_df, x = 'all_ages_poverty_pct',y = 'cases_rate')\n",
        "\n",
        "sns.regplot(ax = axes[1,0], data = eda_df, x = 'all_ages_poverty_pct',y = 'deaths_rate')\n",
        "\n",
        "sns.regplot(ax = axes[0,1], data = eda_df, x = 'under_18_poverty_pct',y = 'cases_rate')\n",
        "\n",
        "sns.regplot(ax = axes[1,1], data = eda_df, x = 'under_18_poverty_pct',y = 'deaths_rate')\n",
        "\n",
        "sns.regplot(ax = axes[0,2], data = eda_df, x = 'over_18_poverty_pct',y = 'cases_rate')\n",
        "\n",
        "sns.regplot(ax = axes[1,2], data = eda_df, x = 'over_18_poverty_pct',y = 'deaths_rate')\n",
        "\n",
        "sns.regplot(ax = axes[0,3], data = eda_df, x = 'median_household_income',y = 'cases_rate')\n",
        "\n",
        "sns.regplot(ax = axes[1,3], data = eda_df, x = 'median_household_income',y = 'deaths_rate')"
      ],
      "metadata": {
        "id": "4eKrYJOej0bT",
        "colab": {
          "base_uri": "https://localhost:8080/",
          "height": 519
        },
        "outputId": "c41ed247-9227-4a98-c3bb-0e2085d08b9f"
      },
      "execution_count": null,
      "outputs": [
        {
          "output_type": "execute_result",
          "data": {
            "text/plain": [
              "<matplotlib.axes._subplots.AxesSubplot at 0x7faf9b0b58d0>"
            ]
          },
          "metadata": {},
          "execution_count": 39
        },
        {
          "output_type": "display_data",
          "data": {
            "text/plain": [
              "<Figure size 1440x576 with 8 Axes>"
            ],
            "image/png": "[encoded data removed]"
          },
          "metadata": {}
        }
      ]
    },
    {
      "cell_type": "markdown",
      "source": [
        "## Analysis and Observation\n",
        "\n",
        "First two-rows we are looking at the poverty_percentage against infection_rate and death rate. From this we can see that there's positive correlation between covid infection vs poverty percentage. What this mean is that for states that have higher poverty percentage there is also a higher number of infection.\n",
        "\n",
        "Next we look at infection rate against median household income. This time there is a negative correlation in the data. Meaning household with higher income are lesslikely to contract Covid. Across our data for 50 states, there is a slight increase in infection rates for a median income of 50,000 to 90,000 dollars.\n",
        "\n"
      ],
      "metadata": {
        "id": "x28zK14XkkNU"
      }
    },
    {
      "cell_type": "markdown",
      "source": [
        "The graph seems showing the positive/negative relationship we desire. But are they all statistically significant enough? We conduct OLS here to examine those correlations."
      ],
      "metadata": {
        "id": "PkeZG4juFqGt"
      }
    },
    {
      "cell_type": "code",
      "source": [
        "#This part use OLS to see if there's significant relationship between varaibles\n",
        "#See which varibale may have significant influence in cases_rate\n",
        "dependent, predictor = patsy.dmatrices('cases_rate ~ all_ages_poverty_pct', eda_df)\n",
        "model = sm.OLS(dependent,predictor)\n",
        "\n",
        "result = model.fit()\n",
        "print(result.summary())"
      ],
      "metadata": {
        "id": "DmrHw-t9lKBo",
        "colab": {
          "base_uri": "https://localhost:8080/"
        },
        "outputId": "ffbaed21-95c5-40b0-b9a8-b022f94b22d8"
      },
      "execution_count": null,
      "outputs": [
        {
          "output_type": "stream",
          "name": "stdout",
          "text": [
            "                            OLS Regression Results                            \n",
            "==============================================================================\n",
            "Dep. Variable:             cases_rate   R-squared:                       0.029\n",
            "Model:                            OLS   Adj. R-squared:                  0.009\n",
            "Method:                 Least Squares   F-statistic:                     1.482\n",
            "Date:                Sun, 05 Jun 2022   Prob (F-statistic):              0.229\n",
            "Time:                        22:36:59   Log-Likelihood:                -141.15\n",
            "No. Observations:                  52   AIC:                             286.3\n",
            "Df Residuals:                      50   BIC:                             290.2\n",
            "Df Model:                           1                                         \n",
            "Covariance Type:            nonrobust                                         \n",
            "========================================================================================\n",
            "                           coef    std err          t      P>|t|      [0.025      0.975]\n",
            "----------------------------------------------------------------------------------------\n",
            "Intercept               22.7785      2.388      9.540      0.000      17.982      27.575\n",
            "all_ages_poverty_pct     0.2415      0.198      1.217      0.229      -0.157       0.640\n",
            "==============================================================================\n",
            "Omnibus:                        5.728   Durbin-Watson:                   1.742\n",
            "Prob(Omnibus):                  0.057   Jarque-Bera (JB):                4.990\n",
            "Skew:                           0.517   Prob(JB):                       0.0825\n",
            "Kurtosis:                       4.111   Cond. No.                         56.0\n",
            "==============================================================================\n",
            "\n",
            "Warnings:\n",
            "[1] Standard Errors assume that the covariance matrix of the errors is correctly specified.\n"
          ]
        }
      ]
    },
    {
      "cell_type": "code",
      "source": [
        "dependent, predictor = patsy.dmatrices('cases_rate ~ under_18_poverty_pct', eda_df)\n",
        "model = sm.OLS(dependent,predictor)\n",
        "\n",
        "result = model.fit()\n",
        "print(result.summary())"
      ],
      "metadata": {
        "colab": {
          "base_uri": "https://localhost:8080/"
        },
        "id": "la6tptNIG5dv",
        "outputId": "ab53b4b8-9a1a-4538-de2d-c37518b02925"
      },
      "execution_count": null,
      "outputs": [
        {
          "output_type": "stream",
          "name": "stdout",
          "text": [
            "                            OLS Regression Results                            \n",
            "==============================================================================\n",
            "Dep. Variable:             cases_rate   R-squared:                       0.029\n",
            "Model:                            OLS   Adj. R-squared:                  0.010\n",
            "Method:                 Least Squares   F-statistic:                     1.496\n",
            "Date:                Sun, 05 Jun 2022   Prob (F-statistic):              0.227\n",
            "Time:                        22:37:00   Log-Likelihood:                -141.14\n",
            "No. Observations:                  52   AIC:                             286.3\n",
            "Df Residuals:                      50   BIC:                             290.2\n",
            "Df Model:                           1                                         \n",
            "Covariance Type:            nonrobust                                         \n",
            "========================================================================================\n",
            "                           coef    std err          t      P>|t|      [0.025      0.975]\n",
            "----------------------------------------------------------------------------------------\n",
            "Intercept               23.3950      1.888     12.390      0.000      19.603      27.188\n",
            "under_18_poverty_pct     0.1469      0.120      1.223      0.227      -0.094       0.388\n",
            "==============================================================================\n",
            "Omnibus:                        5.107   Durbin-Watson:                   1.747\n",
            "Prob(Omnibus):                  0.078   Jarque-Bera (JB):                4.202\n",
            "Skew:                           0.492   Prob(JB):                        0.122\n",
            "Kurtosis:                       3.986   Cond. No.                         57.7\n",
            "==============================================================================\n",
            "\n",
            "Warnings:\n",
            "[1] Standard Errors assume that the covariance matrix of the errors is correctly specified.\n"
          ]
        }
      ]
    },
    {
      "cell_type": "code",
      "source": [
        "dependent, predictor = patsy.dmatrices('cases_rate ~ over_18_poverty_pct', eda_df)\n",
        "model = sm.OLS(dependent,predictor)\n",
        "\n",
        "result = model.fit()\n",
        "print(result.summary())"
      ],
      "metadata": {
        "colab": {
          "base_uri": "https://localhost:8080/"
        },
        "id": "c2-_NOguNj2A",
        "outputId": "e45689a8-0402-4f62-c9df-ff1b0bb54664"
      },
      "execution_count": null,
      "outputs": [
        {
          "output_type": "stream",
          "name": "stdout",
          "text": [
            "                            OLS Regression Results                            \n",
            "==============================================================================\n",
            "Dep. Variable:             cases_rate   R-squared:                       0.014\n",
            "Model:                            OLS   Adj. R-squared:                 -0.005\n",
            "Method:                 Least Squares   F-statistic:                    0.7330\n",
            "Date:                Sun, 05 Jun 2022   Prob (F-statistic):              0.396\n",
            "Time:                        22:37:02   Log-Likelihood:                -141.53\n",
            "No. Observations:                  52   AIC:                             287.1\n",
            "Df Residuals:                      50   BIC:                             291.0\n",
            "Df Model:                           1                                         \n",
            "Covariance Type:            nonrobust                                         \n",
            "=======================================================================================\n",
            "                          coef    std err          t      P>|t|      [0.025      0.975]\n",
            "---------------------------------------------------------------------------------------\n",
            "Intercept              23.4614      2.570      9.128      0.000      18.299      28.624\n",
            "over_18_poverty_pct     0.2641      0.308      0.856      0.396      -0.355       0.884\n",
            "==============================================================================\n",
            "Omnibus:                        4.813   Durbin-Watson:                   1.704\n",
            "Prob(Omnibus):                  0.090   Jarque-Bera (JB):                4.029\n",
            "Skew:                           0.435   Prob(JB):                        0.133\n",
            "Kurtosis:                       4.050   Cond. No.                         41.7\n",
            "==============================================================================\n",
            "\n",
            "Warnings:\n",
            "[1] Standard Errors assume that the covariance matrix of the errors is correctly specified.\n"
          ]
        }
      ]
    },
    {
      "cell_type": "code",
      "source": [
        "dependent, predictor = patsy.dmatrices('cases_rate ~ median_household_income', eda_df)\n",
        "model = sm.OLS(dependent,predictor)\n",
        "\n",
        "result = model.fit()\n",
        "print(result.summary())"
      ],
      "metadata": {
        "colab": {
          "base_uri": "https://localhost:8080/"
        },
        "id": "WRGC-wD6OlwP",
        "outputId": "6f887a5e-0655-44ff-9391-55acfb1c7cab"
      },
      "execution_count": null,
      "outputs": [
        {
          "output_type": "stream",
          "name": "stdout",
          "text": [
            "                            OLS Regression Results                            \n",
            "==============================================================================\n",
            "Dep. Variable:             cases_rate   R-squared:                       0.083\n",
            "Model:                            OLS   Adj. R-squared:                  0.065\n",
            "Method:                 Least Squares   F-statistic:                     4.541\n",
            "Date:                Sun, 05 Jun 2022   Prob (F-statistic):             0.0380\n",
            "Time:                        22:37:05   Log-Likelihood:                -139.65\n",
            "No. Observations:                  52   AIC:                             283.3\n",
            "Df Residuals:                      50   BIC:                             287.2\n",
            "Df Model:                           1                                         \n",
            "Covariance Type:            nonrobust                                         \n",
            "===========================================================================================\n",
            "                              coef    std err          t      P>|t|      [0.025      0.975]\n",
            "-------------------------------------------------------------------------------------------\n",
            "Intercept                  31.8051      2.947     10.791      0.000      25.885      37.725\n",
            "median_household_income -9.155e-05    4.3e-05     -2.131      0.038      -0.000   -5.26e-06\n",
            "==============================================================================\n",
            "Omnibus:                       10.633   Durbin-Watson:                   1.819\n",
            "Prob(Omnibus):                  0.005   Jarque-Bera (JB):               12.751\n",
            "Skew:                           0.741   Prob(JB):                      0.00170\n",
            "Kurtosis:                       4.921   Cond. No.                     4.03e+05\n",
            "==============================================================================\n",
            "\n",
            "Warnings:\n",
            "[1] Standard Errors assume that the covariance matrix of the errors is correctly specified.\n",
            "[2] The condition number is large, 4.03e+05. This might indicate that there are\n",
            "strong multicollinearity or other numerical problems.\n"
          ]
        }
      ]
    },
    {
      "cell_type": "code",
      "source": [
        "#See which varibale may have significant influence on deaths_rate\n",
        "dependent, predictor = patsy.dmatrices('deaths_rate ~ all_ages_poverty_pct', eda_df)\n",
        "model = sm.OLS(dependent,predictor)\n",
        "\n",
        "result = model.fit()\n",
        "print(result.summary())"
      ],
      "metadata": {
        "colab": {
          "base_uri": "https://localhost:8080/"
        },
        "id": "CAP4cWzUNm95",
        "outputId": "75453151-22a7-42f7-f46c-1336e9f05e28"
      },
      "execution_count": null,
      "outputs": [
        {
          "output_type": "stream",
          "name": "stdout",
          "text": [
            "                            OLS Regression Results                            \n",
            "==============================================================================\n",
            "Dep. Variable:            deaths_rate   R-squared:                       0.377\n",
            "Model:                            OLS   Adj. R-squared:                  0.365\n",
            "Method:                 Least Squares   F-statistic:                     30.28\n",
            "Date:                Sun, 05 Jun 2022   Prob (F-statistic):           1.28e-06\n",
            "Time:                        22:37:09   Log-Likelihood:                 69.332\n",
            "No. Observations:                  52   AIC:                            -134.7\n",
            "Df Residuals:                      50   BIC:                            -130.8\n",
            "Df Model:                           1                                         \n",
            "Covariance Type:            nonrobust                                         \n",
            "========================================================================================\n",
            "                           coef    std err          t      P>|t|      [0.025      0.975]\n",
            "----------------------------------------------------------------------------------------\n",
            "Intercept                0.0669      0.042      1.605      0.115      -0.017       0.151\n",
            "all_ages_poverty_pct     0.0191      0.003      5.503      0.000       0.012       0.026\n",
            "==============================================================================\n",
            "Omnibus:                        5.945   Durbin-Watson:                   1.846\n",
            "Prob(Omnibus):                  0.051   Jarque-Bera (JB):                5.294\n",
            "Skew:                          -0.776   Prob(JB):                       0.0709\n",
            "Kurtosis:                       3.191   Cond. No.                         56.0\n",
            "==============================================================================\n",
            "\n",
            "Warnings:\n",
            "[1] Standard Errors assume that the covariance matrix of the errors is correctly specified.\n"
          ]
        }
      ]
    },
    {
      "cell_type": "code",
      "source": [
        "dependent, predictor = patsy.dmatrices('deaths_rate ~ under_18_poverty_pct', eda_df)\n",
        "model = sm.OLS(dependent,predictor)\n",
        "\n",
        "result = model.fit()\n",
        "print(result.summary())"
      ],
      "metadata": {
        "colab": {
          "base_uri": "https://localhost:8080/"
        },
        "id": "jbs5vbo6NzEz",
        "outputId": "dee9dc82-42c8-42b8-b244-a75507ea4ad3"
      },
      "execution_count": null,
      "outputs": [
        {
          "output_type": "stream",
          "name": "stdout",
          "text": [
            "                            OLS Regression Results                            \n",
            "==============================================================================\n",
            "Dep. Variable:            deaths_rate   R-squared:                       0.361\n",
            "Model:                            OLS   Adj. R-squared:                  0.348\n",
            "Method:                 Least Squares   F-statistic:                     28.22\n",
            "Date:                Sun, 05 Jun 2022   Prob (F-statistic):           2.50e-06\n",
            "Time:                        22:37:13   Log-Likelihood:                 68.658\n",
            "No. Observations:                  52   AIC:                            -133.3\n",
            "Df Residuals:                      50   BIC:                            -129.4\n",
            "Df Model:                           1                                         \n",
            "Covariance Type:            nonrobust                                         \n",
            "========================================================================================\n",
            "                           coef    std err          t      P>|t|      [0.025      0.975]\n",
            "----------------------------------------------------------------------------------------\n",
            "Intercept                0.1202      0.033      3.599      0.001       0.053       0.187\n",
            "under_18_poverty_pct     0.0113      0.002      5.313      0.000       0.007       0.016\n",
            "==============================================================================\n",
            "Omnibus:                        8.941   Durbin-Watson:                   1.757\n",
            "Prob(Omnibus):                  0.011   Jarque-Bera (JB):                8.429\n",
            "Skew:                          -0.954   Prob(JB):                       0.0148\n",
            "Kurtosis:                       3.496   Cond. No.                         57.7\n",
            "==============================================================================\n",
            "\n",
            "Warnings:\n",
            "[1] Standard Errors assume that the covariance matrix of the errors is correctly specified.\n"
          ]
        }
      ]
    },
    {
      "cell_type": "code",
      "source": [
        "dependent, predictor = patsy.dmatrices('deaths_rate ~ over_18_poverty_pct', eda_df)\n",
        "model = sm.OLS(dependent,predictor)\n",
        "\n",
        "result = model.fit()\n",
        "print(result.summary())"
      ],
      "metadata": {
        "colab": {
          "base_uri": "https://localhost:8080/"
        },
        "id": "CdWXdbZ0N6O2",
        "outputId": "98642dbb-829c-45de-e9c4-c8323a37254b"
      },
      "execution_count": null,
      "outputs": [
        {
          "output_type": "stream",
          "name": "stdout",
          "text": [
            "                            OLS Regression Results                            \n",
            "==============================================================================\n",
            "Dep. Variable:            deaths_rate   R-squared:                       0.311\n",
            "Model:                            OLS   Adj. R-squared:                  0.297\n",
            "Method:                 Least Squares   F-statistic:                     22.52\n",
            "Date:                Fri, 03 Jun 2022   Prob (F-statistic):           1.78e-05\n",
            "Time:                        20:18:01   Log-Likelihood:                 66.674\n",
            "No. Observations:                  52   AIC:                            -129.3\n",
            "Df Residuals:                      50   BIC:                            -125.4\n",
            "Df Model:                           1                                         \n",
            "Covariance Type:            nonrobust                                         \n",
            "=======================================================================================\n",
            "                          coef    std err          t      P>|t|      [0.025      0.975]\n",
            "---------------------------------------------------------------------------------------\n",
            "Intercept               0.0728      0.047      1.552      0.127      -0.021       0.167\n",
            "over_18_poverty_pct     0.0267      0.006      4.746      0.000       0.015       0.038\n",
            "==============================================================================\n",
            "Omnibus:                        7.847   Durbin-Watson:                   1.879\n",
            "Prob(Omnibus):                  0.020   Jarque-Bera (JB):                7.354\n",
            "Skew:                          -0.909   Prob(JB):                       0.0253\n",
            "Kurtosis:                       3.300   Cond. No.                         41.7\n",
            "==============================================================================\n",
            "\n",
            "Warnings:\n",
            "[1] Standard Errors assume that the covariance matrix of the errors is correctly specified.\n"
          ]
        }
      ]
    },
    {
      "cell_type": "code",
      "source": [
        "dependent, predictor = patsy.dmatrices('deaths_rate ~ median_household_income', eda_df)\n",
        "model = sm.OLS(dependent,predictor)\n",
        "\n",
        "result = model.fit()\n",
        "print(result.summary())"
      ],
      "metadata": {
        "colab": {
          "base_uri": "https://localhost:8080/"
        },
        "id": "1uyWL438OUFh",
        "outputId": "e8be3d0e-c9f7-47cc-d9cc-612a5591a19f"
      },
      "execution_count": null,
      "outputs": [
        {
          "output_type": "stream",
          "name": "stdout",
          "text": [
            "                            OLS Regression Results                            \n",
            "==============================================================================\n",
            "Dep. Variable:            deaths_rate   R-squared:                       0.364\n",
            "Model:                            OLS   Adj. R-squared:                  0.352\n",
            "Method:                 Least Squares   F-statistic:                     28.65\n",
            "Date:                Fri, 03 Jun 2022   Prob (F-statistic):           2.18e-06\n",
            "Time:                        20:20:24   Log-Likelihood:                 68.783\n",
            "No. Observations:                  52   AIC:                            -133.6\n",
            "Df Residuals:                      50   BIC:                            -129.7\n",
            "Df Model:                           1                                         \n",
            "Covariance Type:            nonrobust                                         \n",
            "===========================================================================================\n",
            "                              coef    std err          t      P>|t|      [0.025      0.975]\n",
            "-------------------------------------------------------------------------------------------\n",
            "Intercept                   0.5731      0.054     10.705      0.000       0.466       0.681\n",
            "median_household_income -4.177e-06    7.8e-07     -5.353      0.000   -5.74e-06   -2.61e-06\n",
            "==============================================================================\n",
            "Omnibus:                        4.976   Durbin-Watson:                   2.058\n",
            "Prob(Omnibus):                  0.083   Jarque-Bera (JB):                3.969\n",
            "Skew:                          -0.510   Prob(JB):                        0.137\n",
            "Kurtosis:                       3.891   Cond. No.                     4.03e+05\n",
            "==============================================================================\n",
            "\n",
            "Warnings:\n",
            "[1] Standard Errors assume that the covariance matrix of the errors is correctly specified.\n",
            "[2] The condition number is large, 4.03e+05. This might indicate that there are\n",
            "strong multicollinearity or other numerical problems.\n"
          ]
        }
      ]
    },
    {
      "cell_type": "markdown",
      "source": [
        "The OLS analysis here list out related variables that we care about. Some vairables do have relationship between them and some other may not have teh significant relationship we expected due to the large p-value. But some descent conclusion can be drawn from the regression plot and OLS analysis. They are listed in the conclusion section."
      ],
      "metadata": {
        "id": "4VI5_BuWBl-K"
      }
    },
    {
      "cell_type": "markdown",
      "metadata": {
        "id": "IgaX0Y4fbMJU"
      },
      "source": [
        "# Ethics & Privacy"
      ]
    },
    {
      "cell_type": "markdown",
      "metadata": {
        "id": "XaJtVE9bbMJU"
      },
      "source": [
        "- When looking for datasets to use for this project, one of the main concerns that we had to account for was making sure that people's personal information was being used in the datasets along with not mentioning any of the people who have died to COVID-19. The datasets that we used didn't comprimise people's privacy in anyway. \n",
        "\n",
        "- The predictions that are made from this analysis shouldn't have any bias within them since data like population and estimate of people in poverty are from the government and not from a survey done by a non-government affiliated organization. \n",
        "\n",
        "- We also wanted to make sure that the analysis that we were doing wouldn't have any negative affects on the people it being done on. Since this analysis brings light to the disparity in covid contraction rates between higher and lower household incomes, we decided that this analysis was actually beneficial. Since it can be used to advocate for better treatment for people who do not have the means to pay for better access to health care.\n",
        "\n",
        "- All of the information used in the analysis if open to public as well so the information used was ethically obtained\n"
      ]
    },
    {
      "cell_type": "markdown",
      "metadata": {
        "id": "cV1pNGtYbMJU"
      },
      "source": [
        "# Conclusion & Discussion"
      ]
    },
    {
      "cell_type": "markdown",
      "source": [
        "From the the analysis we do see a positive correlation between covid infection rates and regions below the poverty line however, the correlation was found to not be statistically significant. \n",
        "\n",
        "In general and on a sliding scale, our results suggest households with higher income are lesslikely to contract Covid. For example, households with incomes between \\$50,000 and $90,000 dollars were found to have a negative correlation.\n",
        "\n",
        "In conclusion, our findings do not fully support our hypothesis of impoverished households in the U.S. having higher rates of infection.<br>\n",
        "\n",
        "OLS Results; <br>\n",
        "\n",
        "Conclusion 1: Median household income of region may affect the infection rate and death rate (per $1000 of median income, the infection rates decrease by 0.09% and decrease death rate by 0.004%, according to significant p-value)<br>\n",
        "\n",
        "Conclusion 2: A significant relationship between poverty percent of a region and its corresponding infection rates was not found, even though they exist on our graph. The \"all ages poverty percent\" seems to positievly correlate with the \"deaths_rate\" according to its small p-value (1 more percent of poverty of a region may increase its deaths rate by 0.0191%).<br>\n",
        "\n",
        "Another finding is that the poverty percentage of the over 18 group has a much larger effect on death rate than the under 18 group, suggesting that age could possibly be a co-factor.<br>"
      ],
      "metadata": {
        "id": "bOiG72xVO1Zh"
      }
    },
    {
      "cell_type": "markdown",
      "metadata": {
        "id": "g_F-TakPbMJV"
      },
      "source": [
        "# Team Contributions"
      ]
    },
    {
      "cell_type": "markdown",
      "metadata": {
        "id": "3PfWMJqUbMJV"
      },
      "source": [
        "Albert Henderson: Final report and Video <br>\n",
        "Yixuan Jiao: Finding dataset, data cleaning, EDA, and conclusion\n",
        "Dat Ta: data cleaning and analysis\n",
        "Antonio Gomez: Final report"
      ]
    },
    {
      "cell_type": "code",
      "source": [
        ""
      ],
      "metadata": {
        "id": "rpiC6bF9w5gr"
      },
      "execution_count": null,
      "outputs": []
    }
  ],
  "metadata": {
    "kernelspec": {
      "display_name": "Python 3",
      "language": "python",
      "name": "python3"
    },
    "language_info": {
      "codemirror_mode": {
        "name": "ipython",
        "version": 3
      },
      "file_extension": ".py",
      "mimetype": "text/x-python",
      "name": "python",
      "nbconvert_exporter": "python",
      "pygments_lexer": "ipython3",
      "version": "3.7.9"
    },
    "colab": {
      "name": "FinalProjectGroup054Sp22.ipynb",
      "provenance": [],
      "collapsed_sections": []
    }
  },
  "nbformat": 4,
  "nbformat_minor": 0
}
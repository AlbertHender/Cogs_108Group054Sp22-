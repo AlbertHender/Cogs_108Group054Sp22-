{
 "cells": [
  {
   "cell_type": "markdown",
   "metadata": {
    "id": "KfNh63Ot06yR"
   },
   "source": [
    "# COGS 108 - EDA Checkpoint"
   ]
  },
  {
   "cell_type": "markdown",
   "metadata": {
    "id": "utBZQWyH06yX"
   },
   "source": [
    "# Names\n",
    "\n",
    "- Yixuan Jiao\n",
    "- Dat Ta\n",
    "- Antonio (jose) Gomez\n",
    "- Albert"
   ]
  },
  {
   "cell_type": "markdown",
   "metadata": {
    "id": "cVd5ChkC06yY"
   },
   "source": [
    "<a id='research_question'></a>\n",
    "# Research Question"
   ]
  },
  {
   "cell_type": "markdown",
   "metadata": {
    "id": "DyzrEFiN06yZ"
   },
   "source": [
    "Do Americans living in poor households (income below U.S. Federal Poverty threshold) get/contract Covid at a higher rate?"
   ]
  },
  {
   "cell_type": "markdown",
   "metadata": {
    "id": "a9hzpqeb06ya"
   },
   "source": [
    "# Setup"
   ]
  },
  {
   "cell_type": "code",
   "execution_count": 1,
   "metadata": {
    "colab": {
     "base_uri": "https://localhost:8080/"
    },
    "id": "j-kjc08k06ya",
    "outputId": "5834c11d-d880-43dd-fd51-992c8ec6571c"
   },
   "outputs": [],
   "source": [
    "import pandas as pd\n",
    "import seaborn as sns\n",
    "import numpy as np\n",
    "import matplotlib.pyplot as plt\n",
    "import patsy\n",
    "import statsmodels.api as sm"
   ]
  },
  {
   "cell_type": "markdown",
   "metadata": {
    "id": "5Lvlruzb06yc"
   },
   "source": [
    "# Data Cleaning"
   ]
  },
  {
   "cell_type": "markdown",
   "metadata": {
    "id": "xTfpghW006yd"
   },
   "source": [
    "Describe your data cleaning steps here."
   ]
  },
  {
   "cell_type": "code",
   "execution_count": 2,
   "metadata": {
    "colab": {
     "base_uri": "https://localhost:8080/",
     "height": 204
    },
    "id": "KR_Oqwhu2C8Q",
    "outputId": "1f128586-993d-484f-ce91-20ddf3a02204"
   },
   "outputs": [
    {
     "data": {
      "text/html": [
       "<div>\n",
       "<style scoped>\n",
       "    .dataframe tbody tr th:only-of-type {\n",
       "        vertical-align: middle;\n",
       "    }\n",
       "\n",
       "    .dataframe tbody tr th {\n",
       "        vertical-align: top;\n",
       "    }\n",
       "\n",
       "    .dataframe thead th {\n",
       "        text-align: right;\n",
       "    }\n",
       "</style>\n",
       "<table border=\"1\" class=\"dataframe\">\n",
       "  <thead>\n",
       "    <tr style=\"text-align: right;\">\n",
       "      <th></th>\n",
       "      <th>date</th>\n",
       "      <th>state</th>\n",
       "      <th>fips</th>\n",
       "      <th>cases</th>\n",
       "      <th>deaths</th>\n",
       "    </tr>\n",
       "  </thead>\n",
       "  <tbody>\n",
       "    <tr>\n",
       "      <th>0</th>\n",
       "      <td>2020-01-21</td>\n",
       "      <td>Washington</td>\n",
       "      <td>53</td>\n",
       "      <td>1</td>\n",
       "      <td>0</td>\n",
       "    </tr>\n",
       "    <tr>\n",
       "      <th>1</th>\n",
       "      <td>2020-01-22</td>\n",
       "      <td>Washington</td>\n",
       "      <td>53</td>\n",
       "      <td>1</td>\n",
       "      <td>0</td>\n",
       "    </tr>\n",
       "    <tr>\n",
       "      <th>2</th>\n",
       "      <td>2020-01-23</td>\n",
       "      <td>Washington</td>\n",
       "      <td>53</td>\n",
       "      <td>1</td>\n",
       "      <td>0</td>\n",
       "    </tr>\n",
       "    <tr>\n",
       "      <th>3</th>\n",
       "      <td>2020-01-24</td>\n",
       "      <td>Illinois</td>\n",
       "      <td>17</td>\n",
       "      <td>1</td>\n",
       "      <td>0</td>\n",
       "    </tr>\n",
       "    <tr>\n",
       "      <th>4</th>\n",
       "      <td>2020-01-24</td>\n",
       "      <td>Washington</td>\n",
       "      <td>53</td>\n",
       "      <td>1</td>\n",
       "      <td>0</td>\n",
       "    </tr>\n",
       "  </tbody>\n",
       "</table>\n",
       "</div>"
      ],
      "text/plain": [
       "         date       state  fips  cases  deaths\n",
       "0  2020-01-21  Washington    53      1       0\n",
       "1  2020-01-22  Washington    53      1       0\n",
       "2  2020-01-23  Washington    53      1       0\n",
       "3  2020-01-24    Illinois    17      1       0\n",
       "4  2020-01-24  Washington    53      1       0"
      ]
     },
     "execution_count": 2,
     "metadata": {},
     "output_type": "execute_result"
    }
   ],
   "source": [
    "# Loading states covid data\n",
    "# A county covid dataset are also available under the same resporitory, we could retrieve it as we need following the same procedure like retrieving this one.\n",
    "covid_states = pd.read_csv('https://raw.githubusercontent.com/nytimes/covid-19-data/master/us-states.csv')\n",
    "covid_states.head()"
   ]
  },
  {
   "cell_type": "code",
   "execution_count": 3,
   "metadata": {
    "colab": {
     "base_uri": "https://localhost:8080/"
    },
    "id": "iAYi2i042DSB",
    "outputId": "3f222a24-0722-45b1-dc05-553c9cc97d11"
   },
   "outputs": [
    {
     "data": {
      "text/plain": [
       "(44750, 5)"
      ]
     },
     "execution_count": 3,
     "metadata": {},
     "output_type": "execute_result"
    }
   ],
   "source": [
    "covid_states.shape"
   ]
  },
  {
   "cell_type": "code",
   "execution_count": 4,
   "metadata": {
    "colab": {
     "base_uri": "https://localhost:8080/"
    },
    "id": "D09LSfNi2Djc",
    "outputId": "2c95226e-0d04-4aab-fb59-9a95ddd3f2c6"
   },
   "outputs": [
    {
     "data": {
      "text/plain": [
       "False"
      ]
     },
     "execution_count": 4,
     "metadata": {},
     "output_type": "execute_result"
    }
   ],
   "source": [
    "#it is already very clean table\n",
    "covid_states.isnull().values.any()"
   ]
  },
  {
   "cell_type": "code",
   "execution_count": 5,
   "metadata": {
    "colab": {
     "base_uri": "https://localhost:8080/",
     "height": 459
    },
    "id": "iZatCVcl2Dyr",
    "outputId": "8200216e-2e69-477f-94db-0e8dba4a1fb4"
   },
   "outputs": [
    {
     "data": {
      "image/png": "[encoded data removed]",
      "text/plain": [
       "<Figure size 432x288 with 1 Axes>"
      ]
     },
     "metadata": {
      "needs_background": "light"
     },
     "output_type": "display_data"
    }
   ],
   "source": [
    "#plotting some states' cases over data further more validate the dataset since this trend make sense and that reminds us to get some population dataset to normalize the count.\n",
    "covid_states_sub = covid_states[covid_states['state'].isin(['California','Florida','Alabama'])]\n",
    "states_lineplot = sns.lineplot(x = covid_states_sub['date'], y = covid_states_sub['cases'], hue = covid_states_sub['state'])"
   ]
  },
  {
   "cell_type": "code",
   "execution_count": 6,
   "metadata": {
    "colab": {
     "base_uri": "https://localhost:8080/",
     "height": 341
    },
    "id": "3OhVBAlcmKnH",
    "outputId": "991e9115-4397-4c7f-cd8a-9fa87c5541dc"
   },
   "outputs": [
    {
     "data": {
      "text/html": [
       "<div>\n",
       "<style scoped>\n",
       "    .dataframe tbody tr th:only-of-type {\n",
       "        vertical-align: middle;\n",
       "    }\n",
       "\n",
       "    .dataframe tbody tr th {\n",
       "        vertical-align: top;\n",
       "    }\n",
       "\n",
       "    .dataframe thead th {\n",
       "        text-align: right;\n",
       "    }\n",
       "</style>\n",
       "<table border=\"1\" class=\"dataframe\">\n",
       "  <thead>\n",
       "    <tr style=\"text-align: right;\">\n",
       "      <th></th>\n",
       "      <th>state</th>\n",
       "      <th>date</th>\n",
       "      <th>cases</th>\n",
       "      <th>deaths</th>\n",
       "    </tr>\n",
       "  </thead>\n",
       "  <tbody>\n",
       "    <tr>\n",
       "      <th>0</th>\n",
       "      <td>Alabama</td>\n",
       "      <td>2022-05-20</td>\n",
       "      <td>1307883</td>\n",
       "      <td>19645</td>\n",
       "    </tr>\n",
       "    <tr>\n",
       "      <th>1</th>\n",
       "      <td>Alaska</td>\n",
       "      <td>2022-05-20</td>\n",
       "      <td>256415</td>\n",
       "      <td>1246</td>\n",
       "    </tr>\n",
       "    <tr>\n",
       "      <th>2</th>\n",
       "      <td>American Samoa</td>\n",
       "      <td>2022-05-20</td>\n",
       "      <td>6011</td>\n",
       "      <td>30</td>\n",
       "    </tr>\n",
       "    <tr>\n",
       "      <th>3</th>\n",
       "      <td>Arizona</td>\n",
       "      <td>2022-05-20</td>\n",
       "      <td>2038129</td>\n",
       "      <td>30259</td>\n",
       "    </tr>\n",
       "    <tr>\n",
       "      <th>4</th>\n",
       "      <td>Arkansas</td>\n",
       "      <td>2022-05-20</td>\n",
       "      <td>840151</td>\n",
       "      <td>11432</td>\n",
       "    </tr>\n",
       "  </tbody>\n",
       "</table>\n",
       "</div>"
      ],
      "text/plain": [
       "            state        date    cases  deaths\n",
       "0         Alabama  2022-05-20  1307883   19645\n",
       "1          Alaska  2022-05-20   256415    1246\n",
       "2  American Samoa  2022-05-20     6011      30\n",
       "3         Arizona  2022-05-20  2038129   30259\n",
       "4        Arkansas  2022-05-20   840151   11432"
      ]
     },
     "execution_count": 6,
     "metadata": {},
     "output_type": "execute_result"
    }
   ],
   "source": [
    "covid_states = covid_states.drop('fips',axis = 1)\n",
    "covid_states = covid_states.groupby('state').agg('max').reset_index()\n",
    "covid_states.head()"
   ]
  },
  {
   "cell_type": "code",
   "execution_count": 7,
   "metadata": {
    "id": "YZkZ-uIg2EDW"
   },
   "outputs": [],
   "source": [
    "#Loading population dataset\n",
    "county_population = pd.read_csv('https://www2.census.gov/programs-surveys/popest/datasets/2020-2021/counties/totals/co-est2021-alldata.csv',encoding='latin-1')"
   ]
  },
  {
   "cell_type": "code",
   "execution_count": 8,
   "metadata": {
    "colab": {
     "base_uri": "https://localhost:8080/",
     "height": 365
    },
    "id": "ghvfw3GU2bxd",
    "outputId": "0bf5ba58-055c-410c-bb24-24931fbd4bb6"
   },
   "outputs": [
    {
     "data": {
      "text/html": [
       "<div>\n",
       "<style scoped>\n",
       "    .dataframe tbody tr th:only-of-type {\n",
       "        vertical-align: middle;\n",
       "    }\n",
       "\n",
       "    .dataframe tbody tr th {\n",
       "        vertical-align: top;\n",
       "    }\n",
       "\n",
       "    .dataframe thead th {\n",
       "        text-align: right;\n",
       "    }\n",
       "</style>\n",
       "<table border=\"1\" class=\"dataframe\">\n",
       "  <thead>\n",
       "    <tr style=\"text-align: right;\">\n",
       "      <th></th>\n",
       "      <th>SUMLEV</th>\n",
       "      <th>REGION</th>\n",
       "      <th>DIVISION</th>\n",
       "      <th>STATE</th>\n",
       "      <th>COUNTY</th>\n",
       "      <th>STNAME</th>\n",
       "      <th>CTYNAME</th>\n",
       "      <th>ESTIMATESBASE2020</th>\n",
       "      <th>POPESTIMATE2020</th>\n",
       "      <th>POPESTIMATE2021</th>\n",
       "      <th>...</th>\n",
       "      <th>RESIDUAL2021</th>\n",
       "      <th>GQESTIMATESBASE2020</th>\n",
       "      <th>GQESTIMATES2020</th>\n",
       "      <th>GQESTIMATES2021</th>\n",
       "      <th>RBIRTH2021</th>\n",
       "      <th>RDEATH2021</th>\n",
       "      <th>RNATURALCHG2021</th>\n",
       "      <th>RINTERNATIONALMIG2021</th>\n",
       "      <th>RDOMESTICMIG2021</th>\n",
       "      <th>RNETMIG2021</th>\n",
       "    </tr>\n",
       "  </thead>\n",
       "  <tbody>\n",
       "    <tr>\n",
       "      <th>0</th>\n",
       "      <td>40</td>\n",
       "      <td>3</td>\n",
       "      <td>6</td>\n",
       "      <td>1</td>\n",
       "      <td>0</td>\n",
       "      <td>Alabama</td>\n",
       "      <td>Alabama</td>\n",
       "      <td>5024279</td>\n",
       "      <td>5024803</td>\n",
       "      <td>5039877</td>\n",
       "      <td>...</td>\n",
       "      <td>242</td>\n",
       "      <td>114572</td>\n",
       "      <td>114572</td>\n",
       "      <td>114572</td>\n",
       "      <td>11.191613</td>\n",
       "      <td>12.890226</td>\n",
       "      <td>-1.698613</td>\n",
       "      <td>0.247201</td>\n",
       "      <td>4.398749</td>\n",
       "      <td>4.645950</td>\n",
       "    </tr>\n",
       "    <tr>\n",
       "      <th>1</th>\n",
       "      <td>50</td>\n",
       "      <td>3</td>\n",
       "      <td>6</td>\n",
       "      <td>1</td>\n",
       "      <td>1</td>\n",
       "      <td>Alabama</td>\n",
       "      <td>Autauga County</td>\n",
       "      <td>58805</td>\n",
       "      <td>58877</td>\n",
       "      <td>59095</td>\n",
       "      <td>...</td>\n",
       "      <td>8</td>\n",
       "      <td>442</td>\n",
       "      <td>442</td>\n",
       "      <td>442</td>\n",
       "      <td>11.002611</td>\n",
       "      <td>11.545112</td>\n",
       "      <td>-0.542502</td>\n",
       "      <td>0.084766</td>\n",
       "      <td>4.017903</td>\n",
       "      <td>4.102668</td>\n",
       "    </tr>\n",
       "    <tr>\n",
       "      <th>2</th>\n",
       "      <td>50</td>\n",
       "      <td>3</td>\n",
       "      <td>6</td>\n",
       "      <td>1</td>\n",
       "      <td>3</td>\n",
       "      <td>Alabama</td>\n",
       "      <td>Baldwin County</td>\n",
       "      <td>231767</td>\n",
       "      <td>233140</td>\n",
       "      <td>239294</td>\n",
       "      <td>...</td>\n",
       "      <td>-82</td>\n",
       "      <td>2177</td>\n",
       "      <td>2177</td>\n",
       "      <td>2177</td>\n",
       "      <td>9.567474</td>\n",
       "      <td>12.137145</td>\n",
       "      <td>-2.569671</td>\n",
       "      <td>0.266704</td>\n",
       "      <td>28.702422</td>\n",
       "      <td>28.969126</td>\n",
       "    </tr>\n",
       "    <tr>\n",
       "      <th>3</th>\n",
       "      <td>50</td>\n",
       "      <td>3</td>\n",
       "      <td>6</td>\n",
       "      <td>1</td>\n",
       "      <td>5</td>\n",
       "      <td>Alabama</td>\n",
       "      <td>Barbour County</td>\n",
       "      <td>25223</td>\n",
       "      <td>25180</td>\n",
       "      <td>24964</td>\n",
       "      <td>...</td>\n",
       "      <td>1</td>\n",
       "      <td>2789</td>\n",
       "      <td>2789</td>\n",
       "      <td>2789</td>\n",
       "      <td>10.928526</td>\n",
       "      <td>15.714742</td>\n",
       "      <td>-4.786216</td>\n",
       "      <td>0.039885</td>\n",
       "      <td>-3.908743</td>\n",
       "      <td>-3.868858</td>\n",
       "    </tr>\n",
       "    <tr>\n",
       "      <th>4</th>\n",
       "      <td>50</td>\n",
       "      <td>3</td>\n",
       "      <td>6</td>\n",
       "      <td>1</td>\n",
       "      <td>7</td>\n",
       "      <td>Alabama</td>\n",
       "      <td>Bibb County</td>\n",
       "      <td>22293</td>\n",
       "      <td>22223</td>\n",
       "      <td>22477</td>\n",
       "      <td>...</td>\n",
       "      <td>-1</td>\n",
       "      <td>2062</td>\n",
       "      <td>2062</td>\n",
       "      <td>2062</td>\n",
       "      <td>10.111857</td>\n",
       "      <td>12.617450</td>\n",
       "      <td>-2.505593</td>\n",
       "      <td>0.089485</td>\n",
       "      <td>13.825503</td>\n",
       "      <td>13.914989</td>\n",
       "    </tr>\n",
       "  </tbody>\n",
       "</table>\n",
       "<p>5 rows × 35 columns</p>\n",
       "</div>"
      ],
      "text/plain": [
       "   SUMLEV  REGION  DIVISION  STATE  COUNTY   STNAME         CTYNAME  \\\n",
       "0      40       3         6      1       0  Alabama         Alabama   \n",
       "1      50       3         6      1       1  Alabama  Autauga County   \n",
       "2      50       3         6      1       3  Alabama  Baldwin County   \n",
       "3      50       3         6      1       5  Alabama  Barbour County   \n",
       "4      50       3         6      1       7  Alabama     Bibb County   \n",
       "\n",
       "   ESTIMATESBASE2020  POPESTIMATE2020  POPESTIMATE2021  ...  RESIDUAL2021  \\\n",
       "0            5024279          5024803          5039877  ...           242   \n",
       "1              58805            58877            59095  ...             8   \n",
       "2             231767           233140           239294  ...           -82   \n",
       "3              25223            25180            24964  ...             1   \n",
       "4              22293            22223            22477  ...            -1   \n",
       "\n",
       "   GQESTIMATESBASE2020  GQESTIMATES2020  GQESTIMATES2021  RBIRTH2021  \\\n",
       "0               114572           114572           114572   11.191613   \n",
       "1                  442              442              442   11.002611   \n",
       "2                 2177             2177             2177    9.567474   \n",
       "3                 2789             2789             2789   10.928526   \n",
       "4                 2062             2062             2062   10.111857   \n",
       "\n",
       "   RDEATH2021  RNATURALCHG2021  RINTERNATIONALMIG2021  RDOMESTICMIG2021  \\\n",
       "0   12.890226        -1.698613               0.247201          4.398749   \n",
       "1   11.545112        -0.542502               0.084766          4.017903   \n",
       "2   12.137145        -2.569671               0.266704         28.702422   \n",
       "3   15.714742        -4.786216               0.039885         -3.908743   \n",
       "4   12.617450        -2.505593               0.089485         13.825503   \n",
       "\n",
       "   RNETMIG2021  \n",
       "0     4.645950  \n",
       "1     4.102668  \n",
       "2    28.969126  \n",
       "3    -3.868858  \n",
       "4    13.914989  \n",
       "\n",
       "[5 rows x 35 columns]"
      ]
     },
     "execution_count": 8,
     "metadata": {},
     "output_type": "execute_result"
    }
   ],
   "source": [
    "county_population.head()"
   ]
  },
  {
   "cell_type": "code",
   "execution_count": 9,
   "metadata": {
    "colab": {
     "base_uri": "https://localhost:8080/"
    },
    "id": "xeDObok82cWu",
    "outputId": "4bbebd72-1041-498d-ddb6-8cfa589c2484"
   },
   "outputs": [
    {
     "data": {
      "text/plain": [
       "Index(['SUMLEV', 'REGION', 'DIVISION', 'STATE', 'COUNTY', 'STNAME', 'CTYNAME',\n",
       "       'ESTIMATESBASE2020', 'POPESTIMATE2020', 'POPESTIMATE2021',\n",
       "       'NPOPCHG2020', 'NPOPCHG2021', 'BIRTHS2020', 'BIRTHS2021', 'DEATHS2020',\n",
       "       'DEATHS2021', 'NATURALCHG2020', 'NATURALCHG2021',\n",
       "       'INTERNATIONALMIG2020', 'INTERNATIONALMIG2021', 'DOMESTICMIG2020',\n",
       "       'DOMESTICMIG2021', 'NETMIG2020', 'NETMIG2021', 'RESIDUAL2020',\n",
       "       'RESIDUAL2021', 'GQESTIMATESBASE2020', 'GQESTIMATES2020',\n",
       "       'GQESTIMATES2021', 'RBIRTH2021', 'RDEATH2021', 'RNATURALCHG2021',\n",
       "       'RINTERNATIONALMIG2021', 'RDOMESTICMIG2021', 'RNETMIG2021'],\n",
       "      dtype='object')"
      ]
     },
     "execution_count": 9,
     "metadata": {},
     "output_type": "execute_result"
    }
   ],
   "source": [
    "county_population.columns"
   ]
  },
  {
   "cell_type": "code",
   "execution_count": 10,
   "metadata": {
    "colab": {
     "base_uri": "https://localhost:8080/"
    },
    "id": "l7YAKd5X2cpH",
    "outputId": "aeea38fa-e074-4dd2-edb5-e48ce07b9167"
   },
   "outputs": [
    {
     "data": {
      "text/plain": [
       "(3194, 35)"
      ]
     },
     "execution_count": 10,
     "metadata": {},
     "output_type": "execute_result"
    }
   ],
   "source": [
    "county_population.shape"
   ]
  },
  {
   "cell_type": "code",
   "execution_count": 11,
   "metadata": {
    "colab": {
     "base_uri": "https://localhost:8080/",
     "height": 204
    },
    "id": "Cfw3JxVNnb2H",
    "outputId": "6604f955-6414-4f04-defa-1a0f184f2a5a"
   },
   "outputs": [
    {
     "data": {
      "text/html": [
       "<div>\n",
       "<style scoped>\n",
       "    .dataframe tbody tr th:only-of-type {\n",
       "        vertical-align: middle;\n",
       "    }\n",
       "\n",
       "    .dataframe tbody tr th {\n",
       "        vertical-align: top;\n",
       "    }\n",
       "\n",
       "    .dataframe thead th {\n",
       "        text-align: right;\n",
       "    }\n",
       "</style>\n",
       "<table border=\"1\" class=\"dataframe\">\n",
       "  <thead>\n",
       "    <tr style=\"text-align: right;\">\n",
       "      <th></th>\n",
       "      <th>state</th>\n",
       "      <th>county</th>\n",
       "      <th>pop_estimate_2020</th>\n",
       "      <th>pop_estimate_2021</th>\n",
       "    </tr>\n",
       "  </thead>\n",
       "  <tbody>\n",
       "    <tr>\n",
       "      <th>0</th>\n",
       "      <td>Alabama</td>\n",
       "      <td>Alabama</td>\n",
       "      <td>5024803</td>\n",
       "      <td>5039877</td>\n",
       "    </tr>\n",
       "    <tr>\n",
       "      <th>1</th>\n",
       "      <td>Alabama</td>\n",
       "      <td>Autauga County</td>\n",
       "      <td>58877</td>\n",
       "      <td>59095</td>\n",
       "    </tr>\n",
       "    <tr>\n",
       "      <th>2</th>\n",
       "      <td>Alabama</td>\n",
       "      <td>Baldwin County</td>\n",
       "      <td>233140</td>\n",
       "      <td>239294</td>\n",
       "    </tr>\n",
       "    <tr>\n",
       "      <th>3</th>\n",
       "      <td>Alabama</td>\n",
       "      <td>Barbour County</td>\n",
       "      <td>25180</td>\n",
       "      <td>24964</td>\n",
       "    </tr>\n",
       "    <tr>\n",
       "      <th>4</th>\n",
       "      <td>Alabama</td>\n",
       "      <td>Bibb County</td>\n",
       "      <td>22223</td>\n",
       "      <td>22477</td>\n",
       "    </tr>\n",
       "  </tbody>\n",
       "</table>\n",
       "</div>"
      ],
      "text/plain": [
       "     state          county  pop_estimate_2020  pop_estimate_2021\n",
       "0  Alabama         Alabama            5024803            5039877\n",
       "1  Alabama  Autauga County              58877              59095\n",
       "2  Alabama  Baldwin County             233140             239294\n",
       "3  Alabama  Barbour County              25180              24964\n",
       "4  Alabama     Bibb County              22223              22477"
      ]
     },
     "execution_count": 11,
     "metadata": {},
     "output_type": "execute_result"
    }
   ],
   "source": [
    "county_population = county_population.iloc[:,[5,6,8,9]]\n",
    "county_population.columns = ['state','county','pop_estimate_2020','pop_estimate_2021']\n",
    "county_population.head()"
   ]
  },
  {
   "cell_type": "code",
   "execution_count": 12,
   "metadata": {
    "colab": {
     "base_uri": "https://localhost:8080/",
     "height": 204
    },
    "id": "3mPFBdIZ2c5x",
    "outputId": "9cd0ee9a-c980-44bb-c3bf-58bf32a9f19b"
   },
   "outputs": [
    {
     "data": {
      "text/html": [
       "<div>\n",
       "<style scoped>\n",
       "    .dataframe tbody tr th:only-of-type {\n",
       "        vertical-align: middle;\n",
       "    }\n",
       "\n",
       "    .dataframe tbody tr th {\n",
       "        vertical-align: top;\n",
       "    }\n",
       "\n",
       "    .dataframe thead th {\n",
       "        text-align: right;\n",
       "    }\n",
       "</style>\n",
       "<table border=\"1\" class=\"dataframe\">\n",
       "  <thead>\n",
       "    <tr style=\"text-align: right;\">\n",
       "      <th></th>\n",
       "      <th>state</th>\n",
       "      <th>pop_estimate_2020</th>\n",
       "      <th>pop_estimate_2021</th>\n",
       "    </tr>\n",
       "  </thead>\n",
       "  <tbody>\n",
       "    <tr>\n",
       "      <th>0</th>\n",
       "      <td>Alabama</td>\n",
       "      <td>5024803</td>\n",
       "      <td>5039877</td>\n",
       "    </tr>\n",
       "    <tr>\n",
       "      <th>68</th>\n",
       "      <td>Alaska</td>\n",
       "      <td>732441</td>\n",
       "      <td>732673</td>\n",
       "    </tr>\n",
       "    <tr>\n",
       "      <th>99</th>\n",
       "      <td>Arizona</td>\n",
       "      <td>7177986</td>\n",
       "      <td>7276316</td>\n",
       "    </tr>\n",
       "    <tr>\n",
       "      <th>115</th>\n",
       "      <td>Arkansas</td>\n",
       "      <td>3012232</td>\n",
       "      <td>3025891</td>\n",
       "    </tr>\n",
       "    <tr>\n",
       "      <th>191</th>\n",
       "      <td>California</td>\n",
       "      <td>39499738</td>\n",
       "      <td>39237836</td>\n",
       "    </tr>\n",
       "  </tbody>\n",
       "</table>\n",
       "</div>"
      ],
      "text/plain": [
       "          state  pop_estimate_2020  pop_estimate_2021\n",
       "0       Alabama            5024803            5039877\n",
       "68       Alaska             732441             732673\n",
       "99      Arizona            7177986            7276316\n",
       "115    Arkansas            3012232            3025891\n",
       "191  California           39499738           39237836"
      ]
     },
     "execution_count": 12,
     "metadata": {},
     "output_type": "execute_result"
    }
   ],
   "source": [
    "#found some states' population stats in that we potentially need that\n",
    "state_population = county_population[county_population['county'] == county_population['state']].drop('county',axis = 1)\n",
    "state_population = state_population.drop(328)\n",
    "state_population.head()"
   ]
  },
  {
   "cell_type": "code",
   "execution_count": 13,
   "metadata": {
    "id": "2BJ1vja-2dLl"
   },
   "outputs": [],
   "source": [
    "#delete those rows from our county population dataset since those rows are not showing counties' population\n",
    "county_population = county_population[county_population['county'] != county_population['state']]"
   ]
  },
  {
   "cell_type": "code",
   "execution_count": 14,
   "metadata": {
    "colab": {
     "base_uri": "https://localhost:8080/",
     "height": 204
    },
    "id": "_HIjkbvXoJy-",
    "outputId": "5ebc34cc-a3d9-4642-a403-cd9a85d45ff9"
   },
   "outputs": [
    {
     "data": {
      "text/html": [
       "<div>\n",
       "<style scoped>\n",
       "    .dataframe tbody tr th:only-of-type {\n",
       "        vertical-align: middle;\n",
       "    }\n",
       "\n",
       "    .dataframe tbody tr th {\n",
       "        vertical-align: top;\n",
       "    }\n",
       "\n",
       "    .dataframe thead th {\n",
       "        text-align: right;\n",
       "    }\n",
       "</style>\n",
       "<table border=\"1\" class=\"dataframe\">\n",
       "  <thead>\n",
       "    <tr style=\"text-align: right;\">\n",
       "      <th></th>\n",
       "      <th>state</th>\n",
       "      <th>date</th>\n",
       "      <th>cases</th>\n",
       "      <th>deaths</th>\n",
       "      <th>pop_estimate_2020</th>\n",
       "      <th>pop_estimate_2021</th>\n",
       "    </tr>\n",
       "  </thead>\n",
       "  <tbody>\n",
       "    <tr>\n",
       "      <th>0</th>\n",
       "      <td>Alabama</td>\n",
       "      <td>2022-05-20</td>\n",
       "      <td>1307883</td>\n",
       "      <td>19645</td>\n",
       "      <td>5024803</td>\n",
       "      <td>5039877</td>\n",
       "    </tr>\n",
       "    <tr>\n",
       "      <th>1</th>\n",
       "      <td>Alaska</td>\n",
       "      <td>2022-05-20</td>\n",
       "      <td>256415</td>\n",
       "      <td>1246</td>\n",
       "      <td>732441</td>\n",
       "      <td>732673</td>\n",
       "    </tr>\n",
       "    <tr>\n",
       "      <th>2</th>\n",
       "      <td>Arizona</td>\n",
       "      <td>2022-05-20</td>\n",
       "      <td>2038129</td>\n",
       "      <td>30259</td>\n",
       "      <td>7177986</td>\n",
       "      <td>7276316</td>\n",
       "    </tr>\n",
       "    <tr>\n",
       "      <th>3</th>\n",
       "      <td>Arkansas</td>\n",
       "      <td>2022-05-20</td>\n",
       "      <td>840151</td>\n",
       "      <td>11432</td>\n",
       "      <td>3012232</td>\n",
       "      <td>3025891</td>\n",
       "    </tr>\n",
       "    <tr>\n",
       "      <th>4</th>\n",
       "      <td>California</td>\n",
       "      <td>2022-05-20</td>\n",
       "      <td>9449358</td>\n",
       "      <td>91203</td>\n",
       "      <td>39499738</td>\n",
       "      <td>39237836</td>\n",
       "    </tr>\n",
       "  </tbody>\n",
       "</table>\n",
       "</div>"
      ],
      "text/plain": [
       "        state        date    cases  deaths  pop_estimate_2020  \\\n",
       "0     Alabama  2022-05-20  1307883   19645            5024803   \n",
       "1      Alaska  2022-05-20   256415    1246             732441   \n",
       "2     Arizona  2022-05-20  2038129   30259            7177986   \n",
       "3    Arkansas  2022-05-20   840151   11432            3012232   \n",
       "4  California  2022-05-20  9449358   91203           39499738   \n",
       "\n",
       "   pop_estimate_2021  \n",
       "0            5039877  \n",
       "1             732673  \n",
       "2            7276316  \n",
       "3            3025891  \n",
       "4           39237836  "
      ]
     },
     "execution_count": 14,
     "metadata": {},
     "output_type": "execute_result"
    }
   ],
   "source": [
    "eda_df = covid_states.merge(state_population,how = 'inner',on = 'state')\n",
    "eda_df.head()"
   ]
  },
  {
   "cell_type": "code",
   "execution_count": 16,
   "metadata": {
    "id": "VDXV83hz2dce"
   },
   "outputs": [],
   "source": [
    "# following 2 cells is only for colab\n",
    "\n",
    "# Code to read csv file into Colaboratory:\n",
    "# !pip install -U -q PyDrive\n",
    "# from pydrive.auth import GoogleAuth\n",
    "# from pydrive.drive import GoogleDrive\n",
    "# from google.colab import auth\n",
    "# from oauth2client.client import GoogleCredentials\n",
    "# Authenticate and create the PyDrive client.\n",
    "# auth.authenticate_user()\n",
    "# gauth = GoogleAuth()\n",
    "# gauth.credentials = GoogleCredentials.get_application_default()\n",
    "# drive = GoogleDrive(gauth)"
   ]
  },
  {
   "cell_type": "code",
   "execution_count": 17,
   "metadata": {
    "colab": {
     "base_uri": "https://localhost:8080/",
     "height": 552
    },
    "id": "EEwawxzf7JqJ",
    "outputId": "f8a26c40-1c14-4d41-824a-e1eba2157097"
   },
   "outputs": [],
   "source": [
    "# link = 'https://drive.google.com/file/d/1GFKk2uMyuj10acUOmztSAP9kOE1P-uHj/view?usp=sharing'\n",
    "# import pandas as pd\n",
    " \n",
    "# to get the id part of the file\n",
    "# id = link.split(\"/\")[-2]\n",
    " \n",
    "# downloaded = drive.CreateFile({'id':id})\n",
    "# downloaded.GetContentFile('xclara.csv') \n",
    " \n",
    "# poverty_df = pd.read_csv('xclara.csv')\n",
    "# poverty_df.head()\n"
   ]
  },
  {
   "cell_type": "code",
   "execution_count": 21,
   "metadata": {
    "id": "Fq1fTBOi7PnJ"
   },
   "outputs": [
    {
     "data": {
      "text/html": [
       "<div>\n",
       "<style scoped>\n",
       "    .dataframe tbody tr th:only-of-type {\n",
       "        vertical-align: middle;\n",
       "    }\n",
       "\n",
       "    .dataframe tbody tr th {\n",
       "        vertical-align: top;\n",
       "    }\n",
       "\n",
       "    .dataframe thead th {\n",
       "        text-align: right;\n",
       "    }\n",
       "</style>\n",
       "<table border=\"1\" class=\"dataframe\">\n",
       "  <thead>\n",
       "    <tr style=\"text-align: right;\">\n",
       "      <th></th>\n",
       "      <th>Year</th>\n",
       "      <th>State</th>\n",
       "      <th>County ID</th>\n",
       "      <th>State / County Name</th>\n",
       "      <th>All Ages SAIPE Poverty Universe</th>\n",
       "      <th>All Ages in Poverty Count</th>\n",
       "      <th>All Ages in Poverty Count LB 90%</th>\n",
       "      <th>All Ages in Poverty Count UB 90%</th>\n",
       "      <th>90% Confidence Interval (All Ages in Poverty Count)</th>\n",
       "      <th>All Ages in Poverty Percent</th>\n",
       "      <th>...</th>\n",
       "      <th>Under Age 5 in Poverty Count UB 90%</th>\n",
       "      <th>90% Confidence Interval (Under Age 5 in Poverty Count)</th>\n",
       "      <th>Under Age 5 in Poverty Percent</th>\n",
       "      <th>Under Age 5 in Poverty Percent LB 90%</th>\n",
       "      <th>Under Age 5 in Poverty Percent UB 90%</th>\n",
       "      <th>90% Confidence Interval (Under Age 5 in Poverty Percent)</th>\n",
       "      <th>Median Household Income in Dollars</th>\n",
       "      <th>Median Household Income in Dollars LB 90%</th>\n",
       "      <th>Median Household Income in Dollars UB 90%</th>\n",
       "      <th>90% Confidence Interval (Median Household Income in Dollars)</th>\n",
       "    </tr>\n",
       "  </thead>\n",
       "  <tbody>\n",
       "    <tr>\n",
       "      <th>0</th>\n",
       "      <td>2020</td>\n",
       "      <td>0</td>\n",
       "      <td>0</td>\n",
       "      <td>United States</td>\n",
       "      <td>321,478,113</td>\n",
       "      <td>38,371,394</td>\n",
       "      <td>38,309,115</td>\n",
       "      <td>38,433,673</td>\n",
       "      <td>38,309,115 to 38,433,673</td>\n",
       "      <td>11.9</td>\n",
       "      <td>...</td>\n",
       "      <td>3,158,914</td>\n",
       "      <td>3,133,736 to 3,158,914</td>\n",
       "      <td>16.8</td>\n",
       "      <td>16.7</td>\n",
       "      <td>16.9</td>\n",
       "      <td>16.7 to 16.9</td>\n",
       "      <td>$67,340</td>\n",
       "      <td>$67,251</td>\n",
       "      <td>$67,429</td>\n",
       "      <td>$67,251 to $67,429</td>\n",
       "    </tr>\n",
       "    <tr>\n",
       "      <th>1</th>\n",
       "      <td>2020</td>\n",
       "      <td>1</td>\n",
       "      <td>1000</td>\n",
       "      <td>Alabama</td>\n",
       "      <td>4,799,999</td>\n",
       "      <td>714,568</td>\n",
       "      <td>695,249</td>\n",
       "      <td>733,887</td>\n",
       "      <td>695,249 to 733,887</td>\n",
       "      <td>14.9</td>\n",
       "      <td>...</td>\n",
       "      <td>70,797</td>\n",
       "      <td>61,541 to 70,797</td>\n",
       "      <td>23.3</td>\n",
       "      <td>21.7</td>\n",
       "      <td>24.9</td>\n",
       "      <td>21.7 to 24.9</td>\n",
       "      <td>$53,958</td>\n",
       "      <td>$53,013</td>\n",
       "      <td>$54,903</td>\n",
       "      <td>$53,013 to $54,903</td>\n",
       "    </tr>\n",
       "    <tr>\n",
       "      <th>2</th>\n",
       "      <td>2020</td>\n",
       "      <td>1</td>\n",
       "      <td>1001</td>\n",
       "      <td>Autauga County (AL)</td>\n",
       "      <td>55,622</td>\n",
       "      <td>6,242</td>\n",
       "      <td>4,930</td>\n",
       "      <td>7,554</td>\n",
       "      <td>4,930 to 7,554</td>\n",
       "      <td>11.2</td>\n",
       "      <td>...</td>\n",
       "      <td>NaN</td>\n",
       "      <td>NaN</td>\n",
       "      <td>NaN</td>\n",
       "      <td>NaN</td>\n",
       "      <td>NaN</td>\n",
       "      <td>NaN</td>\n",
       "      <td>$67,565</td>\n",
       "      <td>$59,132</td>\n",
       "      <td>$75,998</td>\n",
       "      <td>$59,132 to $75,998</td>\n",
       "    </tr>\n",
       "    <tr>\n",
       "      <th>3</th>\n",
       "      <td>2020</td>\n",
       "      <td>1</td>\n",
       "      <td>1003</td>\n",
       "      <td>Baldwin County (AL)</td>\n",
       "      <td>226,513</td>\n",
       "      <td>20,189</td>\n",
       "      <td>15,535</td>\n",
       "      <td>24,843</td>\n",
       "      <td>15,535 to 24,843</td>\n",
       "      <td>8.9</td>\n",
       "      <td>...</td>\n",
       "      <td>NaN</td>\n",
       "      <td>NaN</td>\n",
       "      <td>NaN</td>\n",
       "      <td>NaN</td>\n",
       "      <td>NaN</td>\n",
       "      <td>NaN</td>\n",
       "      <td>$71,135</td>\n",
       "      <td>$66,540</td>\n",
       "      <td>$75,730</td>\n",
       "      <td>$66,540 to $75,730</td>\n",
       "    </tr>\n",
       "    <tr>\n",
       "      <th>4</th>\n",
       "      <td>2020</td>\n",
       "      <td>1</td>\n",
       "      <td>1005</td>\n",
       "      <td>Barbour County (AL)</td>\n",
       "      <td>21,745</td>\n",
       "      <td>5,548</td>\n",
       "      <td>4,210</td>\n",
       "      <td>6,886</td>\n",
       "      <td>4,210 to 6,886</td>\n",
       "      <td>25.5</td>\n",
       "      <td>...</td>\n",
       "      <td>NaN</td>\n",
       "      <td>NaN</td>\n",
       "      <td>NaN</td>\n",
       "      <td>NaN</td>\n",
       "      <td>NaN</td>\n",
       "      <td>NaN</td>\n",
       "      <td>$38,866</td>\n",
       "      <td>$33,510</td>\n",
       "      <td>$44,222</td>\n",
       "      <td>$33,510 to $44,222</td>\n",
       "    </tr>\n",
       "  </tbody>\n",
       "</table>\n",
       "<p>5 rows × 44 columns</p>\n",
       "</div>"
      ],
      "text/plain": [
       "   Year  State  County ID  State / County Name  \\\n",
       "0  2020      0          0        United States   \n",
       "1  2020      1       1000              Alabama   \n",
       "2  2020      1       1001  Autauga County (AL)   \n",
       "3  2020      1       1003  Baldwin County (AL)   \n",
       "4  2020      1       1005  Barbour County (AL)   \n",
       "\n",
       "  All Ages SAIPE Poverty Universe All Ages in Poverty Count  \\\n",
       "0                     321,478,113                38,371,394   \n",
       "1                       4,799,999                   714,568   \n",
       "2                          55,622                     6,242   \n",
       "3                         226,513                    20,189   \n",
       "4                          21,745                     5,548   \n",
       "\n",
       "  All Ages in Poverty Count LB 90% All Ages in Poverty Count UB 90%  \\\n",
       "0                       38,309,115                       38,433,673   \n",
       "1                          695,249                          733,887   \n",
       "2                            4,930                            7,554   \n",
       "3                           15,535                           24,843   \n",
       "4                            4,210                            6,886   \n",
       "\n",
       "  90% Confidence Interval (All Ages in Poverty Count)  \\\n",
       "0                           38,309,115 to 38,433,673    \n",
       "1                                 695,249 to 733,887    \n",
       "2                                     4,930 to 7,554    \n",
       "3                                   15,535 to 24,843    \n",
       "4                                     4,210 to 6,886    \n",
       "\n",
       "   All Ages in Poverty Percent  ...  Under Age 5 in Poverty Count UB 90%  \\\n",
       "0                         11.9  ...                            3,158,914   \n",
       "1                         14.9  ...                               70,797   \n",
       "2                         11.2  ...                                  NaN   \n",
       "3                          8.9  ...                                  NaN   \n",
       "4                         25.5  ...                                  NaN   \n",
       "\n",
       "   90% Confidence Interval (Under Age 5 in Poverty Count)  \\\n",
       "0                             3,133,736 to 3,158,914        \n",
       "1                                   61,541 to 70,797        \n",
       "2                                                NaN        \n",
       "3                                                NaN        \n",
       "4                                                NaN        \n",
       "\n",
       "  Under Age 5 in Poverty Percent Under Age 5 in Poverty Percent LB 90%  \\\n",
       "0                           16.8                                  16.7   \n",
       "1                           23.3                                  21.7   \n",
       "2                            NaN                                   NaN   \n",
       "3                            NaN                                   NaN   \n",
       "4                            NaN                                   NaN   \n",
       "\n",
       "  Under Age 5 in Poverty Percent UB 90%  \\\n",
       "0                                  16.9   \n",
       "1                                  24.9   \n",
       "2                                   NaN   \n",
       "3                                   NaN   \n",
       "4                                   NaN   \n",
       "\n",
       "  90% Confidence Interval (Under Age 5 in Poverty Percent)  \\\n",
       "0                                       16.7 to 16.9         \n",
       "1                                       21.7 to 24.9         \n",
       "2                                                NaN         \n",
       "3                                                NaN         \n",
       "4                                                NaN         \n",
       "\n",
       "  Median Household Income in Dollars  \\\n",
       "0                            $67,340   \n",
       "1                            $53,958   \n",
       "2                            $67,565   \n",
       "3                            $71,135   \n",
       "4                            $38,866   \n",
       "\n",
       "  Median Household Income in Dollars LB 90%  \\\n",
       "0                                   $67,251   \n",
       "1                                   $53,013   \n",
       "2                                   $59,132   \n",
       "3                                   $66,540   \n",
       "4                                   $33,510   \n",
       "\n",
       "   Median Household Income in Dollars UB 90%  \\\n",
       "0                                    $67,429   \n",
       "1                                    $54,903   \n",
       "2                                    $75,998   \n",
       "3                                    $75,730   \n",
       "4                                    $44,222   \n",
       "\n",
       "   90% Confidence Interval (Median Household Income in Dollars)  \n",
       "0                                 $67,251 to $67,429             \n",
       "1                                 $53,013 to $54,903             \n",
       "2                                 $59,132 to $75,998             \n",
       "3                                 $66,540 to $75,730             \n",
       "4                                 $33,510 to $44,222             \n",
       "\n",
       "[5 rows x 44 columns]"
      ]
     },
     "execution_count": 21,
     "metadata": {},
     "output_type": "execute_result"
    }
   ],
   "source": [
    "# loading in poverty dataset\n",
    "# this cell is for notebook and github\n",
    "poverty_df = pd.read_csv('./SAIPESNC_18MAY22_16_38_35_19.csv')\n",
    "poverty_df.head()"
   ]
  },
  {
   "cell_type": "code",
   "execution_count": 22,
   "metadata": {
    "colab": {
     "base_uri": "https://localhost:8080/"
    },
    "id": "TU7_Hof48itN",
    "outputId": "e7acd6af-c210-46c5-d89c-bd2ea60ae2ef"
   },
   "outputs": [
    {
     "data": {
      "text/plain": [
       "((3195, 44),\n",
       " Index(['Year', 'State', 'County ID', 'State / County Name',\n",
       "        'All Ages SAIPE Poverty Universe', 'All Ages in Poverty Count',\n",
       "        'All Ages in Poverty Count LB 90%', 'All Ages in Poverty Count UB 90%',\n",
       "        '90% Confidence Interval (All Ages in Poverty Count)',\n",
       "        'All Ages in Poverty Percent', 'All Ages in Poverty Percent LB 90%',\n",
       "        'All Ages in Poverty Percent UB 90%',\n",
       "        '90% Confidence Interval (All Ages in Poverty Percent)',\n",
       "        'Under Age 18 SAIPE Poverty Universe', 'Under Age 18 in Poverty Count',\n",
       "        'Under Age 18 in Poverty Count LB 90%',\n",
       "        'Under Age 18 in Poverty Count UB 90%',\n",
       "        '90% Confidence Interval (Under Age 18 in Poverty Count)',\n",
       "        'Under Age 18 in Poverty Percent',\n",
       "        'Under Age 18 in Poverty Percent LB 90%',\n",
       "        'Under Age 18 in Poverty Percent UB 90%',\n",
       "        '90% Confidence Interval (Under Age 18 in Poverty Percent)',\n",
       "        'Ages 5 to 17 in Families SAIPE Poverty Universe',\n",
       "        'Ages 5 to 17 in Families in Poverty Count',\n",
       "        'Ages 5 to 17 in Families in Poverty Count LB 90%',\n",
       "        'Ages 5 to 17 in Families in Poverty Count UB 90%',\n",
       "        '90% Confidence Interval (Ages 5 to 17 in Families in Poverty Count)',\n",
       "        'Ages 5 to 17 in Families in Poverty Percent',\n",
       "        'Ages 5 to 17 in Families in Poverty Percent LB 90%',\n",
       "        'Ages 5 to 17 in Families in Poverty Percent UB 90%',\n",
       "        '90% Confidence Interval (Ages 5 to 17 in Families in Poverty Percent)',\n",
       "        'Under Age 5 SAIPE Poverty Universe', 'Under Age 5 in Poverty Count',\n",
       "        'Under Age 5 in Poverty Count LB 90%',\n",
       "        'Under Age 5 in Poverty Count UB 90%',\n",
       "        '90% Confidence Interval (Under Age 5 in Poverty Count)',\n",
       "        'Under Age 5 in Poverty Percent',\n",
       "        'Under Age 5 in Poverty Percent LB 90%',\n",
       "        'Under Age 5 in Poverty Percent UB 90%',\n",
       "        '90% Confidence Interval (Under Age 5 in Poverty Percent)',\n",
       "        'Median Household Income in Dollars',\n",
       "        'Median Household Income in Dollars LB 90%',\n",
       "        'Median Household Income in Dollars UB 90%',\n",
       "        '90% Confidence Interval (Median Household Income in Dollars)'],\n",
       "       dtype='object'))"
      ]
     },
     "execution_count": 22,
     "metadata": {},
     "output_type": "execute_result"
    }
   ],
   "source": [
    "poverty_df.shape, poverty_df.columns"
   ]
  },
  {
   "cell_type": "code",
   "execution_count": 23,
   "metadata": {
    "colab": {
     "base_uri": "https://localhost:8080/",
     "height": 316
    },
    "id": "FJ65t09e8m4E",
    "outputId": "9c9142bb-6976-40e6-de30-0c7c363b9eb2"
   },
   "outputs": [
    {
     "data": {
      "text/html": [
       "<div>\n",
       "<style scoped>\n",
       "    .dataframe tbody tr th:only-of-type {\n",
       "        vertical-align: middle;\n",
       "    }\n",
       "\n",
       "    .dataframe tbody tr th {\n",
       "        vertical-align: top;\n",
       "    }\n",
       "\n",
       "    .dataframe thead th {\n",
       "        text-align: right;\n",
       "    }\n",
       "</style>\n",
       "<table border=\"1\" class=\"dataframe\">\n",
       "  <thead>\n",
       "    <tr style=\"text-align: right;\">\n",
       "      <th></th>\n",
       "      <th>State</th>\n",
       "      <th>County ID</th>\n",
       "      <th>State / County Name</th>\n",
       "      <th>All Ages in Poverty Count</th>\n",
       "      <th>All Ages in Poverty Percent</th>\n",
       "      <th>Under Age 18 in Poverty Count</th>\n",
       "      <th>Under Age 18 in Poverty Percent</th>\n",
       "      <th>Median Household Income in Dollars</th>\n",
       "    </tr>\n",
       "  </thead>\n",
       "  <tbody>\n",
       "    <tr>\n",
       "      <th>0</th>\n",
       "      <td>0</td>\n",
       "      <td>0</td>\n",
       "      <td>United States</td>\n",
       "      <td>38,371,394</td>\n",
       "      <td>11.9</td>\n",
       "      <td>11,204,423</td>\n",
       "      <td>15.7</td>\n",
       "      <td>$67,340</td>\n",
       "    </tr>\n",
       "    <tr>\n",
       "      <th>1</th>\n",
       "      <td>1</td>\n",
       "      <td>1000</td>\n",
       "      <td>Alabama</td>\n",
       "      <td>714,568</td>\n",
       "      <td>14.9</td>\n",
       "      <td>222,934</td>\n",
       "      <td>20.9</td>\n",
       "      <td>$53,958</td>\n",
       "    </tr>\n",
       "    <tr>\n",
       "      <th>2</th>\n",
       "      <td>1</td>\n",
       "      <td>1001</td>\n",
       "      <td>Autauga County (AL)</td>\n",
       "      <td>6,242</td>\n",
       "      <td>11.2</td>\n",
       "      <td>1,912</td>\n",
       "      <td>14.9</td>\n",
       "      <td>$67,565</td>\n",
       "    </tr>\n",
       "    <tr>\n",
       "      <th>3</th>\n",
       "      <td>1</td>\n",
       "      <td>1003</td>\n",
       "      <td>Baldwin County (AL)</td>\n",
       "      <td>20,189</td>\n",
       "      <td>8.9</td>\n",
       "      <td>5,907</td>\n",
       "      <td>12.4</td>\n",
       "      <td>$71,135</td>\n",
       "    </tr>\n",
       "    <tr>\n",
       "      <th>4</th>\n",
       "      <td>1</td>\n",
       "      <td>1005</td>\n",
       "      <td>Barbour County (AL)</td>\n",
       "      <td>5,548</td>\n",
       "      <td>25.5</td>\n",
       "      <td>1,857</td>\n",
       "      <td>37.5</td>\n",
       "      <td>$38,866</td>\n",
       "    </tr>\n",
       "  </tbody>\n",
       "</table>\n",
       "</div>"
      ],
      "text/plain": [
       "   State  County ID  State / County Name All Ages in Poverty Count  \\\n",
       "0      0          0        United States                38,371,394   \n",
       "1      1       1000              Alabama                   714,568   \n",
       "2      1       1001  Autauga County (AL)                     6,242   \n",
       "3      1       1003  Baldwin County (AL)                    20,189   \n",
       "4      1       1005  Barbour County (AL)                     5,548   \n",
       "\n",
       "   All Ages in Poverty Percent Under Age 18 in Poverty Count  \\\n",
       "0                         11.9                    11,204,423   \n",
       "1                         14.9                       222,934   \n",
       "2                         11.2                         1,912   \n",
       "3                          8.9                         5,907   \n",
       "4                         25.5                         1,857   \n",
       "\n",
       "   Under Age 18 in Poverty Percent Median Household Income in Dollars  \n",
       "0                             15.7                            $67,340  \n",
       "1                             20.9                            $53,958  \n",
       "2                             14.9                            $67,565  \n",
       "3                             12.4                            $71,135  \n",
       "4                             37.5                            $38,866  "
      ]
     },
     "execution_count": 23,
     "metadata": {},
     "output_type": "execute_result"
    }
   ],
   "source": [
    "# removing unecessary columns\n",
    "poverty_df = poverty_df.drop(columns=['Year','All Ages SAIPE Poverty Universe',\\\n",
    "                 'All Ages in Poverty Count LB 90%', 'All Ages in Poverty Count UB 90%',\\\n",
    "                 '90% Confidence Interval (All Ages in Poverty Count)',\n",
    "                 'All Ages in Poverty Percent LB 90%',\n",
    "                 'All Ages in Poverty Percent UB 90%',\n",
    "                 '90% Confidence Interval (All Ages in Poverty Percent)',\n",
    "                 'Under Age 18 SAIPE Poverty Universe',\n",
    "                 'Under Age 18 in Poverty Count LB 90%',\n",
    "                 'Under Age 18 in Poverty Count UB 90%',\n",
    "                 '90% Confidence Interval (Under Age 18 in Poverty Count)',\n",
    "                 'Under Age 18 in Poverty Percent LB 90%',\n",
    "                 'Under Age 18 in Poverty Percent UB 90%',\n",
    "                 '90% Confidence Interval (Under Age 18 in Poverty Percent)',\n",
    "                 'Ages 5 to 17 in Families SAIPE Poverty Universe',\n",
    "                 'Ages 5 to 17 in Families in Poverty Count',\n",
    "                 'Ages 5 to 17 in Families in Poverty Count LB 90%',\n",
    "                 'Ages 5 to 17 in Families in Poverty Count UB 90%',\n",
    "                 '90% Confidence Interval (Ages 5 to 17 in Families in Poverty Count)',\n",
    "                 'Ages 5 to 17 in Families in Poverty Percent',\n",
    "                 'Ages 5 to 17 in Families in Poverty Percent LB 90%',\n",
    "                 'Ages 5 to 17 in Families in Poverty Percent UB 90%',\n",
    "                 '90% Confidence Interval (Ages 5 to 17 in Families in Poverty Percent)',\n",
    "                 'Under Age 5 SAIPE Poverty Universe', 'Under Age 5 in Poverty Count',\n",
    "                 'Under Age 5 in Poverty Count LB 90%',\n",
    "                 'Under Age 5 in Poverty Count UB 90%',\n",
    "                 '90% Confidence Interval (Under Age 5 in Poverty Count)',\n",
    "                 'Under Age 5 in Poverty Percent',\n",
    "                 'Under Age 5 in Poverty Percent LB 90%',\n",
    "                 'Under Age 5 in Poverty Percent UB 90%',\n",
    "                 '90% Confidence Interval (Under Age 5 in Poverty Percent)',\n",
    "                 'Median Household Income in Dollars LB 90%',\n",
    "                 'Median Household Income in Dollars UB 90%',\n",
    "                 '90% Confidence Interval (Median Household Income in Dollars)'])\n",
    "\n",
    "poverty_df.head()"
   ]
  },
  {
   "cell_type": "code",
   "execution_count": 24,
   "metadata": {
    "id": "0Xr5mLGH8vKX"
   },
   "outputs": [],
   "source": [
    "# filtering to only select state information\n",
    "state_id = []\n",
    "for x in range(57):\n",
    "    state_id.append(x * 1000)\n",
    "poverty_df = poverty_df[poverty_df.loc[:,'County ID'] % 1000 == 0]"
   ]
  },
  {
   "cell_type": "code",
   "execution_count": 25,
   "metadata": {
    "id": "Yfs-6nb18v3D"
   },
   "outputs": [],
   "source": [
    "#rename the columns\n",
    "poverty_df = poverty_df.reset_index().drop(['index','State','County ID'],axis = 1)\n",
    "poverty_df = poverty_df.drop(0)\n",
    "poverty_df.columns = ['state','all_ages_poverty_count','all_ages_poverty_pct','under_18_poverty_count','under_18_poverty_pct','median_household_income']"
   ]
  },
  {
   "cell_type": "code",
   "execution_count": 26,
   "metadata": {
    "colab": {
     "base_uri": "https://localhost:8080/"
    },
    "id": "7d8xlbL3pYLk",
    "outputId": "d2564055-3316-469e-9784-fed87643cb90"
   },
   "outputs": [
    {
     "name": "stderr",
     "output_type": "stream",
     "text": [
      "/var/folders/6t/5985wf8d6x7fl9lz6_r5s97r0000gn/T/ipykernel_5862/1184632771.py:2: FutureWarning: The default value of regex will change from True to False in a future version. In addition, single character regular expressions will *not* be treated as literal strings when regex=True.\n",
      "  poverty_df['median_household_income'] = poverty_df['median_household_income'].str.replace('$','')\n"
     ]
    }
   ],
   "source": [
    "#changing non-numeric types into int\n",
    "poverty_df['median_household_income'] = poverty_df['median_household_income'].str.replace('$','')\n",
    "poverty_df['median_household_income'] = poverty_df['median_household_income'].str.replace(',','')\n",
    "poverty_df['median_household_income'] = pd.to_numeric(poverty_df['median_household_income'])\n",
    "poverty_df['all_ages_poverty_count'] = poverty_df['all_ages_poverty_count'].str.replace(',','')\n",
    "poverty_df['all_ages_poverty_count'] = pd.to_numeric(poverty_df['all_ages_poverty_count'])\n",
    "poverty_df['under_18_poverty_count'] = poverty_df['under_18_poverty_count'].str.replace(',','')\n",
    "poverty_df['under_18_poverty_count'] = pd.to_numeric(poverty_df['under_18_poverty_count'])"
   ]
  },
  {
   "cell_type": "code",
   "execution_count": 27,
   "metadata": {
    "colab": {
     "base_uri": "https://localhost:8080/",
     "height": 204
    },
    "id": "zxNE76XfqC3T",
    "outputId": "caa8c28c-8996-451e-8bf4-aab8681c7359"
   },
   "outputs": [
    {
     "data": {
      "text/html": [
       "<div>\n",
       "<style scoped>\n",
       "    .dataframe tbody tr th:only-of-type {\n",
       "        vertical-align: middle;\n",
       "    }\n",
       "\n",
       "    .dataframe tbody tr th {\n",
       "        vertical-align: top;\n",
       "    }\n",
       "\n",
       "    .dataframe thead th {\n",
       "        text-align: right;\n",
       "    }\n",
       "</style>\n",
       "<table border=\"1\" class=\"dataframe\">\n",
       "  <thead>\n",
       "    <tr style=\"text-align: right;\">\n",
       "      <th></th>\n",
       "      <th>state</th>\n",
       "      <th>all_ages_poverty_count</th>\n",
       "      <th>all_ages_poverty_pct</th>\n",
       "      <th>under_18_poverty_count</th>\n",
       "      <th>under_18_poverty_pct</th>\n",
       "      <th>median_household_income</th>\n",
       "    </tr>\n",
       "  </thead>\n",
       "  <tbody>\n",
       "    <tr>\n",
       "      <th>1</th>\n",
       "      <td>Alabama</td>\n",
       "      <td>714568</td>\n",
       "      <td>14.9</td>\n",
       "      <td>222934</td>\n",
       "      <td>20.9</td>\n",
       "      <td>53958</td>\n",
       "    </tr>\n",
       "    <tr>\n",
       "      <th>2</th>\n",
       "      <td>Alaska</td>\n",
       "      <td>68714</td>\n",
       "      <td>9.6</td>\n",
       "      <td>21459</td>\n",
       "      <td>12.3</td>\n",
       "      <td>79961</td>\n",
       "    </tr>\n",
       "    <tr>\n",
       "      <th>3</th>\n",
       "      <td>Arizona</td>\n",
       "      <td>932555</td>\n",
       "      <td>12.8</td>\n",
       "      <td>283667</td>\n",
       "      <td>17.6</td>\n",
       "      <td>64652</td>\n",
       "    </tr>\n",
       "    <tr>\n",
       "      <th>4</th>\n",
       "      <td>Arkansas</td>\n",
       "      <td>448665</td>\n",
       "      <td>15.2</td>\n",
       "      <td>142855</td>\n",
       "      <td>20.8</td>\n",
       "      <td>51146</td>\n",
       "    </tr>\n",
       "    <tr>\n",
       "      <th>5</th>\n",
       "      <td>California</td>\n",
       "      <td>4419167</td>\n",
       "      <td>11.5</td>\n",
       "      <td>1260145</td>\n",
       "      <td>14.6</td>\n",
       "      <td>83001</td>\n",
       "    </tr>\n",
       "  </tbody>\n",
       "</table>\n",
       "</div>"
      ],
      "text/plain": [
       "        state  all_ages_poverty_count  all_ages_poverty_pct  \\\n",
       "1     Alabama                  714568                  14.9   \n",
       "2      Alaska                   68714                   9.6   \n",
       "3     Arizona                  932555                  12.8   \n",
       "4    Arkansas                  448665                  15.2   \n",
       "5  California                 4419167                  11.5   \n",
       "\n",
       "   under_18_poverty_count  under_18_poverty_pct  median_household_income  \n",
       "1                  222934                  20.9                    53958  \n",
       "2                   21459                  12.3                    79961  \n",
       "3                  283667                  17.6                    64652  \n",
       "4                  142855                  20.8                    51146  \n",
       "5                 1260145                  14.6                    83001  "
      ]
     },
     "execution_count": 27,
     "metadata": {},
     "output_type": "execute_result"
    }
   ],
   "source": [
    "poverty_df.head()"
   ]
  },
  {
   "cell_type": "code",
   "execution_count": 28,
   "metadata": {
    "colab": {
     "base_uri": "https://localhost:8080/",
     "height": 353
    },
    "id": "7f4ZIy4Mqk3V",
    "outputId": "4ef87044-6b81-4801-b70a-657a72ba4818"
   },
   "outputs": [
    {
     "data": {
      "text/html": [
       "<div>\n",
       "<style scoped>\n",
       "    .dataframe tbody tr th:only-of-type {\n",
       "        vertical-align: middle;\n",
       "    }\n",
       "\n",
       "    .dataframe tbody tr th {\n",
       "        vertical-align: top;\n",
       "    }\n",
       "\n",
       "    .dataframe thead th {\n",
       "        text-align: right;\n",
       "    }\n",
       "</style>\n",
       "<table border=\"1\" class=\"dataframe\">\n",
       "  <thead>\n",
       "    <tr style=\"text-align: right;\">\n",
       "      <th></th>\n",
       "      <th>state</th>\n",
       "      <th>date</th>\n",
       "      <th>cases</th>\n",
       "      <th>deaths</th>\n",
       "      <th>pop_estimate_2020</th>\n",
       "      <th>pop_estimate_2021</th>\n",
       "      <th>all_ages_poverty_count</th>\n",
       "      <th>all_ages_poverty_pct</th>\n",
       "      <th>under_18_poverty_count</th>\n",
       "      <th>under_18_poverty_pct</th>\n",
       "      <th>median_household_income</th>\n",
       "    </tr>\n",
       "  </thead>\n",
       "  <tbody>\n",
       "    <tr>\n",
       "      <th>0</th>\n",
       "      <td>Alabama</td>\n",
       "      <td>2022-05-20</td>\n",
       "      <td>1307883</td>\n",
       "      <td>19645</td>\n",
       "      <td>5024803</td>\n",
       "      <td>5039877</td>\n",
       "      <td>714568</td>\n",
       "      <td>14.9</td>\n",
       "      <td>222934</td>\n",
       "      <td>20.9</td>\n",
       "      <td>53958</td>\n",
       "    </tr>\n",
       "    <tr>\n",
       "      <th>1</th>\n",
       "      <td>Alaska</td>\n",
       "      <td>2022-05-20</td>\n",
       "      <td>256415</td>\n",
       "      <td>1246</td>\n",
       "      <td>732441</td>\n",
       "      <td>732673</td>\n",
       "      <td>68714</td>\n",
       "      <td>9.6</td>\n",
       "      <td>21459</td>\n",
       "      <td>12.3</td>\n",
       "      <td>79961</td>\n",
       "    </tr>\n",
       "    <tr>\n",
       "      <th>2</th>\n",
       "      <td>Arizona</td>\n",
       "      <td>2022-05-20</td>\n",
       "      <td>2038129</td>\n",
       "      <td>30259</td>\n",
       "      <td>7177986</td>\n",
       "      <td>7276316</td>\n",
       "      <td>932555</td>\n",
       "      <td>12.8</td>\n",
       "      <td>283667</td>\n",
       "      <td>17.6</td>\n",
       "      <td>64652</td>\n",
       "    </tr>\n",
       "    <tr>\n",
       "      <th>3</th>\n",
       "      <td>Arkansas</td>\n",
       "      <td>2022-05-20</td>\n",
       "      <td>840151</td>\n",
       "      <td>11432</td>\n",
       "      <td>3012232</td>\n",
       "      <td>3025891</td>\n",
       "      <td>448665</td>\n",
       "      <td>15.2</td>\n",
       "      <td>142855</td>\n",
       "      <td>20.8</td>\n",
       "      <td>51146</td>\n",
       "    </tr>\n",
       "    <tr>\n",
       "      <th>4</th>\n",
       "      <td>California</td>\n",
       "      <td>2022-05-20</td>\n",
       "      <td>9449358</td>\n",
       "      <td>91203</td>\n",
       "      <td>39499738</td>\n",
       "      <td>39237836</td>\n",
       "      <td>4419167</td>\n",
       "      <td>11.5</td>\n",
       "      <td>1260145</td>\n",
       "      <td>14.6</td>\n",
       "      <td>83001</td>\n",
       "    </tr>\n",
       "  </tbody>\n",
       "</table>\n",
       "</div>"
      ],
      "text/plain": [
       "        state        date    cases  deaths  pop_estimate_2020  \\\n",
       "0     Alabama  2022-05-20  1307883   19645            5024803   \n",
       "1      Alaska  2022-05-20   256415    1246             732441   \n",
       "2     Arizona  2022-05-20  2038129   30259            7177986   \n",
       "3    Arkansas  2022-05-20   840151   11432            3012232   \n",
       "4  California  2022-05-20  9449358   91203           39499738   \n",
       "\n",
       "   pop_estimate_2021  all_ages_poverty_count  all_ages_poverty_pct  \\\n",
       "0            5039877                  714568                  14.9   \n",
       "1             732673                   68714                   9.6   \n",
       "2            7276316                  932555                  12.8   \n",
       "3            3025891                  448665                  15.2   \n",
       "4           39237836                 4419167                  11.5   \n",
       "\n",
       "   under_18_poverty_count  under_18_poverty_pct  median_household_income  \n",
       "0                  222934                  20.9                    53958  \n",
       "1                   21459                  12.3                    79961  \n",
       "2                  283667                  17.6                    64652  \n",
       "3                  142855                  20.8                    51146  \n",
       "4                 1260145                  14.6                    83001  "
      ]
     },
     "execution_count": 28,
     "metadata": {},
     "output_type": "execute_result"
    }
   ],
   "source": [
    "eda_df = eda_df.merge(poverty_df,how = 'inner',on = 'state')\n",
    "eda_df.head()"
   ]
  },
  {
   "cell_type": "markdown",
   "metadata": {
    "id": "7Y40QaXT06ye"
   },
   "source": [
    "# Data Analysis & Results (EDA)"
   ]
  },
  {
   "cell_type": "markdown",
   "metadata": {
    "id": "Bgrsx8Yl06ye"
   },
   "source": [
    "Carry out EDA on your dataset(s); Describe in this section"
   ]
  },
  {
   "cell_type": "code",
   "execution_count": 29,
   "metadata": {
    "colab": {
     "base_uri": "https://localhost:8080/",
     "height": 356
    },
    "id": "_fUWY6ylr4zh",
    "outputId": "fdc29d9a-44e2-4038-c02a-0dfd1c2ecb8c"
   },
   "outputs": [
    {
     "data": {
      "text/plain": [
       "<AxesSubplot:xlabel='deaths', ylabel='Count'>"
      ]
     },
     "execution_count": 29,
     "metadata": {},
     "output_type": "execute_result"
    },
    {
     "data": {
      "image/png": "[encoded data removed]",
      "text/plain": [
       "<Figure size 720x360 with 2 Axes>"
      ]
     },
     "metadata": {
      "needs_background": "light"
     },
     "output_type": "display_data"
    }
   ],
   "source": [
    "#the cases and deaths are highly related to the population size so are needed to be normalized\n",
    "fig, axes = plt.subplots(1, 2, figsize=(10, 5))\n",
    "\n",
    "sns.histplot(ax=axes[0], data = eda_df, x = 'cases')\n",
    "\n",
    "sns.histplot(ax=axes[1], data = eda_df, x = 'deaths', color = 'mediumseagreen')"
   ]
  },
  {
   "cell_type": "code",
   "execution_count": 30,
   "metadata": {
    "colab": {
     "base_uri": "https://localhost:8080/",
     "height": 333
    },
    "id": "8IIEgX92qy1G",
    "outputId": "fd814b5e-e3d2-4bcd-85bb-deaa81e734f7"
   },
   "outputs": [
    {
     "data": {
      "text/html": [
       "<div>\n",
       "<style scoped>\n",
       "    .dataframe tbody tr th:only-of-type {\n",
       "        vertical-align: middle;\n",
       "    }\n",
       "\n",
       "    .dataframe tbody tr th {\n",
       "        vertical-align: top;\n",
       "    }\n",
       "\n",
       "    .dataframe thead th {\n",
       "        text-align: right;\n",
       "    }\n",
       "</style>\n",
       "<table border=\"1\" class=\"dataframe\">\n",
       "  <thead>\n",
       "    <tr style=\"text-align: right;\">\n",
       "      <th></th>\n",
       "      <th>state</th>\n",
       "      <th>date</th>\n",
       "      <th>cases</th>\n",
       "      <th>deaths</th>\n",
       "      <th>all_ages_poverty_pct</th>\n",
       "      <th>under_18_poverty_pct</th>\n",
       "      <th>median_household_income</th>\n",
       "      <th>avg_pop_estimate</th>\n",
       "      <th>cases_rate</th>\n",
       "      <th>deaths_rate</th>\n",
       "    </tr>\n",
       "  </thead>\n",
       "  <tbody>\n",
       "    <tr>\n",
       "      <th>0</th>\n",
       "      <td>Alabama</td>\n",
       "      <td>2022-05-20</td>\n",
       "      <td>1307883</td>\n",
       "      <td>19645</td>\n",
       "      <td>14.9</td>\n",
       "      <td>20.9</td>\n",
       "      <td>53958</td>\n",
       "      <td>5032340.0</td>\n",
       "      <td>0.259896</td>\n",
       "      <td>0.003904</td>\n",
       "    </tr>\n",
       "    <tr>\n",
       "      <th>1</th>\n",
       "      <td>Alaska</td>\n",
       "      <td>2022-05-20</td>\n",
       "      <td>256415</td>\n",
       "      <td>1246</td>\n",
       "      <td>9.6</td>\n",
       "      <td>12.3</td>\n",
       "      <td>79961</td>\n",
       "      <td>732557.0</td>\n",
       "      <td>0.350027</td>\n",
       "      <td>0.001701</td>\n",
       "    </tr>\n",
       "    <tr>\n",
       "      <th>2</th>\n",
       "      <td>Arizona</td>\n",
       "      <td>2022-05-20</td>\n",
       "      <td>2038129</td>\n",
       "      <td>30259</td>\n",
       "      <td>12.8</td>\n",
       "      <td>17.6</td>\n",
       "      <td>64652</td>\n",
       "      <td>7227151.0</td>\n",
       "      <td>0.282010</td>\n",
       "      <td>0.004187</td>\n",
       "    </tr>\n",
       "    <tr>\n",
       "      <th>3</th>\n",
       "      <td>Arkansas</td>\n",
       "      <td>2022-05-20</td>\n",
       "      <td>840151</td>\n",
       "      <td>11432</td>\n",
       "      <td>15.2</td>\n",
       "      <td>20.8</td>\n",
       "      <td>51146</td>\n",
       "      <td>3019061.5</td>\n",
       "      <td>0.278282</td>\n",
       "      <td>0.003787</td>\n",
       "    </tr>\n",
       "    <tr>\n",
       "      <th>4</th>\n",
       "      <td>California</td>\n",
       "      <td>2022-05-20</td>\n",
       "      <td>9449358</td>\n",
       "      <td>91203</td>\n",
       "      <td>11.5</td>\n",
       "      <td>14.6</td>\n",
       "      <td>83001</td>\n",
       "      <td>39368787.0</td>\n",
       "      <td>0.240022</td>\n",
       "      <td>0.002317</td>\n",
       "    </tr>\n",
       "  </tbody>\n",
       "</table>\n",
       "</div>"
      ],
      "text/plain": [
       "        state        date    cases  deaths  all_ages_poverty_pct  \\\n",
       "0     Alabama  2022-05-20  1307883   19645                  14.9   \n",
       "1      Alaska  2022-05-20   256415    1246                   9.6   \n",
       "2     Arizona  2022-05-20  2038129   30259                  12.8   \n",
       "3    Arkansas  2022-05-20   840151   11432                  15.2   \n",
       "4  California  2022-05-20  9449358   91203                  11.5   \n",
       "\n",
       "   under_18_poverty_pct  median_household_income  avg_pop_estimate  \\\n",
       "0                  20.9                    53958         5032340.0   \n",
       "1                  12.3                    79961          732557.0   \n",
       "2                  17.6                    64652         7227151.0   \n",
       "3                  20.8                    51146         3019061.5   \n",
       "4                  14.6                    83001        39368787.0   \n",
       "\n",
       "   cases_rate  deaths_rate  \n",
       "0    0.259896     0.003904  \n",
       "1    0.350027     0.001701  \n",
       "2    0.282010     0.004187  \n",
       "3    0.278282     0.003787  \n",
       "4    0.240022     0.002317  "
      ]
     },
     "execution_count": 30,
     "metadata": {},
     "output_type": "execute_result"
    }
   ],
   "source": [
    "#First, normalize the number of cases and deaths by states population\n",
    "eda_df['avg_pop_estimate'] = (eda_df['pop_estimate_2020'] + eda_df['pop_estimate_2021'])/2\n",
    "eda_df['cases_rate'] = eda_df['cases']/eda_df['avg_pop_estimate']\n",
    "eda_df['deaths_rate'] = eda_df['deaths']/eda_df['avg_pop_estimate']\n",
    "\n",
    "eda_df = eda_df.drop(columns=['pop_estimate_2020','pop_estimate_2021', 'under_18_poverty_count','all_ages_poverty_count'])\n",
    "eda_df.head()"
   ]
  },
  {
   "cell_type": "code",
   "execution_count": 31,
   "metadata": {
    "colab": {
     "base_uri": "https://localhost:8080/",
     "height": 356
    },
    "id": "va7kAqORUrmV",
    "outputId": "0cec732f-3fa2-4f40-b50d-3ff2b1562264"
   },
   "outputs": [
    {
     "data": {
      "text/plain": [
       "<AxesSubplot:xlabel='deaths_rate', ylabel='Count'>"
      ]
     },
     "execution_count": 31,
     "metadata": {},
     "output_type": "execute_result"
    },
    {
     "data": {
      "image/png": "[encoded data removed]",
      "text/plain": [
       "<Figure size 720x360 with 2 Axes>"
      ]
     },
     "metadata": {
      "needs_background": "light"
     },
     "output_type": "display_data"
    }
   ],
   "source": [
    "fig, axes = plt.subplots(1, 2, figsize=(10, 5))\n",
    "\n",
    "sns.histplot(ax=axes[0], data = eda_df, x = 'cases_rate')\n",
    "\n",
    "sns.histplot(ax=axes[1], data = eda_df, x = 'deaths_rate', color = 'mediumseagreen')"
   ]
  },
  {
   "cell_type": "code",
   "execution_count": 32,
   "metadata": {
    "colab": {
     "base_uri": "https://localhost:8080/",
     "height": 356
    },
    "id": "CbikcfwDr9hy",
    "outputId": "18f3abd8-e80d-44ea-d6c6-e6a2a1cbfb8f"
   },
   "outputs": [
    {
     "data": {
      "text/plain": [
       "<AxesSubplot:xlabel='median_household_income', ylabel='Count'>"
      ]
     },
     "execution_count": 32,
     "metadata": {},
     "output_type": "execute_result"
    },
    {
     "data": {
      "image/png": "[encoded data removed]",
      "text/plain": [
       "<Figure size 1080x360 with 3 Axes>"
      ]
     },
     "metadata": {
      "needs_background": "light"
     },
     "output_type": "display_data"
    }
   ],
   "source": [
    "#rest of the variables looks normal\n",
    "fig, axes = plt.subplots(1, 3, figsize=(15, 5))\n",
    "\n",
    "sns.histplot(ax=axes[0], data = eda_df, x = 'all_ages_poverty_pct')\n",
    "\n",
    "sns.histplot(ax=axes[1], data = eda_df, x = 'under_18_poverty_pct',color = 'mediumseagreen')\n",
    "\n",
    "sns.histplot(ax=axes[2], data = eda_df, x = 'median_household_income',color = 'wheat')"
   ]
  },
  {
   "cell_type": "code",
   "execution_count": 33,
   "metadata": {
    "colab": {
     "base_uri": "https://localhost:8080/",
     "height": 613
    },
    "id": "-97XkByAsLZ4",
    "outputId": "34f63f97-98a1-4356-da40-b43253682966"
   },
   "outputs": [
    {
     "data": {
      "image/png": "[encoded data removed]",
      "text/plain": [
       "<Figure size 504x504 with 25 Axes>"
      ]
     },
     "metadata": {},
     "output_type": "display_data"
    }
   ],
   "source": [
    "#Searching some possible relationship\n",
    "sns.set(rc={'figure.figsize':(7,7)})\n",
    "fig = pd.plotting.scatter_matrix(eda_df[['cases_rate','deaths_rate','all_ages_poverty_pct','under_18_poverty_pct','median_household_income']])\n",
    "for ax in fig.flatten():\n",
    "    ax.xaxis.label.set_rotation(90)\n",
    "    ax.yaxis.label.set_rotation(0)\n",
    "    ax.yaxis.label.set_ha('right')"
   ]
  },
  {
   "cell_type": "code",
   "execution_count": 34,
   "metadata": {
    "colab": {
     "base_uri": "https://localhost:8080/",
     "height": 900
    },
    "id": "WdbwEXz9u1Iw",
    "outputId": "b43392df-10f5-467b-9e16-2f1b4c76e69f"
   },
   "outputs": [
    {
     "data": {
      "text/plain": [
       "<AxesSubplot:xlabel='median_household_income', ylabel='deaths_rate'>"
      ]
     },
     "execution_count": 34,
     "metadata": {},
     "output_type": "execute_result"
    },
    {
     "data": {
      "image/png": "[encoded data removed]",
      "text/plain": [
       "<Figure size 720x1080 with 6 Axes>"
      ]
     },
     "metadata": {},
     "output_type": "display_data"
    }
   ],
   "source": [
    "#some relationships we are interseted in\n",
    "fig, axes = plt.subplots(3, 2, figsize=(10, 15))\n",
    "\n",
    "sns.regplot(ax = axes[0,0], data = eda_df, x = 'all_ages_poverty_pct',y = 'cases_rate')\n",
    "\n",
    "sns.regplot(ax = axes[0,1], data = eda_df, x = 'all_ages_poverty_pct',y = 'deaths_rate')\n",
    "\n",
    "sns.regplot(ax = axes[1,0], data = eda_df, x = 'under_18_poverty_pct',y = 'cases_rate')\n",
    "\n",
    "sns.regplot(ax = axes[1,1], data = eda_df, x = 'under_18_poverty_pct',y = 'deaths_rate')\n",
    "\n",
    "sns.regplot(ax = axes[2,0], data = eda_df, x = 'median_household_income',y = 'cases_rate')\n",
    "\n",
    "sns.regplot(ax = axes[2,1], data = eda_df, x = 'median_household_income',y = 'deaths_rate')"
   ]
  },
  {
   "cell_type": "markdown",
   "metadata": {
    "id": "pXNiiFfUYAHq"
   },
   "source": [
    "# Analysis and Observations\n",
    "First two-rows we are looking at the poverty_percentage against infection_rate and death rate. From this we can see that there's positive correlation between covid infection vs poverty percentage. What this mean is that for states that have higher poverty percentage there is also a higher number of infection.\n",
    "\n",
    "Next we look at infection rate against median household income. This time there is a negative correlation in the data. Meaning household with higher income are lesslikely to contract Covid. Across our data for 50 states, there is a 5% increases in infection rate for median income of \\$50,000 and \\$90,000.\n",
    "\n",
    "These graphs support our hypothesis that Covid have a higher impact on households that are in poverty."
   ]
  },
  {
   "cell_type": "code",
   "execution_count": 36,
   "metadata": {
    "colab": {
     "base_uri": "https://localhost:8080/"
    },
    "id": "eSNPaK6AcYEV",
    "outputId": "0afc72c6-0239-4afb-c210-fdb4ddfc0287"
   },
   "outputs": [
    {
     "name": "stdout",
     "output_type": "stream",
     "text": [
      "                            OLS Regression Results                            \n",
      "==============================================================================\n",
      "Dep. Variable:             cases_rate   R-squared:                       0.044\n",
      "Model:                            OLS   Adj. R-squared:                  0.025\n",
      "Method:                 Least Squares   F-statistic:                     2.257\n",
      "Date:                Sat, 21 May 2022   Prob (F-statistic):              0.139\n",
      "Time:                        00:30:21   Log-Likelihood:                 96.445\n",
      "No. Observations:                  51   AIC:                            -188.9\n",
      "Df Residuals:                      49   BIC:                            -185.0\n",
      "Df Model:                           1                                         \n",
      "Covariance Type:            nonrobust                                         \n",
      "========================================================================================\n",
      "                           coef    std err          t      P>|t|      [0.025      0.975]\n",
      "----------------------------------------------------------------------------------------\n",
      "Intercept                0.2173      0.024      9.008      0.000       0.169       0.266\n",
      "all_ages_poverty_pct     0.0030      0.002      1.502      0.139      -0.001       0.007\n",
      "==============================================================================\n",
      "Omnibus:                        4.839   Durbin-Watson:                   1.789\n",
      "Prob(Omnibus):                  0.089   Jarque-Bera (JB):                4.016\n",
      "Skew:                           0.445   Prob(JB):                        0.134\n",
      "Kurtosis:                       4.048   Cond. No.                         55.7\n",
      "==============================================================================\n",
      "\n",
      "Notes:\n",
      "[1] Standard Errors assume that the covariance matrix of the errors is correctly specified.\n"
     ]
    }
   ],
   "source": [
    "dependent, predictor = patsy.dmatrices('cases_rate ~ all_ages_poverty_pct', eda_df)\n",
    "model = sm.OLS(dependent,predictor)\n",
    "\n",
    "result = model.fit()\n",
    "print(result.summary())"
   ]
  },
  {
   "cell_type": "code",
   "execution_count": null,
   "metadata": {
    "id": "X9trfYWodyVG"
   },
   "outputs": [],
   "source": []
  }
 ],
 "metadata": {
  "colab": {
   "collapsed_sections": [],
   "name": "Copy of EDACheckpointGroup054Sp22.ipynb",
   "provenance": []
  },
  "kernelspec": {
   "display_name": "Python 3 (ipykernel)",
   "language": "python",
   "name": "python3"
  },
  "language_info": {
   "codemirror_mode": {
    "name": "ipython",
    "version": 3
   },
   "file_extension": ".py",
   "mimetype": "text/x-python",
   "name": "python",
   "nbconvert_exporter": "python",
   "pygments_lexer": "ipython3",
   "version": "3.9.7"
  }
 },
 "nbformat": 4,
 "nbformat_minor": 1
}

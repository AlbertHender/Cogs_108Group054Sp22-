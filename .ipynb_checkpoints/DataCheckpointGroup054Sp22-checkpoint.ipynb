{
 "cells": [
  {
   "cell_type": "markdown",
   "metadata": {},
   "source": [
    "# COGS 108 - Data Checkpoint"
   ]
  },
  {
   "cell_type": "markdown",
   "metadata": {},
   "source": [
    "# Names\n",
    "\n",
    "- Yixuan Jiao\n",
    "- Antonio (jose) Gomez\n",
    "- Dat Ta\n",
    "- Albert"
   ]
  },
  {
   "cell_type": "markdown",
   "metadata": {},
   "source": [
    "<a id='research_question'></a>\n",
    "# Research Question"
   ]
  },
  {
   "cell_type": "markdown",
   "metadata": {},
   "source": [
    "Do Americans living in poor households (income below U.S. Federal Poverty threshold) get/contract Covid at a higher rate?"
   ]
  },
  {
   "cell_type": "markdown",
   "metadata": {},
   "source": [
    "# Dataset(s)"
   ]
  },
  {
   "cell_type": "markdown",
   "metadata": {},
   "source": [
    "- Dataset Name: AH Provisional COVID-19 Deaths by Hospital Referral Region\n",
    "- Link to the dataset: https://data.cdc.gov/api/views/mqmc-4b9n/rows.csv?accessType=DOWNLOAD\n",
    "- Number of observations:103734"
   ]
  },
  {
   "cell_type": "markdown",
   "metadata": {},
   "source": [
    "- Dataset Name: NYT Covid 19 states data (us-states.csv)\n",
    "- Link to the dataset: https://github.com/nytimes/covid-19-data/blob/master/us-states.csv\n",
    "- Number of observations: 43910"
   ]
  },
  {
   "cell_type": "markdown",
   "metadata": {},
   "source": [
    "- Dataset Name: 2020-2021 estimate population by counties\n",
    "- Link to the dataset: https://www2.census.gov/programs-surveys/popest/datasets/2020-2021/counties/totals/co-est2021-alldata.csv\n",
    "- Number of observations: 3194"
   ]
  },
  {
   "cell_type": "markdown",
   "metadata": {},
   "source": [
    "- Dataset Name: 2020 Small Area Income and Poverty Estimates (SAIPE)\n",
    "- Link to the dataset: https://www.census.gov/data-tools/demo/saipe/#/?map_geoSelector=aa_c\n",
    "- Number of observations: 3195\n",
    "\n"
   ]
  },
  {
   "cell_type": "markdown",
   "metadata": {},
   "source": [
    "We will be using the poverty counts and percentage of each county and compare that with the number of covid cases across different counties throughout the country in order to determine if poverty affect covid cases. "
   ]
  },
  {
   "cell_type": "markdown",
   "metadata": {},
   "source": [
    "# Setup"
   ]
  },
  {
   "cell_type": "code",
   "execution_count": 1,
   "metadata": {},
   "outputs": [],
   "source": [
    "import pandas as pd\n",
    "import seaborn as sns"
   ]
  },
  {
   "cell_type": "markdown",
   "metadata": {},
   "source": [
    "# Data Cleaning"
   ]
  },
  {
   "cell_type": "markdown",
   "metadata": {},
   "source": [
    "Describe your data cleaning steps here."
   ]
  },
  {
   "cell_type": "code",
   "execution_count": null,
   "metadata": {},
   "outputs": [],
   "source": [
    "#Loading HRR covid deaths data\n",
    "covid_hrr =pd.read_csv('https://data.cdc.gov/api/views/mqmc-4b9n/rows.csv?accessType=DOWNLOAD')\n",
    "covid_hrr.head(2)"
   ]
  },
  {
   "cell_type": "code",
   "execution_count": null,
   "metadata": {},
   "outputs": [],
   "source": [
    "#showing the shape of dataset\n",
    "covid_hrr.shape"
   ]
  },
  {
   "cell_type": "code",
   "execution_count": null,
   "metadata": {},
   "outputs": [],
   "source": [
    "#showing columns infromation to determine which part of the data we need\n",
    "covid_hrr.columns"
   ]
  },
  {
   "cell_type": "code",
   "execution_count": null,
   "metadata": {},
   "outputs": [],
   "source": [
    "#selecting columns we are interested in\n",
    "covid_hrr = covid_hrr.iloc[:,[1,2,3,6,8,9,10]]\n",
    "covid_hrr.head()"
   ]
  },
  {
   "cell_type": "code",
   "execution_count": null,
   "metadata": {},
   "outputs": [],
   "source": [
    "#filtering date since covid-19 only outbreak in U.S. after 2020\n",
    "covid_hrr = covid_hrr[covid_hrr['MMWR Year'] >= 2020]\n",
    "#Drop rows with both Total Deaths and Covid-19 Deaths are NA since these rows can't give more information\n",
    "covid_hrr = covid_hrr.dropna(axis = 0, how = 'all', subset = ['Total Deaths','COVID-19 Deaths'])\n",
    "#replacing those NA to 0 since usually those NA comes from no available case reported\n",
    "covid_hrr[['Total Deaths','COVID-19 Deaths']] = covid_hrr[['Total Deaths','COVID-19 Deaths']].fillna(0)\n",
    "covid_hrr.isnull().values.any()"
   ]
  },
  {
   "cell_type": "code",
   "execution_count": null,
   "metadata": {},
   "outputs": [],
   "source": [
    "# Loading states covid data\n",
    "# A county covid dataset are also available under the same resporitory, we could retrieve it as we need following the same procedure like retrieving this one.\n",
    "covid_states = pd.read_csv('https://raw.githubusercontent.com/nytimes/covid-19-data/master/us-states.csv')\n",
    "covid_states.head()"
   ]
  },
  {
   "cell_type": "code",
   "execution_count": null,
   "metadata": {},
   "outputs": [],
   "source": [
    "covid_states.shape"
   ]
  },
  {
   "cell_type": "code",
   "execution_count": null,
   "metadata": {},
   "outputs": [],
   "source": [
    "#it is already very clean table\n",
    "covid_states.isnull().values.any()"
   ]
  },
  {
   "cell_type": "code",
   "execution_count": null,
   "metadata": {},
   "outputs": [],
   "source": [
    "#plotting some states' cases over data further more validate the dataset since this trend make sense and that reminds us to get some population dataset to normalize the count.\n",
    "covid_states_sub = covid_states[covid_states['state'].isin(['California','Florida','Alabama'])]\n",
    "states_lineplot = sns.lineplot(x = covid_states_sub['date'], y = covid_states_sub['cases'], hue = covid_states_sub['state'])"
   ]
  },
  {
   "cell_type": "code",
   "execution_count": null,
   "metadata": {},
   "outputs": [],
   "source": [
    "#Loading population dataset\n",
    "county_population = pd.read_csv('https://www2.census.gov/programs-surveys/popest/datasets/2020-2021/counties/totals/co-est2021-alldata.csv',encoding='latin-1')"
   ]
  },
  {
   "cell_type": "code",
   "execution_count": null,
   "metadata": {},
   "outputs": [],
   "source": [
    "county_population.head()"
   ]
  },
  {
   "cell_type": "code",
   "execution_count": null,
   "metadata": {},
   "outputs": [],
   "source": [
    "county_population.columns"
   ]
  },
  {
   "cell_type": "code",
   "execution_count": null,
   "metadata": {},
   "outputs": [],
   "source": [
    "county_population.shape"
   ]
  },
  {
   "cell_type": "code",
   "execution_count": null,
   "metadata": {},
   "outputs": [],
   "source": [
    "county_population = county_population.iloc[:,[5,6,8,9]]\n",
    "county_population.columns = ['state','county','pop_estimate_2020','pop_estimate_2020']\n",
    "county_population.head()"
   ]
  },
  {
   "cell_type": "code",
   "execution_count": null,
   "metadata": {},
   "outputs": [],
   "source": [
    "county_population.isnull().values.any()"
   ]
  },
  {
   "cell_type": "code",
   "execution_count": null,
   "metadata": {},
   "outputs": [],
   "source": [
    "#found some states' population stats in that we potentially need that\n",
    "state_population = county_population[county_population['county'] == county_population['state']]\n",
    "state_population.head()"
   ]
  },
  {
   "cell_type": "code",
   "execution_count": null,
   "metadata": {},
   "outputs": [],
   "source": [
    "#delete those rows from our county population dataset since those rows are not showing counties' population\n",
    "county_population = county_population[county_population['county'] != county_population['state']]"
   ]
  },
  {
   "cell_type": "code",
   "execution_count": null,
   "metadata": {},
   "outputs": [],
   "source": [
    "# loading in poverty dataset\n",
    "poverty_df = pd.read_csv('./SAIPESNC_06MAY22_22_34_21_89.csv')\n",
    "poverty_df.head()"
   ]
  },
  {
   "cell_type": "code",
   "execution_count": null,
   "metadata": {},
   "outputs": [],
   "source": [
    "poverty_df.shape, poverty_df.columns"
   ]
  },
  {
   "cell_type": "code",
   "execution_count": null,
   "metadata": {},
   "outputs": [],
   "source": [
    "# removing unecessary columns\n",
    "poverty_df = poverty_df.drop(columns=['Year','All Ages SAIPE Poverty Universe',\\\n",
    "                 'All Ages in Poverty Count LB 90%', 'All Ages in Poverty Count UB 90%',\\\n",
    "                 '90% Confidence Interval (All Ages in Poverty Count)',\n",
    "                 'All Ages in Poverty Percent LB 90%',\n",
    "                 'All Ages in Poverty Percent UB 90%',\n",
    "                 '90% Confidence Interval (All Ages in Poverty Percent)',\n",
    "                 'Under Age 18 SAIPE Poverty Universe',\n",
    "                 'Under Age 18 in Poverty Count LB 90%',\n",
    "                 'Under Age 18 in Poverty Count UB 90%',\n",
    "                 '90% Confidence Interval (Under Age 18 in Poverty Count)',\n",
    "                 'Under Age 18 in Poverty Percent LB 90%',\n",
    "                 'Under Age 18 in Poverty Percent UB 90%',\n",
    "                 '90% Confidence Interval (Under Age 18 in Poverty Percent)',\n",
    "                 'Ages 5 to 17 in Families SAIPE Poverty Universe',\n",
    "                 'Ages 5 to 17 in Families in Poverty Count',\n",
    "                 'Ages 5 to 17 in Families in Poverty Count LB 90%',\n",
    "                 'Ages 5 to 17 in Families in Poverty Count UB 90%',\n",
    "                 '90% Confidence Interval (Ages 5 to 17 in Families in Poverty Count)',\n",
    "                 'Ages 5 to 17 in Families in Poverty Percent',\n",
    "                 'Ages 5 to 17 in Families in Poverty Percent LB 90%',\n",
    "                 'Ages 5 to 17 in Families in Poverty Percent UB 90%',\n",
    "                 '90% Confidence Interval (Ages 5 to 17 in Families in Poverty Percent)',\n",
    "                 'Under Age 5 SAIPE Poverty Universe', 'Under Age 5 in Poverty Count',\n",
    "                 'Under Age 5 in Poverty Count LB 90%',\n",
    "                 'Under Age 5 in Poverty Count UB 90%',\n",
    "                 '90% Confidence Interval (Under Age 5 in Poverty Count)',\n",
    "                 'Under Age 5 in Poverty Percent',\n",
    "                 'Under Age 5 in Poverty Percent LB 90%',\n",
    "                 'Under Age 5 in Poverty Percent UB 90%',\n",
    "                 '90% Confidence Interval (Under Age 5 in Poverty Percent)',\n",
    "                 'Median Household Income in Dollars LB 90%',\n",
    "                 'Median Household Income in Dollars UB 90%',\n",
    "                 '90% Confidence Interval (Median Household Income in Dollars)'])\n",
    "\n",
    "poverty_df.head()"
   ]
  },
  {
   "cell_type": "code",
   "execution_count": null,
   "metadata": {},
   "outputs": [],
   "source": [
    "# filtering to only select state information\n",
    "state_id = []\n",
    "for x in range(57):\n",
    "    state_id.append(x * 1000)\n",
    "poverty_df = poverty_df[poverty_df.loc[:,'County ID'] % 1000 == 0]"
   ]
  },
  {
   "cell_type": "code",
   "execution_count": null,
   "metadata": {},
   "outputs": [],
   "source": [
    "poverty_df = poverty_df.reset_index()\n",
    "poverty_df"
   ]
  },
  {
   "cell_type": "markdown",
   "metadata": {},
   "source": [
    "In the future analysis, we should combing those covid and population dataset by:\n",
    "1. unify states/counties data, give each state/county a unique name or key that could be used for merging tables.\n",
    "2. For getting state-wise information, we need to sum up counties's data to form a new table \n",
    "3. finally we can use those information along with each state's poverty records for analysis\n",
    "\n"
   ]
  }
 ],
 "metadata": {
  "kernelspec": {
   "display_name": "Python 3 (ipykernel)",
   "language": "python",
   "name": "python3"
  },
  "language_info": {
   "codemirror_mode": {
    "name": "ipython",
    "version": 3
   },
   "file_extension": ".py",
   "mimetype": "text/x-python",
   "name": "python",
   "nbconvert_exporter": "python",
   "pygments_lexer": "ipython3",
   "version": "3.9.7"
  }
 },
 "nbformat": 4,
 "nbformat_minor": 2
}
